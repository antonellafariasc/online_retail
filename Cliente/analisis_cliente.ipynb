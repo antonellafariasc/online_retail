{
 "cells": [
  {
   "cell_type": "markdown",
   "id": "1cf69158",
   "metadata": {},
   "source": [
    "### Documento para analizar el comportamiento del dato nulo en 'Customer_ID' del dataset"
   ]
  },
  {
   "cell_type": "code",
   "execution_count": 19,
   "id": "4f18afe0",
   "metadata": {},
   "outputs": [],
   "source": [
    "import pandas as pd\n",
    "import numpy as np"
   ]
  },
  {
   "cell_type": "code",
   "execution_count": 20,
   "id": "e83d2a50",
   "metadata": {},
   "outputs": [],
   "source": [
    "# Update the file path to the correct location\n",
    "df = pd.read_csv('online_retail.csv')"
   ]
  },
  {
   "cell_type": "code",
   "execution_count": 21,
   "id": "7efd85fa",
   "metadata": {},
   "outputs": [
    {
     "data": {
      "text/html": [
       "<div>\n",
       "<style scoped>\n",
       "    .dataframe tbody tr th:only-of-type {\n",
       "        vertical-align: middle;\n",
       "    }\n",
       "\n",
       "    .dataframe tbody tr th {\n",
       "        vertical-align: top;\n",
       "    }\n",
       "\n",
       "    .dataframe thead th {\n",
       "        text-align: right;\n",
       "    }\n",
       "</style>\n",
       "<table border=\"1\" class=\"dataframe\">\n",
       "  <thead>\n",
       "    <tr style=\"text-align: right;\">\n",
       "      <th></th>\n",
       "      <th>InvoiceNo</th>\n",
       "      <th>StockCode</th>\n",
       "      <th>Description</th>\n",
       "      <th>Quantity</th>\n",
       "      <th>InvoiceDate</th>\n",
       "      <th>UnitPrice</th>\n",
       "      <th>CustomerID</th>\n",
       "      <th>Country</th>\n",
       "    </tr>\n",
       "  </thead>\n",
       "  <tbody>\n",
       "    <tr>\n",
       "      <th>0</th>\n",
       "      <td>536365</td>\n",
       "      <td>85123A</td>\n",
       "      <td>WHITE HANGING HEART T-LIGHT HOLDER</td>\n",
       "      <td>6</td>\n",
       "      <td>2010-12-01 08:26:00</td>\n",
       "      <td>2.55</td>\n",
       "      <td>17850.0</td>\n",
       "      <td>United Kingdom</td>\n",
       "    </tr>\n",
       "    <tr>\n",
       "      <th>1</th>\n",
       "      <td>536365</td>\n",
       "      <td>71053</td>\n",
       "      <td>WHITE METAL LANTERN</td>\n",
       "      <td>6</td>\n",
       "      <td>2010-12-01 08:26:00</td>\n",
       "      <td>3.39</td>\n",
       "      <td>17850.0</td>\n",
       "      <td>United Kingdom</td>\n",
       "    </tr>\n",
       "    <tr>\n",
       "      <th>2</th>\n",
       "      <td>536365</td>\n",
       "      <td>84406B</td>\n",
       "      <td>CREAM CUPID HEARTS COAT HANGER</td>\n",
       "      <td>8</td>\n",
       "      <td>2010-12-01 08:26:00</td>\n",
       "      <td>2.75</td>\n",
       "      <td>17850.0</td>\n",
       "      <td>United Kingdom</td>\n",
       "    </tr>\n",
       "    <tr>\n",
       "      <th>3</th>\n",
       "      <td>536365</td>\n",
       "      <td>84029G</td>\n",
       "      <td>KNITTED UNION FLAG HOT WATER BOTTLE</td>\n",
       "      <td>6</td>\n",
       "      <td>2010-12-01 08:26:00</td>\n",
       "      <td>3.39</td>\n",
       "      <td>17850.0</td>\n",
       "      <td>United Kingdom</td>\n",
       "    </tr>\n",
       "    <tr>\n",
       "      <th>4</th>\n",
       "      <td>536365</td>\n",
       "      <td>84029E</td>\n",
       "      <td>RED WOOLLY HOTTIE WHITE HEART.</td>\n",
       "      <td>6</td>\n",
       "      <td>2010-12-01 08:26:00</td>\n",
       "      <td>3.39</td>\n",
       "      <td>17850.0</td>\n",
       "      <td>United Kingdom</td>\n",
       "    </tr>\n",
       "  </tbody>\n",
       "</table>\n",
       "</div>"
      ],
      "text/plain": [
       "  InvoiceNo StockCode                          Description  Quantity  \\\n",
       "0    536365    85123A   WHITE HANGING HEART T-LIGHT HOLDER         6   \n",
       "1    536365     71053                  WHITE METAL LANTERN         6   \n",
       "2    536365    84406B       CREAM CUPID HEARTS COAT HANGER         8   \n",
       "3    536365    84029G  KNITTED UNION FLAG HOT WATER BOTTLE         6   \n",
       "4    536365    84029E       RED WOOLLY HOTTIE WHITE HEART.         6   \n",
       "\n",
       "           InvoiceDate  UnitPrice  CustomerID         Country  \n",
       "0  2010-12-01 08:26:00       2.55     17850.0  United Kingdom  \n",
       "1  2010-12-01 08:26:00       3.39     17850.0  United Kingdom  \n",
       "2  2010-12-01 08:26:00       2.75     17850.0  United Kingdom  \n",
       "3  2010-12-01 08:26:00       3.39     17850.0  United Kingdom  \n",
       "4  2010-12-01 08:26:00       3.39     17850.0  United Kingdom  "
      ]
     },
     "execution_count": 21,
     "metadata": {},
     "output_type": "execute_result"
    }
   ],
   "source": [
    "df.head()"
   ]
  },
  {
   "cell_type": "code",
   "execution_count": 22,
   "id": "951d3e32",
   "metadata": {},
   "outputs": [
    {
     "name": "stdout",
     "output_type": "stream",
     "text": [
      "<class 'pandas.core.frame.DataFrame'>\n",
      "RangeIndex: 541909 entries, 0 to 541908\n",
      "Data columns (total 8 columns):\n",
      " #   Column       Non-Null Count   Dtype  \n",
      "---  ------       --------------   -----  \n",
      " 0   InvoiceNo    541909 non-null  object \n",
      " 1   StockCode    541909 non-null  object \n",
      " 2   Description  540455 non-null  object \n",
      " 3   Quantity     541909 non-null  int64  \n",
      " 4   InvoiceDate  541909 non-null  object \n",
      " 5   UnitPrice    541909 non-null  float64\n",
      " 6   CustomerID   406829 non-null  float64\n",
      " 7   Country      541909 non-null  object \n",
      "dtypes: float64(2), int64(1), object(5)\n",
      "memory usage: 33.1+ MB\n"
     ]
    }
   ],
   "source": [
    "df.info()"
   ]
  },
  {
   "cell_type": "code",
   "execution_count": 23,
   "id": "97f231ce",
   "metadata": {},
   "outputs": [],
   "source": [
    "# estandarizar el formato de la columna 'InvoiceDate'\n",
    "df['InvoiceDate'] = pd.to_datetime(df['InvoiceDate'])"
   ]
  },
  {
   "cell_type": "code",
   "execution_count": 24,
   "id": "349a8b17",
   "metadata": {},
   "outputs": [],
   "source": [
    "# Estandarizar el formato de la columna 'CustomerID' a int\n",
    "df['CustomerID'] = df['CustomerID'].astype('Int64')"
   ]
  },
  {
   "cell_type": "code",
   "execution_count": 25,
   "id": "4345f09e",
   "metadata": {},
   "outputs": [],
   "source": [
    "# Crear un dataframe con los valores nulos de 'CustomerID'\n",
    "df_nulls = df[df['CustomerID'].isnull()]"
   ]
  },
  {
   "cell_type": "code",
   "execution_count": 26,
   "id": "e1e0329c",
   "metadata": {},
   "outputs": [
    {
     "name": "stdout",
     "output_type": "stream",
     "text": [
      "El numero de columnas con valores nulos en CustomerID es: 135080\n"
     ]
    }
   ],
   "source": [
    "df_nulls.shape\n",
    "print(f'El numero de columnas con valores nulos en CustomerID es: {df_nulls.shape[0]}')"
   ]
  },
  {
   "cell_type": "code",
   "execution_count": 28,
   "id": "c31ffc92",
   "metadata": {},
   "outputs": [
    {
     "data": {
      "text/plain": [
       "Country\n",
       "United Kingdom    133600\n",
       "EIRE                 711\n",
       "Hong Kong            288\n",
       "Unspecified          202\n",
       "Switzerland          125\n",
       "France                66\n",
       "Israel                47\n",
       "Portugal              39\n",
       "Bahrain                2\n",
       "Name: count, dtype: int64"
      ]
     },
     "execution_count": 28,
     "metadata": {},
     "output_type": "execute_result"
    }
   ],
   "source": [
    "# Cuantas veces sale cada pais en df_nulls\n",
    "df_nulls['Country'].value_counts()\n"
   ]
  },
  {
   "cell_type": "code",
   "execution_count": 29,
   "id": "5b51d4a0",
   "metadata": {},
   "outputs": [
    {
     "data": {
      "text/plain": [
       "Description\n",
       "WHITE HANGING HEART T-LIGHT HOLDER     2369\n",
       "REGENCY CAKESTAND 3 TIER               2200\n",
       "JUMBO BAG RED RETROSPOT                2159\n",
       "PARTY BUNTING                          1727\n",
       "LUNCH BAG RED RETROSPOT                1638\n",
       "                                       ... \n",
       "Missing                                   1\n",
       "historic computer difference?....se       1\n",
       "DUSTY PINK CHRISTMAS TREE 30CM            1\n",
       "WRAP BLUE RUSSIAN FOLKART                 1\n",
       "PINK BERTIE MOBILE PHONE CHARM            1\n",
       "Name: count, Length: 4223, dtype: int64"
      ]
     },
     "execution_count": 29,
     "metadata": {},
     "output_type": "execute_result"
    }
   ],
   "source": [
    "#Cuentame los tipos de datos de las columnas descripcion.\n",
    "df['Description'].value_counts()"
   ]
  },
  {
   "cell_type": "code",
   "execution_count": 31,
   "id": "1e4ba9ba",
   "metadata": {},
   "outputs": [
    {
     "data": {
      "text/html": [
       "<div>\n",
       "<style scoped>\n",
       "    .dataframe tbody tr th:only-of-type {\n",
       "        vertical-align: middle;\n",
       "    }\n",
       "\n",
       "    .dataframe tbody tr th {\n",
       "        vertical-align: top;\n",
       "    }\n",
       "\n",
       "    .dataframe thead th {\n",
       "        text-align: right;\n",
       "    }\n",
       "</style>\n",
       "<table border=\"1\" class=\"dataframe\">\n",
       "  <thead>\n",
       "    <tr style=\"text-align: right;\">\n",
       "      <th></th>\n",
       "      <th>InvoiceNo</th>\n",
       "      <th>StockCode</th>\n",
       "      <th>Description</th>\n",
       "      <th>Quantity</th>\n",
       "      <th>InvoiceDate</th>\n",
       "      <th>UnitPrice</th>\n",
       "      <th>CustomerID</th>\n",
       "      <th>Country</th>\n",
       "    </tr>\n",
       "  </thead>\n",
       "  <tbody>\n",
       "    <tr>\n",
       "      <th>622</th>\n",
       "      <td>536414</td>\n",
       "      <td>22139</td>\n",
       "      <td>NaN</td>\n",
       "      <td>56</td>\n",
       "      <td>2010-12-01 11:52:00</td>\n",
       "      <td>0.00</td>\n",
       "      <td>&lt;NA&gt;</td>\n",
       "      <td>United Kingdom</td>\n",
       "    </tr>\n",
       "    <tr>\n",
       "      <th>1443</th>\n",
       "      <td>536544</td>\n",
       "      <td>21773</td>\n",
       "      <td>DECORATIVE ROSE BATHROOM BOTTLE</td>\n",
       "      <td>1</td>\n",
       "      <td>2010-12-01 14:32:00</td>\n",
       "      <td>2.51</td>\n",
       "      <td>&lt;NA&gt;</td>\n",
       "      <td>United Kingdom</td>\n",
       "    </tr>\n",
       "    <tr>\n",
       "      <th>1444</th>\n",
       "      <td>536544</td>\n",
       "      <td>21774</td>\n",
       "      <td>DECORATIVE CATS BATHROOM BOTTLE</td>\n",
       "      <td>2</td>\n",
       "      <td>2010-12-01 14:32:00</td>\n",
       "      <td>2.51</td>\n",
       "      <td>&lt;NA&gt;</td>\n",
       "      <td>United Kingdom</td>\n",
       "    </tr>\n",
       "    <tr>\n",
       "      <th>1445</th>\n",
       "      <td>536544</td>\n",
       "      <td>21786</td>\n",
       "      <td>POLKADOT RAIN HAT</td>\n",
       "      <td>4</td>\n",
       "      <td>2010-12-01 14:32:00</td>\n",
       "      <td>0.85</td>\n",
       "      <td>&lt;NA&gt;</td>\n",
       "      <td>United Kingdom</td>\n",
       "    </tr>\n",
       "    <tr>\n",
       "      <th>1446</th>\n",
       "      <td>536544</td>\n",
       "      <td>21787</td>\n",
       "      <td>RAIN PONCHO RETROSPOT</td>\n",
       "      <td>2</td>\n",
       "      <td>2010-12-01 14:32:00</td>\n",
       "      <td>1.66</td>\n",
       "      <td>&lt;NA&gt;</td>\n",
       "      <td>United Kingdom</td>\n",
       "    </tr>\n",
       "    <tr>\n",
       "      <th>1447</th>\n",
       "      <td>536544</td>\n",
       "      <td>21790</td>\n",
       "      <td>VINTAGE SNAP CARDS</td>\n",
       "      <td>9</td>\n",
       "      <td>2010-12-01 14:32:00</td>\n",
       "      <td>1.66</td>\n",
       "      <td>&lt;NA&gt;</td>\n",
       "      <td>United Kingdom</td>\n",
       "    </tr>\n",
       "    <tr>\n",
       "      <th>1448</th>\n",
       "      <td>536544</td>\n",
       "      <td>21791</td>\n",
       "      <td>VINTAGE HEADS AND TAILS CARD GAME</td>\n",
       "      <td>2</td>\n",
       "      <td>2010-12-01 14:32:00</td>\n",
       "      <td>2.51</td>\n",
       "      <td>&lt;NA&gt;</td>\n",
       "      <td>United Kingdom</td>\n",
       "    </tr>\n",
       "    <tr>\n",
       "      <th>1449</th>\n",
       "      <td>536544</td>\n",
       "      <td>21801</td>\n",
       "      <td>CHRISTMAS TREE DECORATION WITH BELL</td>\n",
       "      <td>10</td>\n",
       "      <td>2010-12-01 14:32:00</td>\n",
       "      <td>0.43</td>\n",
       "      <td>&lt;NA&gt;</td>\n",
       "      <td>United Kingdom</td>\n",
       "    </tr>\n",
       "    <tr>\n",
       "      <th>1450</th>\n",
       "      <td>536544</td>\n",
       "      <td>21802</td>\n",
       "      <td>CHRISTMAS TREE HEART DECORATION</td>\n",
       "      <td>9</td>\n",
       "      <td>2010-12-01 14:32:00</td>\n",
       "      <td>0.43</td>\n",
       "      <td>&lt;NA&gt;</td>\n",
       "      <td>United Kingdom</td>\n",
       "    </tr>\n",
       "    <tr>\n",
       "      <th>1451</th>\n",
       "      <td>536544</td>\n",
       "      <td>21803</td>\n",
       "      <td>CHRISTMAS TREE STAR DECORATION</td>\n",
       "      <td>11</td>\n",
       "      <td>2010-12-01 14:32:00</td>\n",
       "      <td>0.43</td>\n",
       "      <td>&lt;NA&gt;</td>\n",
       "      <td>United Kingdom</td>\n",
       "    </tr>\n",
       "  </tbody>\n",
       "</table>\n",
       "</div>"
      ],
      "text/plain": [
       "     InvoiceNo StockCode                          Description  Quantity  \\\n",
       "622     536414     22139                                  NaN        56   \n",
       "1443    536544     21773      DECORATIVE ROSE BATHROOM BOTTLE         1   \n",
       "1444    536544     21774      DECORATIVE CATS BATHROOM BOTTLE         2   \n",
       "1445    536544     21786                   POLKADOT RAIN HAT          4   \n",
       "1446    536544     21787                RAIN PONCHO RETROSPOT         2   \n",
       "1447    536544     21790                   VINTAGE SNAP CARDS         9   \n",
       "1448    536544     21791   VINTAGE HEADS AND TAILS CARD GAME          2   \n",
       "1449    536544     21801  CHRISTMAS TREE DECORATION WITH BELL        10   \n",
       "1450    536544     21802      CHRISTMAS TREE HEART DECORATION         9   \n",
       "1451    536544     21803       CHRISTMAS TREE STAR DECORATION        11   \n",
       "\n",
       "             InvoiceDate  UnitPrice  CustomerID         Country  \n",
       "622  2010-12-01 11:52:00       0.00        <NA>  United Kingdom  \n",
       "1443 2010-12-01 14:32:00       2.51        <NA>  United Kingdom  \n",
       "1444 2010-12-01 14:32:00       2.51        <NA>  United Kingdom  \n",
       "1445 2010-12-01 14:32:00       0.85        <NA>  United Kingdom  \n",
       "1446 2010-12-01 14:32:00       1.66        <NA>  United Kingdom  \n",
       "1447 2010-12-01 14:32:00       1.66        <NA>  United Kingdom  \n",
       "1448 2010-12-01 14:32:00       2.51        <NA>  United Kingdom  \n",
       "1449 2010-12-01 14:32:00       0.43        <NA>  United Kingdom  \n",
       "1450 2010-12-01 14:32:00       0.43        <NA>  United Kingdom  \n",
       "1451 2010-12-01 14:32:00       0.43        <NA>  United Kingdom  "
      ]
     },
     "execution_count": 31,
     "metadata": {},
     "output_type": "execute_result"
    }
   ],
   "source": [
    "df_nulls.head(10)"
   ]
  },
  {
   "cell_type": "code",
   "execution_count": 36,
   "id": "5d981976",
   "metadata": {},
   "outputs": [
    {
     "data": {
      "text/plain": [
       "InvoiceNo\n",
       "573585    1114\n",
       "581219     749\n",
       "581492     731\n",
       "580729     721\n",
       "558475     705\n",
       "          ... \n",
       "551460       1\n",
       "551461       1\n",
       "551506       1\n",
       "551538       1\n",
       "556122       1\n",
       "Name: count, Length: 3710, dtype: int64"
      ]
     },
     "execution_count": 36,
     "metadata": {},
     "output_type": "execute_result"
    }
   ],
   "source": [
    "#Cuantas veces sale cada InoviceNo en df_nulls\n",
    "df_nulls['InvoiceNo'].value_counts()"
   ]
  },
  {
   "cell_type": "code",
   "execution_count": 41,
   "id": "50cfa17e",
   "metadata": {},
   "outputs": [
    {
     "name": "stdout",
     "output_type": "stream",
     "text": [
      "El numero de filas con valores negativos en Quantity es: 10624\n"
     ]
    }
   ],
   "source": [
    "#Dime cuales son los valores cuyo quantity es negativo\n",
    "df_negatives = df[df['Quantity'] < 0]\n",
    "df_negatives.shape\n",
    "print(f'El numero de filas con valores negativos en Quantity es: {df_negatives.shape[0]}')"
   ]
  },
  {
   "cell_type": "code",
   "execution_count": 43,
   "id": "6c900b6c",
   "metadata": {},
   "outputs": [
    {
     "data": {
      "text/plain": [
       "Description\n",
       "DOTCOM POSTAGE                       693\n",
       "JUMBO BAG RED RETROSPOT              497\n",
       "JUMBO STORAGE BAG SUKI               414\n",
       "JUMBO SHOPPER VINTAGE RED PAISLEY    388\n",
       "JUMBO BAG WOODLAND ANIMALS           372\n",
       "                                    ... \n",
       "EAU DE NILE JEWELLED PHOTOFRAME        1\n",
       "WHITE VINTAGE CRYSTAL BRACELET         1\n",
       "RUBY GLASS NECKLACE 42\"                1\n",
       "PURPLE LAS VEGAS BRACELET ROUND        1\n",
       "BLUE LEAVES AND BEADS PHONE CHARM      1\n",
       "Name: count, Length: 3554, dtype: int64"
      ]
     },
     "execution_count": 43,
     "metadata": {},
     "output_type": "execute_result"
    }
   ],
   "source": [
    "#Cuales y cuantos tipos de descripcion hay en df_nulls\n",
    "df_nulls['Description'].value_counts()"
   ]
  },
  {
   "cell_type": "code",
   "execution_count": 44,
   "id": "aaea2932",
   "metadata": {},
   "outputs": [
    {
     "data": {
      "text/plain": [
       "StockCode\n",
       "DOT       694\n",
       "85099B    497\n",
       "21931     414\n",
       "22411     388\n",
       "20712     372\n",
       "         ... \n",
       "85195       1\n",
       "47574B      1\n",
       "16053       1\n",
       "16244B      1\n",
       "84859B      1\n",
       "Name: count, Length: 3810, dtype: int64"
      ]
     },
     "execution_count": 44,
     "metadata": {},
     "output_type": "execute_result"
    }
   ],
   "source": [
    "#dime cuantos stockcode hay en df_nulls\n",
    "df_nulls['StockCode'].value_counts()"
   ]
  },
  {
   "cell_type": "code",
   "execution_count": 46,
   "id": "e0079c85",
   "metadata": {},
   "outputs": [
    {
     "data": {
      "text/html": [
       "<div>\n",
       "<style scoped>\n",
       "    .dataframe tbody tr th:only-of-type {\n",
       "        vertical-align: middle;\n",
       "    }\n",
       "\n",
       "    .dataframe tbody tr th {\n",
       "        vertical-align: top;\n",
       "    }\n",
       "\n",
       "    .dataframe thead th {\n",
       "        text-align: right;\n",
       "    }\n",
       "</style>\n",
       "<table border=\"1\" class=\"dataframe\">\n",
       "  <thead>\n",
       "    <tr style=\"text-align: right;\">\n",
       "      <th></th>\n",
       "      <th>InvoiceNo</th>\n",
       "      <th>StockCode</th>\n",
       "      <th>Description</th>\n",
       "      <th>Quantity</th>\n",
       "      <th>InvoiceDate</th>\n",
       "      <th>UnitPrice</th>\n",
       "      <th>CustomerID</th>\n",
       "      <th>Country</th>\n",
       "    </tr>\n",
       "  </thead>\n",
       "  <tbody>\n",
       "    <tr>\n",
       "      <th>1814</th>\n",
       "      <td>536544</td>\n",
       "      <td>DOT</td>\n",
       "      <td>DOTCOM POSTAGE</td>\n",
       "      <td>1</td>\n",
       "      <td>2010-12-01 14:32:00</td>\n",
       "      <td>569.77</td>\n",
       "      <td>&lt;NA&gt;</td>\n",
       "      <td>United Kingdom</td>\n",
       "    </tr>\n",
       "    <tr>\n",
       "      <th>3041</th>\n",
       "      <td>536592</td>\n",
       "      <td>DOT</td>\n",
       "      <td>DOTCOM POSTAGE</td>\n",
       "      <td>1</td>\n",
       "      <td>2010-12-01 17:06:00</td>\n",
       "      <td>607.49</td>\n",
       "      <td>&lt;NA&gt;</td>\n",
       "      <td>United Kingdom</td>\n",
       "    </tr>\n",
       "    <tr>\n",
       "      <th>5450</th>\n",
       "      <td>536862</td>\n",
       "      <td>DOT</td>\n",
       "      <td>DOTCOM POSTAGE</td>\n",
       "      <td>1</td>\n",
       "      <td>2010-12-03 11:13:00</td>\n",
       "      <td>254.43</td>\n",
       "      <td>&lt;NA&gt;</td>\n",
       "      <td>United Kingdom</td>\n",
       "    </tr>\n",
       "    <tr>\n",
       "      <th>5545</th>\n",
       "      <td>536864</td>\n",
       "      <td>DOT</td>\n",
       "      <td>DOTCOM POSTAGE</td>\n",
       "      <td>1</td>\n",
       "      <td>2010-12-03 11:27:00</td>\n",
       "      <td>121.06</td>\n",
       "      <td>&lt;NA&gt;</td>\n",
       "      <td>United Kingdom</td>\n",
       "    </tr>\n",
       "    <tr>\n",
       "      <th>5685</th>\n",
       "      <td>536865</td>\n",
       "      <td>DOT</td>\n",
       "      <td>DOTCOM POSTAGE</td>\n",
       "      <td>1</td>\n",
       "      <td>2010-12-03 11:28:00</td>\n",
       "      <td>498.47</td>\n",
       "      <td>&lt;NA&gt;</td>\n",
       "      <td>United Kingdom</td>\n",
       "    </tr>\n",
       "    <tr>\n",
       "      <th>...</th>\n",
       "      <td>...</td>\n",
       "      <td>...</td>\n",
       "      <td>...</td>\n",
       "      <td>...</td>\n",
       "      <td>...</td>\n",
       "      <td>...</td>\n",
       "      <td>...</td>\n",
       "      <td>...</td>\n",
       "    </tr>\n",
       "    <tr>\n",
       "      <th>536834</th>\n",
       "      <td>581219</td>\n",
       "      <td>DOT</td>\n",
       "      <td>DOTCOM POSTAGE</td>\n",
       "      <td>1</td>\n",
       "      <td>2011-12-08 09:28:00</td>\n",
       "      <td>1008.96</td>\n",
       "      <td>&lt;NA&gt;</td>\n",
       "      <td>United Kingdom</td>\n",
       "    </tr>\n",
       "    <tr>\n",
       "      <th>537254</th>\n",
       "      <td>581238</td>\n",
       "      <td>DOT</td>\n",
       "      <td>DOTCOM POSTAGE</td>\n",
       "      <td>1</td>\n",
       "      <td>2011-12-08 10:53:00</td>\n",
       "      <td>1683.75</td>\n",
       "      <td>&lt;NA&gt;</td>\n",
       "      <td>United Kingdom</td>\n",
       "    </tr>\n",
       "    <tr>\n",
       "      <th>539368</th>\n",
       "      <td>581439</td>\n",
       "      <td>DOT</td>\n",
       "      <td>DOTCOM POSTAGE</td>\n",
       "      <td>1</td>\n",
       "      <td>2011-12-08 16:30:00</td>\n",
       "      <td>938.59</td>\n",
       "      <td>&lt;NA&gt;</td>\n",
       "      <td>United Kingdom</td>\n",
       "    </tr>\n",
       "    <tr>\n",
       "      <th>540908</th>\n",
       "      <td>581492</td>\n",
       "      <td>DOT</td>\n",
       "      <td>DOTCOM POSTAGE</td>\n",
       "      <td>1</td>\n",
       "      <td>2011-12-09 10:03:00</td>\n",
       "      <td>933.17</td>\n",
       "      <td>&lt;NA&gt;</td>\n",
       "      <td>United Kingdom</td>\n",
       "    </tr>\n",
       "    <tr>\n",
       "      <th>541540</th>\n",
       "      <td>581498</td>\n",
       "      <td>DOT</td>\n",
       "      <td>DOTCOM POSTAGE</td>\n",
       "      <td>1</td>\n",
       "      <td>2011-12-09 10:26:00</td>\n",
       "      <td>1714.17</td>\n",
       "      <td>&lt;NA&gt;</td>\n",
       "      <td>United Kingdom</td>\n",
       "    </tr>\n",
       "  </tbody>\n",
       "</table>\n",
       "<p>693 rows × 8 columns</p>\n",
       "</div>"
      ],
      "text/plain": [
       "       InvoiceNo StockCode     Description  Quantity         InvoiceDate  \\\n",
       "1814      536544       DOT  DOTCOM POSTAGE         1 2010-12-01 14:32:00   \n",
       "3041      536592       DOT  DOTCOM POSTAGE         1 2010-12-01 17:06:00   \n",
       "5450      536862       DOT  DOTCOM POSTAGE         1 2010-12-03 11:13:00   \n",
       "5545      536864       DOT  DOTCOM POSTAGE         1 2010-12-03 11:27:00   \n",
       "5685      536865       DOT  DOTCOM POSTAGE         1 2010-12-03 11:28:00   \n",
       "...          ...       ...             ...       ...                 ...   \n",
       "536834    581219       DOT  DOTCOM POSTAGE         1 2011-12-08 09:28:00   \n",
       "537254    581238       DOT  DOTCOM POSTAGE         1 2011-12-08 10:53:00   \n",
       "539368    581439       DOT  DOTCOM POSTAGE         1 2011-12-08 16:30:00   \n",
       "540908    581492       DOT  DOTCOM POSTAGE         1 2011-12-09 10:03:00   \n",
       "541540    581498       DOT  DOTCOM POSTAGE         1 2011-12-09 10:26:00   \n",
       "\n",
       "        UnitPrice  CustomerID         Country  \n",
       "1814       569.77        <NA>  United Kingdom  \n",
       "3041       607.49        <NA>  United Kingdom  \n",
       "5450       254.43        <NA>  United Kingdom  \n",
       "5545       121.06        <NA>  United Kingdom  \n",
       "5685       498.47        <NA>  United Kingdom  \n",
       "...           ...         ...             ...  \n",
       "536834    1008.96        <NA>  United Kingdom  \n",
       "537254    1683.75        <NA>  United Kingdom  \n",
       "539368     938.59        <NA>  United Kingdom  \n",
       "540908     933.17        <NA>  United Kingdom  \n",
       "541540    1714.17        <NA>  United Kingdom  \n",
       "\n",
       "[693 rows x 8 columns]"
      ]
     },
     "execution_count": 46,
     "metadata": {},
     "output_type": "execute_result"
    }
   ],
   "source": [
    "#Muestrame los datos cuya descripcion sea 'DOTCOM POSTAGE' en el df_nulls\n",
    "df_nulls[df_nulls['Description'] == 'DOTCOM POSTAGE']"
   ]
  },
  {
   "cell_type": "markdown",
   "id": "059e7413",
   "metadata": {},
   "source": [
    "## Resumen \n",
    "1. Existen demasiados datos de 'Descripcion' por lo que diferencias cual es servicio y productos puede ser muy dificil porque tendriamos que hacer esa clasificiacion individualmente. (No veo necesario excluirlo porque a final fue una venta para la empresa)\n",
    "2. Existe Invoices que se repiten para varios productos, por lo que se podria determinar que cada invoices le pertenece al mismo CustomerID.\n",
    "3. Existen 10.624 datos con cantidades negativo. Si usamos estos el InvoiceNo para rellenar el CustomerID, no vamos a poder determinar cual compra fue una devolucion o una compra efectiva, dado que cada invoiceNo es diferente. \n",
    "4. Se podria crear una nueva columna donde se agrupen los valores cuya descripcion y valor coincida, quitando el negativo, solo para ver los que son devolucion antes de rellenar los valores de CustomerID\n"
   ]
  },
  {
   "cell_type": "code",
   "execution_count": 23,
   "id": "4928ddd4",
   "metadata": {},
   "outputs": [
    {
     "name": "stdout",
     "output_type": "stream",
     "text": [
      "<class 'pandas.core.frame.DataFrame'>\n",
      "Index: 135080 entries, 622 to 541540\n",
      "Data columns (total 8 columns):\n",
      " #   Column       Non-Null Count   Dtype         \n",
      "---  ------       --------------   -----         \n",
      " 0   InvoiceNo    135080 non-null  object        \n",
      " 1   StockCode    135080 non-null  object        \n",
      " 2   Description  133626 non-null  object        \n",
      " 3   Quantity     135080 non-null  int64         \n",
      " 4   InvoiceDate  135080 non-null  datetime64[ns]\n",
      " 5   UnitPrice    135080 non-null  float64       \n",
      " 6   CustomerID   0 non-null       Int64         \n",
      " 7   Country      135080 non-null  object        \n",
      "dtypes: Int64(1), datetime64[ns](1), float64(1), int64(1), object(4)\n",
      "memory usage: 9.4+ MB\n"
     ]
    }
   ],
   "source": [
    "df_nulls.info()"
   ]
  },
  {
   "cell_type": "code",
   "execution_count": 36,
   "id": "10119ea7",
   "metadata": {},
   "outputs": [
    {
     "name": "stdout",
     "output_type": "stream",
     "text": [
      "<class 'pandas.core.frame.DataFrame'>\n",
      "Index: 25900 entries, 536365 to C581569\n",
      "Data columns (total 7 columns):\n",
      " #   Column       Non-Null Count  Dtype\n",
      "---  ------       --------------  -----\n",
      " 0   StockCode    25900 non-null  int64\n",
      " 1   Description  25900 non-null  int64\n",
      " 2   Quantity     25900 non-null  int64\n",
      " 3   InvoiceDate  25900 non-null  int64\n",
      " 4   UnitPrice    25900 non-null  int64\n",
      " 5   CustomerID   25900 non-null  int64\n",
      " 6   Country      25900 non-null  int64\n",
      "dtypes: int64(7)\n",
      "memory usage: 1.6+ MB\n"
     ]
    }
   ],
   "source": [
    "# Agrupar los datos por la columna 'InvoiceNo' y contar valores unicos\n",
    "df_grouped = df.groupby('InvoiceNo').nunique().info()\n",
    "\n",
    "\n"
   ]
  },
  {
   "cell_type": "code",
   "execution_count": 42,
   "id": "15572f88",
   "metadata": {},
   "outputs": [],
   "source": [
    "# crea un nuevo df con las columnas 'InvoiceNo' y 'CustomerID'\n",
    "df_invoice_customer = df[['InvoiceNo', 'CustomerID']]"
   ]
  },
  {
   "cell_type": "code",
   "execution_count": 44,
   "id": "55ffda31",
   "metadata": {},
   "outputs": [
    {
     "name": "stdout",
     "output_type": "stream",
     "text": [
      "<class 'pandas.core.frame.DataFrame'>\n",
      "RangeIndex: 541909 entries, 0 to 541908\n",
      "Data columns (total 2 columns):\n",
      " #   Column      Non-Null Count   Dtype \n",
      "---  ------      --------------   ----- \n",
      " 0   InvoiceNo   541909 non-null  object\n",
      " 1   CustomerID  406829 non-null  Int64 \n",
      "dtypes: Int64(1), object(1)\n",
      "memory usage: 8.8+ MB\n"
     ]
    }
   ],
   "source": [
    "df_invoice_customer.info()"
   ]
  },
  {
   "cell_type": "code",
   "execution_count": 46,
   "id": "b31c545d",
   "metadata": {},
   "outputs": [
    {
     "name": "stdout",
     "output_type": "stream",
     "text": [
      "<class 'pandas.core.frame.DataFrame'>\n",
      "RangeIndex: 541909 entries, 0 to 541908\n",
      "Data columns (total 2 columns):\n",
      " #   Column      Non-Null Count   Dtype \n",
      "---  ------      --------------   ----- \n",
      " 0   InvoiceNo   541909 non-null  object\n",
      " 1   CustomerID  406829 non-null  Int64 \n",
      "dtypes: Int64(1), object(1)\n",
      "memory usage: 8.8+ MB\n"
     ]
    }
   ],
   "source": [
    "df_invoice_customer.info()"
   ]
  },
  {
   "cell_type": "code",
   "execution_count": 47,
   "id": "2754f8e5",
   "metadata": {},
   "outputs": [],
   "source": [
    "# crea un df con las columnas 'InvoiceNo', 'CustomerID', Quantyty y UnitPrice\n",
    "df_invoice_details = df[['InvoiceNo', 'CustomerID', 'Quantity', 'UnitPrice']]"
   ]
  },
  {
   "cell_type": "code",
   "execution_count": 48,
   "id": "c221e895",
   "metadata": {},
   "outputs": [
    {
     "name": "stderr",
     "output_type": "stream",
     "text": [
      "/var/folders/kw/4wrh588x7g5_4x1y7pjyp2c40000gn/T/ipykernel_36374/1990704250.py:2: SettingWithCopyWarning: \n",
      "A value is trying to be set on a copy of a slice from a DataFrame.\n",
      "Try using .loc[row_indexer,col_indexer] = value instead\n",
      "\n",
      "See the caveats in the documentation: https://pandas.pydata.org/pandas-docs/stable/user_guide/indexing.html#returning-a-view-versus-a-copy\n",
      "  df_invoice_details['TotalPrice'] = df_invoice_details['Quantity'] * df_invoice_details['UnitPrice']\n"
     ]
    }
   ],
   "source": [
    "# Agrega una nueva columna 'TotalPrice' que sea el resultado de multiplicar 'Quantity' por 'UnitPrice'\n",
    "df_invoice_details['TotalPrice'] = df_invoice_details['Quantity'] * df_invoice_details['UnitPrice']"
   ]
  },
  {
   "cell_type": "code",
   "execution_count": 49,
   "id": "5adde0f8",
   "metadata": {},
   "outputs": [
    {
     "name": "stdout",
     "output_type": "stream",
     "text": [
      "<class 'pandas.core.frame.DataFrame'>\n",
      "RangeIndex: 541909 entries, 0 to 541908\n",
      "Data columns (total 5 columns):\n",
      " #   Column      Non-Null Count   Dtype  \n",
      "---  ------      --------------   -----  \n",
      " 0   InvoiceNo   541909 non-null  object \n",
      " 1   CustomerID  406829 non-null  Int64  \n",
      " 2   Quantity    541909 non-null  int64  \n",
      " 3   UnitPrice   541909 non-null  float64\n",
      " 4   TotalPrice  541909 non-null  float64\n",
      "dtypes: Int64(1), float64(2), int64(1), object(1)\n",
      "memory usage: 21.2+ MB\n"
     ]
    }
   ],
   "source": [
    "df_invoice_details.info()"
   ]
  },
  {
   "cell_type": "code",
   "execution_count": 53,
   "id": "9997b067",
   "metadata": {},
   "outputs": [
    {
     "name": "stderr",
     "output_type": "stream",
     "text": [
      "/var/folders/kw/4wrh588x7g5_4x1y7pjyp2c40000gn/T/ipykernel_36374/482626065.py:1: FutureWarning: Series.fillna with 'method' is deprecated and will raise in a future version. Use obj.ffill() or obj.bfill() instead.\n",
      "  df['CustomerID'] = df.groupby('InvoiceNo')['CustomerID'].transform(lambda x: x.fillna(method='ffill').fillna(method='bfill'))\n"
     ]
    }
   ],
   "source": [
    "df['CustomerID'] = df.groupby('InvoiceNo')['CustomerID'].transform(lambda x: x.fillna(method='ffill').fillna(method='bfill'))"
   ]
  },
  {
   "cell_type": "code",
   "execution_count": 56,
   "id": "3c7b0baa",
   "metadata": {},
   "outputs": [
    {
     "name": "stdout",
     "output_type": "stream",
     "text": [
      "Datos faltantes restantes: 135080\n"
     ]
    }
   ],
   "source": [
    "missing_count = df['CustomerID'].isnull().sum()\n",
    "print(f\"Datos faltantes restantes: {missing_count}\")"
   ]
  },
  {
   "cell_type": "code",
   "execution_count": 58,
   "id": "019c6b50",
   "metadata": {},
   "outputs": [],
   "source": [
    "df['CustomerID'] = df.groupby('InvoiceNo')['CustomerID'].transform(lambda x: x.ffill().bfill())"
   ]
  },
  {
   "cell_type": "code",
   "execution_count": 59,
   "id": "81ddaf12",
   "metadata": {},
   "outputs": [
    {
     "name": "stdout",
     "output_type": "stream",
     "text": [
      "<class 'pandas.core.frame.DataFrame'>\n",
      "RangeIndex: 541909 entries, 0 to 541908\n",
      "Data columns (total 8 columns):\n",
      " #   Column       Non-Null Count   Dtype         \n",
      "---  ------       --------------   -----         \n",
      " 0   InvoiceNo    541909 non-null  object        \n",
      " 1   StockCode    541909 non-null  object        \n",
      " 2   Description  540455 non-null  object        \n",
      " 3   Quantity     541909 non-null  int64         \n",
      " 4   InvoiceDate  541909 non-null  datetime64[ns]\n",
      " 5   UnitPrice    541909 non-null  float64       \n",
      " 6   CustomerID   406829 non-null  Int64         \n",
      " 7   Country      541909 non-null  object        \n",
      "dtypes: Int64(1), datetime64[ns](1), float64(1), int64(1), object(4)\n",
      "memory usage: 33.6+ MB\n"
     ]
    }
   ],
   "source": [
    "df.info()"
   ]
  },
  {
   "cell_type": "code",
   "execution_count": 63,
   "id": "95835f6b",
   "metadata": {},
   "outputs": [
    {
     "data": {
      "text/plain": [
       "np.int64(77)"
      ]
     },
     "execution_count": 63,
     "metadata": {},
     "output_type": "execute_result"
    }
   ],
   "source": [
    "# Cuantos valores de descuento hay en la columna descripcion de df\n",
    "df['Description'].str.contains('discount', case=False, na=False).sum()\n"
   ]
  },
  {
   "cell_type": "code",
   "execution_count": 64,
   "id": "fb925f21",
   "metadata": {},
   "outputs": [],
   "source": [
    "# Agregar una columna en df que indique el total price multiplicando el valor en 'Quantity' por 'UnitPrice'\n",
    "df['TotalPrice'] = df['Quantity'] * df['UnitPrice']"
   ]
  },
  {
   "cell_type": "code",
   "execution_count": 66,
   "id": "7edb6740",
   "metadata": {},
   "outputs": [
    {
     "name": "stdout",
     "output_type": "stream",
     "text": [
      "El total de precios con descuento es: -5696.219999999999\n"
     ]
    }
   ],
   "source": [
    "# Suma el total price de las los datos que contienen discount en la columna 'Description'\n",
    "total_discount_price = df[df['Description'].str.contains('discount', case=False, na=False)]['TotalPrice'].sum()\n",
    "print(f\"El total de precios con descuento es: {total_discount_price}\")"
   ]
  },
  {
   "cell_type": "code",
   "execution_count": 67,
   "id": "bc639549",
   "metadata": {},
   "outputs": [],
   "source": [
    "# Eliminar todas las filas que contienen 'discount' en la columna 'Description'\n",
    "df_no_discount = df[~df['Description'].str.contains('discount', case=False, na=False)]\n",
    "# Guardar el DataFrame sin descuentos en un nuevo archivo CSV\n",
    "df_no_discount.to_csv('online_retail_no_discount.csv', index=False)"
   ]
  },
  {
   "cell_type": "code",
   "execution_count": 68,
   "id": "8f5303f0",
   "metadata": {},
   "outputs": [
    {
     "name": "stdout",
     "output_type": "stream",
     "text": [
      "<class 'pandas.core.frame.DataFrame'>\n",
      "RangeIndex: 541832 entries, 0 to 541831\n",
      "Data columns (total 9 columns):\n",
      " #   Column       Non-Null Count   Dtype  \n",
      "---  ------       --------------   -----  \n",
      " 0   InvoiceNo    541832 non-null  object \n",
      " 1   StockCode    541832 non-null  object \n",
      " 2   Description  540378 non-null  object \n",
      " 3   Quantity     541832 non-null  int64  \n",
      " 4   InvoiceDate  541832 non-null  object \n",
      " 5   UnitPrice    541832 non-null  float64\n",
      " 6   CustomerID   406752 non-null  float64\n",
      " 7   Country      541832 non-null  object \n",
      " 8   TotalPrice   541832 non-null  float64\n",
      "dtypes: float64(3), int64(1), object(5)\n",
      "memory usage: 37.2+ MB\n"
     ]
    }
   ],
   "source": [
    "pd.read_csv('online_retail_no_discount.csv').info()"
   ]
  },
  {
   "cell_type": "code",
   "execution_count": null,
   "id": "478e7a5c",
   "metadata": {},
   "outputs": [],
   "source": []
  }
 ],
 "metadata": {
  "kernelspec": {
   "display_name": "Python 3",
   "language": "python",
   "name": "python3"
  },
  "language_info": {
   "codemirror_mode": {
    "name": "ipython",
    "version": 3
   },
   "file_extension": ".py",
   "mimetype": "text/x-python",
   "name": "python",
   "nbconvert_exporter": "python",
   "pygments_lexer": "ipython3",
   "version": "3.13.2"
  }
 },
 "nbformat": 4,
 "nbformat_minor": 5
}
