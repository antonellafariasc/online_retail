{
 "cells": [
  {
   "cell_type": "markdown",
   "id": "1cf69158",
   "metadata": {},
   "source": [
    "### Documento para analizar el comportamiento del dato nulo en 'Customer_ID' del dataset"
   ]
  },
  {
   "cell_type": "code",
   "execution_count": 1,
   "id": "4f18afe0",
   "metadata": {},
   "outputs": [],
   "source": [
    "import pandas as pd\n",
    "import numpy as np"
   ]
  },
  {
   "cell_type": "code",
   "execution_count": 2,
   "id": "e83d2a50",
   "metadata": {},
   "outputs": [],
   "source": [
    "# Update the file path to the correct location\n",
    "df = pd.read_csv('online_retail.csv')"
   ]
  },
  {
   "cell_type": "code",
   "execution_count": 3,
   "id": "7efd85fa",
   "metadata": {},
   "outputs": [
    {
     "data": {
      "text/html": [
       "<div>\n",
       "<style scoped>\n",
       "    .dataframe tbody tr th:only-of-type {\n",
       "        vertical-align: middle;\n",
       "    }\n",
       "\n",
       "    .dataframe tbody tr th {\n",
       "        vertical-align: top;\n",
       "    }\n",
       "\n",
       "    .dataframe thead th {\n",
       "        text-align: right;\n",
       "    }\n",
       "</style>\n",
       "<table border=\"1\" class=\"dataframe\">\n",
       "  <thead>\n",
       "    <tr style=\"text-align: right;\">\n",
       "      <th></th>\n",
       "      <th>InvoiceNo</th>\n",
       "      <th>StockCode</th>\n",
       "      <th>Description</th>\n",
       "      <th>Quantity</th>\n",
       "      <th>InvoiceDate</th>\n",
       "      <th>UnitPrice</th>\n",
       "      <th>CustomerID</th>\n",
       "      <th>Country</th>\n",
       "    </tr>\n",
       "  </thead>\n",
       "  <tbody>\n",
       "    <tr>\n",
       "      <th>0</th>\n",
       "      <td>536365</td>\n",
       "      <td>85123A</td>\n",
       "      <td>WHITE HANGING HEART T-LIGHT HOLDER</td>\n",
       "      <td>6</td>\n",
       "      <td>2010-12-01 08:26:00</td>\n",
       "      <td>2.55</td>\n",
       "      <td>17850.0</td>\n",
       "      <td>United Kingdom</td>\n",
       "    </tr>\n",
       "    <tr>\n",
       "      <th>1</th>\n",
       "      <td>536365</td>\n",
       "      <td>71053</td>\n",
       "      <td>WHITE METAL LANTERN</td>\n",
       "      <td>6</td>\n",
       "      <td>2010-12-01 08:26:00</td>\n",
       "      <td>3.39</td>\n",
       "      <td>17850.0</td>\n",
       "      <td>United Kingdom</td>\n",
       "    </tr>\n",
       "    <tr>\n",
       "      <th>2</th>\n",
       "      <td>536365</td>\n",
       "      <td>84406B</td>\n",
       "      <td>CREAM CUPID HEARTS COAT HANGER</td>\n",
       "      <td>8</td>\n",
       "      <td>2010-12-01 08:26:00</td>\n",
       "      <td>2.75</td>\n",
       "      <td>17850.0</td>\n",
       "      <td>United Kingdom</td>\n",
       "    </tr>\n",
       "    <tr>\n",
       "      <th>3</th>\n",
       "      <td>536365</td>\n",
       "      <td>84029G</td>\n",
       "      <td>KNITTED UNION FLAG HOT WATER BOTTLE</td>\n",
       "      <td>6</td>\n",
       "      <td>2010-12-01 08:26:00</td>\n",
       "      <td>3.39</td>\n",
       "      <td>17850.0</td>\n",
       "      <td>United Kingdom</td>\n",
       "    </tr>\n",
       "    <tr>\n",
       "      <th>4</th>\n",
       "      <td>536365</td>\n",
       "      <td>84029E</td>\n",
       "      <td>RED WOOLLY HOTTIE WHITE HEART.</td>\n",
       "      <td>6</td>\n",
       "      <td>2010-12-01 08:26:00</td>\n",
       "      <td>3.39</td>\n",
       "      <td>17850.0</td>\n",
       "      <td>United Kingdom</td>\n",
       "    </tr>\n",
       "  </tbody>\n",
       "</table>\n",
       "</div>"
      ],
      "text/plain": [
       "  InvoiceNo StockCode                          Description  Quantity  \\\n",
       "0    536365    85123A   WHITE HANGING HEART T-LIGHT HOLDER         6   \n",
       "1    536365     71053                  WHITE METAL LANTERN         6   \n",
       "2    536365    84406B       CREAM CUPID HEARTS COAT HANGER         8   \n",
       "3    536365    84029G  KNITTED UNION FLAG HOT WATER BOTTLE         6   \n",
       "4    536365    84029E       RED WOOLLY HOTTIE WHITE HEART.         6   \n",
       "\n",
       "           InvoiceDate  UnitPrice  CustomerID         Country  \n",
       "0  2010-12-01 08:26:00       2.55     17850.0  United Kingdom  \n",
       "1  2010-12-01 08:26:00       3.39     17850.0  United Kingdom  \n",
       "2  2010-12-01 08:26:00       2.75     17850.0  United Kingdom  \n",
       "3  2010-12-01 08:26:00       3.39     17850.0  United Kingdom  \n",
       "4  2010-12-01 08:26:00       3.39     17850.0  United Kingdom  "
      ]
     },
     "execution_count": 3,
     "metadata": {},
     "output_type": "execute_result"
    }
   ],
   "source": [
    "df.head()"
   ]
  },
  {
   "cell_type": "code",
   "execution_count": 4,
   "id": "951d3e32",
   "metadata": {},
   "outputs": [
    {
     "name": "stdout",
     "output_type": "stream",
     "text": [
      "<class 'pandas.core.frame.DataFrame'>\n",
      "RangeIndex: 541909 entries, 0 to 541908\n",
      "Data columns (total 8 columns):\n",
      " #   Column       Non-Null Count   Dtype  \n",
      "---  ------       --------------   -----  \n",
      " 0   InvoiceNo    541909 non-null  object \n",
      " 1   StockCode    541909 non-null  object \n",
      " 2   Description  540455 non-null  object \n",
      " 3   Quantity     541909 non-null  int64  \n",
      " 4   InvoiceDate  541909 non-null  object \n",
      " 5   UnitPrice    541909 non-null  float64\n",
      " 6   CustomerID   406829 non-null  float64\n",
      " 7   Country      541909 non-null  object \n",
      "dtypes: float64(2), int64(1), object(5)\n",
      "memory usage: 33.1+ MB\n"
     ]
    }
   ],
   "source": [
    "df.info()"
   ]
  },
  {
   "cell_type": "code",
   "execution_count": 5,
   "id": "97f231ce",
   "metadata": {},
   "outputs": [],
   "source": [
    "# estandarizar el formato de la columna 'InvoiceDate'\n",
    "df['InvoiceDate'] = pd.to_datetime(df['InvoiceDate'])"
   ]
  },
  {
   "cell_type": "code",
   "execution_count": 6,
   "id": "349a8b17",
   "metadata": {},
   "outputs": [],
   "source": [
    "# Estandarizar el formato de la columna 'CustomerID' a int\n",
    "df['CustomerID'] = df['CustomerID'].astype('Int64')"
   ]
  },
  {
   "cell_type": "code",
   "execution_count": 7,
   "id": "4345f09e",
   "metadata": {},
   "outputs": [],
   "source": [
    "# Crear un dataframe con los valores nulos de 'CustomerID'\n",
    "df_nulls = df[df['CustomerID'].isnull()]"
   ]
  },
  {
   "cell_type": "code",
   "execution_count": 8,
   "id": "e1e0329c",
   "metadata": {},
   "outputs": [
    {
     "name": "stdout",
     "output_type": "stream",
     "text": [
      "El numero de columnas con valores nulos en CustomerID es: 135080\n"
     ]
    }
   ],
   "source": [
    "df_nulls.shape\n",
    "print(f'El numero de columnas con valores nulos en CustomerID es: {df_nulls.shape[0]}')"
   ]
  },
  {
   "cell_type": "code",
   "execution_count": 9,
   "id": "c31ffc92",
   "metadata": {},
   "outputs": [
    {
     "data": {
      "text/plain": [
       "Country\n",
       "United Kingdom    133600\n",
       "EIRE                 711\n",
       "Hong Kong            288\n",
       "Unspecified          202\n",
       "Switzerland          125\n",
       "France                66\n",
       "Israel                47\n",
       "Portugal              39\n",
       "Bahrain                2\n",
       "Name: count, dtype: int64"
      ]
     },
     "execution_count": 9,
     "metadata": {},
     "output_type": "execute_result"
    }
   ],
   "source": [
    "# Cuantas veces sale cada pais en df_nulls\n",
    "df_nulls['Country'].value_counts()\n"
   ]
  },
  {
   "cell_type": "code",
   "execution_count": 10,
   "id": "5b51d4a0",
   "metadata": {},
   "outputs": [
    {
     "data": {
      "text/plain": [
       "Description\n",
       "WHITE HANGING HEART T-LIGHT HOLDER     2369\n",
       "REGENCY CAKESTAND 3 TIER               2200\n",
       "JUMBO BAG RED RETROSPOT                2159\n",
       "PARTY BUNTING                          1727\n",
       "LUNCH BAG RED RETROSPOT                1638\n",
       "                                       ... \n",
       "Missing                                   1\n",
       "historic computer difference?....se       1\n",
       "DUSTY PINK CHRISTMAS TREE 30CM            1\n",
       "WRAP BLUE RUSSIAN FOLKART                 1\n",
       "PINK BERTIE MOBILE PHONE CHARM            1\n",
       "Name: count, Length: 4223, dtype: int64"
      ]
     },
     "execution_count": 10,
     "metadata": {},
     "output_type": "execute_result"
    }
   ],
   "source": [
    "#Cuentame los tipos de datos de las columnas descripcion.\n",
    "df['Description'].value_counts()"
   ]
  },
  {
   "cell_type": "code",
   "execution_count": 11,
   "id": "1e4ba9ba",
   "metadata": {},
   "outputs": [
    {
     "data": {
      "text/html": [
       "<div>\n",
       "<style scoped>\n",
       "    .dataframe tbody tr th:only-of-type {\n",
       "        vertical-align: middle;\n",
       "    }\n",
       "\n",
       "    .dataframe tbody tr th {\n",
       "        vertical-align: top;\n",
       "    }\n",
       "\n",
       "    .dataframe thead th {\n",
       "        text-align: right;\n",
       "    }\n",
       "</style>\n",
       "<table border=\"1\" class=\"dataframe\">\n",
       "  <thead>\n",
       "    <tr style=\"text-align: right;\">\n",
       "      <th></th>\n",
       "      <th>InvoiceNo</th>\n",
       "      <th>StockCode</th>\n",
       "      <th>Description</th>\n",
       "      <th>Quantity</th>\n",
       "      <th>InvoiceDate</th>\n",
       "      <th>UnitPrice</th>\n",
       "      <th>CustomerID</th>\n",
       "      <th>Country</th>\n",
       "    </tr>\n",
       "  </thead>\n",
       "  <tbody>\n",
       "    <tr>\n",
       "      <th>622</th>\n",
       "      <td>536414</td>\n",
       "      <td>22139</td>\n",
       "      <td>NaN</td>\n",
       "      <td>56</td>\n",
       "      <td>2010-12-01 11:52:00</td>\n",
       "      <td>0.00</td>\n",
       "      <td>&lt;NA&gt;</td>\n",
       "      <td>United Kingdom</td>\n",
       "    </tr>\n",
       "    <tr>\n",
       "      <th>1443</th>\n",
       "      <td>536544</td>\n",
       "      <td>21773</td>\n",
       "      <td>DECORATIVE ROSE BATHROOM BOTTLE</td>\n",
       "      <td>1</td>\n",
       "      <td>2010-12-01 14:32:00</td>\n",
       "      <td>2.51</td>\n",
       "      <td>&lt;NA&gt;</td>\n",
       "      <td>United Kingdom</td>\n",
       "    </tr>\n",
       "    <tr>\n",
       "      <th>1444</th>\n",
       "      <td>536544</td>\n",
       "      <td>21774</td>\n",
       "      <td>DECORATIVE CATS BATHROOM BOTTLE</td>\n",
       "      <td>2</td>\n",
       "      <td>2010-12-01 14:32:00</td>\n",
       "      <td>2.51</td>\n",
       "      <td>&lt;NA&gt;</td>\n",
       "      <td>United Kingdom</td>\n",
       "    </tr>\n",
       "    <tr>\n",
       "      <th>1445</th>\n",
       "      <td>536544</td>\n",
       "      <td>21786</td>\n",
       "      <td>POLKADOT RAIN HAT</td>\n",
       "      <td>4</td>\n",
       "      <td>2010-12-01 14:32:00</td>\n",
       "      <td>0.85</td>\n",
       "      <td>&lt;NA&gt;</td>\n",
       "      <td>United Kingdom</td>\n",
       "    </tr>\n",
       "    <tr>\n",
       "      <th>1446</th>\n",
       "      <td>536544</td>\n",
       "      <td>21787</td>\n",
       "      <td>RAIN PONCHO RETROSPOT</td>\n",
       "      <td>2</td>\n",
       "      <td>2010-12-01 14:32:00</td>\n",
       "      <td>1.66</td>\n",
       "      <td>&lt;NA&gt;</td>\n",
       "      <td>United Kingdom</td>\n",
       "    </tr>\n",
       "    <tr>\n",
       "      <th>1447</th>\n",
       "      <td>536544</td>\n",
       "      <td>21790</td>\n",
       "      <td>VINTAGE SNAP CARDS</td>\n",
       "      <td>9</td>\n",
       "      <td>2010-12-01 14:32:00</td>\n",
       "      <td>1.66</td>\n",
       "      <td>&lt;NA&gt;</td>\n",
       "      <td>United Kingdom</td>\n",
       "    </tr>\n",
       "    <tr>\n",
       "      <th>1448</th>\n",
       "      <td>536544</td>\n",
       "      <td>21791</td>\n",
       "      <td>VINTAGE HEADS AND TAILS CARD GAME</td>\n",
       "      <td>2</td>\n",
       "      <td>2010-12-01 14:32:00</td>\n",
       "      <td>2.51</td>\n",
       "      <td>&lt;NA&gt;</td>\n",
       "      <td>United Kingdom</td>\n",
       "    </tr>\n",
       "    <tr>\n",
       "      <th>1449</th>\n",
       "      <td>536544</td>\n",
       "      <td>21801</td>\n",
       "      <td>CHRISTMAS TREE DECORATION WITH BELL</td>\n",
       "      <td>10</td>\n",
       "      <td>2010-12-01 14:32:00</td>\n",
       "      <td>0.43</td>\n",
       "      <td>&lt;NA&gt;</td>\n",
       "      <td>United Kingdom</td>\n",
       "    </tr>\n",
       "    <tr>\n",
       "      <th>1450</th>\n",
       "      <td>536544</td>\n",
       "      <td>21802</td>\n",
       "      <td>CHRISTMAS TREE HEART DECORATION</td>\n",
       "      <td>9</td>\n",
       "      <td>2010-12-01 14:32:00</td>\n",
       "      <td>0.43</td>\n",
       "      <td>&lt;NA&gt;</td>\n",
       "      <td>United Kingdom</td>\n",
       "    </tr>\n",
       "    <tr>\n",
       "      <th>1451</th>\n",
       "      <td>536544</td>\n",
       "      <td>21803</td>\n",
       "      <td>CHRISTMAS TREE STAR DECORATION</td>\n",
       "      <td>11</td>\n",
       "      <td>2010-12-01 14:32:00</td>\n",
       "      <td>0.43</td>\n",
       "      <td>&lt;NA&gt;</td>\n",
       "      <td>United Kingdom</td>\n",
       "    </tr>\n",
       "  </tbody>\n",
       "</table>\n",
       "</div>"
      ],
      "text/plain": [
       "     InvoiceNo StockCode                          Description  Quantity  \\\n",
       "622     536414     22139                                  NaN        56   \n",
       "1443    536544     21773      DECORATIVE ROSE BATHROOM BOTTLE         1   \n",
       "1444    536544     21774      DECORATIVE CATS BATHROOM BOTTLE         2   \n",
       "1445    536544     21786                   POLKADOT RAIN HAT          4   \n",
       "1446    536544     21787                RAIN PONCHO RETROSPOT         2   \n",
       "1447    536544     21790                   VINTAGE SNAP CARDS         9   \n",
       "1448    536544     21791   VINTAGE HEADS AND TAILS CARD GAME          2   \n",
       "1449    536544     21801  CHRISTMAS TREE DECORATION WITH BELL        10   \n",
       "1450    536544     21802      CHRISTMAS TREE HEART DECORATION         9   \n",
       "1451    536544     21803       CHRISTMAS TREE STAR DECORATION        11   \n",
       "\n",
       "             InvoiceDate  UnitPrice  CustomerID         Country  \n",
       "622  2010-12-01 11:52:00       0.00        <NA>  United Kingdom  \n",
       "1443 2010-12-01 14:32:00       2.51        <NA>  United Kingdom  \n",
       "1444 2010-12-01 14:32:00       2.51        <NA>  United Kingdom  \n",
       "1445 2010-12-01 14:32:00       0.85        <NA>  United Kingdom  \n",
       "1446 2010-12-01 14:32:00       1.66        <NA>  United Kingdom  \n",
       "1447 2010-12-01 14:32:00       1.66        <NA>  United Kingdom  \n",
       "1448 2010-12-01 14:32:00       2.51        <NA>  United Kingdom  \n",
       "1449 2010-12-01 14:32:00       0.43        <NA>  United Kingdom  \n",
       "1450 2010-12-01 14:32:00       0.43        <NA>  United Kingdom  \n",
       "1451 2010-12-01 14:32:00       0.43        <NA>  United Kingdom  "
      ]
     },
     "execution_count": 11,
     "metadata": {},
     "output_type": "execute_result"
    }
   ],
   "source": [
    "df_nulls.head(10)"
   ]
  },
  {
   "cell_type": "code",
   "execution_count": 12,
   "id": "5d981976",
   "metadata": {},
   "outputs": [
    {
     "data": {
      "text/plain": [
       "InvoiceNo\n",
       "573585    1114\n",
       "581219     749\n",
       "581492     731\n",
       "580729     721\n",
       "558475     705\n",
       "          ... \n",
       "551460       1\n",
       "551461       1\n",
       "551506       1\n",
       "551538       1\n",
       "556122       1\n",
       "Name: count, Length: 3710, dtype: int64"
      ]
     },
     "execution_count": 12,
     "metadata": {},
     "output_type": "execute_result"
    }
   ],
   "source": [
    "#Cuantas veces sale cada InoviceNo en df_nulls\n",
    "df_nulls['InvoiceNo'].value_counts()"
   ]
  },
  {
   "cell_type": "code",
   "execution_count": 13,
   "id": "50cfa17e",
   "metadata": {},
   "outputs": [
    {
     "name": "stdout",
     "output_type": "stream",
     "text": [
      "El numero de filas con valores negativos en Quantity es: 10624\n"
     ]
    }
   ],
   "source": [
    "#Dime cuales son los valores cuyo quantity es negativo\n",
    "df_negatives = df[df['Quantity'] < 0]\n",
    "df_negatives.shape\n",
    "print(f'El numero de filas con valores negativos en Quantity es: {df_negatives.shape[0]}')"
   ]
  },
  {
   "cell_type": "code",
   "execution_count": 14,
   "id": "6c900b6c",
   "metadata": {},
   "outputs": [
    {
     "data": {
      "text/plain": [
       "Description\n",
       "DOTCOM POSTAGE                       693\n",
       "JUMBO BAG RED RETROSPOT              497\n",
       "JUMBO STORAGE BAG SUKI               414\n",
       "JUMBO SHOPPER VINTAGE RED PAISLEY    388\n",
       "JUMBO BAG WOODLAND ANIMALS           372\n",
       "                                    ... \n",
       "EAU DE NILE JEWELLED PHOTOFRAME        1\n",
       "WHITE VINTAGE CRYSTAL BRACELET         1\n",
       "RUBY GLASS NECKLACE 42\"                1\n",
       "PURPLE LAS VEGAS BRACELET ROUND        1\n",
       "BLUE LEAVES AND BEADS PHONE CHARM      1\n",
       "Name: count, Length: 3554, dtype: int64"
      ]
     },
     "execution_count": 14,
     "metadata": {},
     "output_type": "execute_result"
    }
   ],
   "source": [
    "#Cuales y cuantos tipos de descripcion hay en df_nulls\n",
    "df_nulls['Description'].value_counts()"
   ]
  },
  {
   "cell_type": "code",
   "execution_count": 15,
   "id": "aaea2932",
   "metadata": {},
   "outputs": [
    {
     "data": {
      "text/plain": [
       "StockCode\n",
       "DOT       694\n",
       "85099B    497\n",
       "21931     414\n",
       "22411     388\n",
       "20712     372\n",
       "         ... \n",
       "85195       1\n",
       "47574B      1\n",
       "16053       1\n",
       "16244B      1\n",
       "84859B      1\n",
       "Name: count, Length: 3810, dtype: int64"
      ]
     },
     "execution_count": 15,
     "metadata": {},
     "output_type": "execute_result"
    }
   ],
   "source": [
    "#dime cuantos stockcode hay en df_nulls\n",
    "df_nulls['StockCode'].value_counts()"
   ]
  },
  {
   "cell_type": "code",
   "execution_count": 16,
   "id": "e0079c85",
   "metadata": {},
   "outputs": [
    {
     "data": {
      "text/html": [
       "<div>\n",
       "<style scoped>\n",
       "    .dataframe tbody tr th:only-of-type {\n",
       "        vertical-align: middle;\n",
       "    }\n",
       "\n",
       "    .dataframe tbody tr th {\n",
       "        vertical-align: top;\n",
       "    }\n",
       "\n",
       "    .dataframe thead th {\n",
       "        text-align: right;\n",
       "    }\n",
       "</style>\n",
       "<table border=\"1\" class=\"dataframe\">\n",
       "  <thead>\n",
       "    <tr style=\"text-align: right;\">\n",
       "      <th></th>\n",
       "      <th>InvoiceNo</th>\n",
       "      <th>StockCode</th>\n",
       "      <th>Description</th>\n",
       "      <th>Quantity</th>\n",
       "      <th>InvoiceDate</th>\n",
       "      <th>UnitPrice</th>\n",
       "      <th>CustomerID</th>\n",
       "      <th>Country</th>\n",
       "    </tr>\n",
       "  </thead>\n",
       "  <tbody>\n",
       "    <tr>\n",
       "      <th>1814</th>\n",
       "      <td>536544</td>\n",
       "      <td>DOT</td>\n",
       "      <td>DOTCOM POSTAGE</td>\n",
       "      <td>1</td>\n",
       "      <td>2010-12-01 14:32:00</td>\n",
       "      <td>569.77</td>\n",
       "      <td>&lt;NA&gt;</td>\n",
       "      <td>United Kingdom</td>\n",
       "    </tr>\n",
       "    <tr>\n",
       "      <th>3041</th>\n",
       "      <td>536592</td>\n",
       "      <td>DOT</td>\n",
       "      <td>DOTCOM POSTAGE</td>\n",
       "      <td>1</td>\n",
       "      <td>2010-12-01 17:06:00</td>\n",
       "      <td>607.49</td>\n",
       "      <td>&lt;NA&gt;</td>\n",
       "      <td>United Kingdom</td>\n",
       "    </tr>\n",
       "    <tr>\n",
       "      <th>5450</th>\n",
       "      <td>536862</td>\n",
       "      <td>DOT</td>\n",
       "      <td>DOTCOM POSTAGE</td>\n",
       "      <td>1</td>\n",
       "      <td>2010-12-03 11:13:00</td>\n",
       "      <td>254.43</td>\n",
       "      <td>&lt;NA&gt;</td>\n",
       "      <td>United Kingdom</td>\n",
       "    </tr>\n",
       "    <tr>\n",
       "      <th>5545</th>\n",
       "      <td>536864</td>\n",
       "      <td>DOT</td>\n",
       "      <td>DOTCOM POSTAGE</td>\n",
       "      <td>1</td>\n",
       "      <td>2010-12-03 11:27:00</td>\n",
       "      <td>121.06</td>\n",
       "      <td>&lt;NA&gt;</td>\n",
       "      <td>United Kingdom</td>\n",
       "    </tr>\n",
       "    <tr>\n",
       "      <th>5685</th>\n",
       "      <td>536865</td>\n",
       "      <td>DOT</td>\n",
       "      <td>DOTCOM POSTAGE</td>\n",
       "      <td>1</td>\n",
       "      <td>2010-12-03 11:28:00</td>\n",
       "      <td>498.47</td>\n",
       "      <td>&lt;NA&gt;</td>\n",
       "      <td>United Kingdom</td>\n",
       "    </tr>\n",
       "    <tr>\n",
       "      <th>...</th>\n",
       "      <td>...</td>\n",
       "      <td>...</td>\n",
       "      <td>...</td>\n",
       "      <td>...</td>\n",
       "      <td>...</td>\n",
       "      <td>...</td>\n",
       "      <td>...</td>\n",
       "      <td>...</td>\n",
       "    </tr>\n",
       "    <tr>\n",
       "      <th>536834</th>\n",
       "      <td>581219</td>\n",
       "      <td>DOT</td>\n",
       "      <td>DOTCOM POSTAGE</td>\n",
       "      <td>1</td>\n",
       "      <td>2011-12-08 09:28:00</td>\n",
       "      <td>1008.96</td>\n",
       "      <td>&lt;NA&gt;</td>\n",
       "      <td>United Kingdom</td>\n",
       "    </tr>\n",
       "    <tr>\n",
       "      <th>537254</th>\n",
       "      <td>581238</td>\n",
       "      <td>DOT</td>\n",
       "      <td>DOTCOM POSTAGE</td>\n",
       "      <td>1</td>\n",
       "      <td>2011-12-08 10:53:00</td>\n",
       "      <td>1683.75</td>\n",
       "      <td>&lt;NA&gt;</td>\n",
       "      <td>United Kingdom</td>\n",
       "    </tr>\n",
       "    <tr>\n",
       "      <th>539368</th>\n",
       "      <td>581439</td>\n",
       "      <td>DOT</td>\n",
       "      <td>DOTCOM POSTAGE</td>\n",
       "      <td>1</td>\n",
       "      <td>2011-12-08 16:30:00</td>\n",
       "      <td>938.59</td>\n",
       "      <td>&lt;NA&gt;</td>\n",
       "      <td>United Kingdom</td>\n",
       "    </tr>\n",
       "    <tr>\n",
       "      <th>540908</th>\n",
       "      <td>581492</td>\n",
       "      <td>DOT</td>\n",
       "      <td>DOTCOM POSTAGE</td>\n",
       "      <td>1</td>\n",
       "      <td>2011-12-09 10:03:00</td>\n",
       "      <td>933.17</td>\n",
       "      <td>&lt;NA&gt;</td>\n",
       "      <td>United Kingdom</td>\n",
       "    </tr>\n",
       "    <tr>\n",
       "      <th>541540</th>\n",
       "      <td>581498</td>\n",
       "      <td>DOT</td>\n",
       "      <td>DOTCOM POSTAGE</td>\n",
       "      <td>1</td>\n",
       "      <td>2011-12-09 10:26:00</td>\n",
       "      <td>1714.17</td>\n",
       "      <td>&lt;NA&gt;</td>\n",
       "      <td>United Kingdom</td>\n",
       "    </tr>\n",
       "  </tbody>\n",
       "</table>\n",
       "<p>693 rows × 8 columns</p>\n",
       "</div>"
      ],
      "text/plain": [
       "       InvoiceNo StockCode     Description  Quantity         InvoiceDate  \\\n",
       "1814      536544       DOT  DOTCOM POSTAGE         1 2010-12-01 14:32:00   \n",
       "3041      536592       DOT  DOTCOM POSTAGE         1 2010-12-01 17:06:00   \n",
       "5450      536862       DOT  DOTCOM POSTAGE         1 2010-12-03 11:13:00   \n",
       "5545      536864       DOT  DOTCOM POSTAGE         1 2010-12-03 11:27:00   \n",
       "5685      536865       DOT  DOTCOM POSTAGE         1 2010-12-03 11:28:00   \n",
       "...          ...       ...             ...       ...                 ...   \n",
       "536834    581219       DOT  DOTCOM POSTAGE         1 2011-12-08 09:28:00   \n",
       "537254    581238       DOT  DOTCOM POSTAGE         1 2011-12-08 10:53:00   \n",
       "539368    581439       DOT  DOTCOM POSTAGE         1 2011-12-08 16:30:00   \n",
       "540908    581492       DOT  DOTCOM POSTAGE         1 2011-12-09 10:03:00   \n",
       "541540    581498       DOT  DOTCOM POSTAGE         1 2011-12-09 10:26:00   \n",
       "\n",
       "        UnitPrice  CustomerID         Country  \n",
       "1814       569.77        <NA>  United Kingdom  \n",
       "3041       607.49        <NA>  United Kingdom  \n",
       "5450       254.43        <NA>  United Kingdom  \n",
       "5545       121.06        <NA>  United Kingdom  \n",
       "5685       498.47        <NA>  United Kingdom  \n",
       "...           ...         ...             ...  \n",
       "536834    1008.96        <NA>  United Kingdom  \n",
       "537254    1683.75        <NA>  United Kingdom  \n",
       "539368     938.59        <NA>  United Kingdom  \n",
       "540908     933.17        <NA>  United Kingdom  \n",
       "541540    1714.17        <NA>  United Kingdom  \n",
       "\n",
       "[693 rows x 8 columns]"
      ]
     },
     "execution_count": 16,
     "metadata": {},
     "output_type": "execute_result"
    }
   ],
   "source": [
    "#Muestrame los datos cuya descripcion sea 'DOTCOM POSTAGE' en el df_nulls\n",
    "df_nulls[df_nulls['Description'] == 'DOTCOM POSTAGE']"
   ]
  },
  {
   "cell_type": "markdown",
   "id": "059e7413",
   "metadata": {},
   "source": [
    "## Resumen \n",
    "1. Existen demasiados datos de 'Descripcion' por lo que diferencias cual es servicio y productos puede ser muy dificil porque tendriamos que hacer esa clasificiacion individualmente. (No veo necesario excluirlo porque a final fue una venta para la empresa)\n",
    "2. Existe Invoices que se repiten para varios productos, por lo que se podria determinar que cada invoices le pertenece al mismo CustomerID.\n",
    "3. Existen 10.624 datos con cantidades negativo. Si usamos estos el InvoiceNo para rellenar el CustomerID, no vamos a poder determinar cual compra fue una devolucion o una compra efectiva, dado que cada invoiceNo es diferente. \n",
    "4. Se podria crear una nueva columna donde se agrupen los valores cuya descripcion y valor coincida, quitando el negativo, solo para ver los que son devolucion antes de rellenar los valores de CustomerID\n"
   ]
  },
  {
   "cell_type": "code",
   "execution_count": 17,
   "id": "4928ddd4",
   "metadata": {},
   "outputs": [
    {
     "name": "stdout",
     "output_type": "stream",
     "text": [
      "<class 'pandas.core.frame.DataFrame'>\n",
      "Index: 135080 entries, 622 to 541540\n",
      "Data columns (total 8 columns):\n",
      " #   Column       Non-Null Count   Dtype         \n",
      "---  ------       --------------   -----         \n",
      " 0   InvoiceNo    135080 non-null  object        \n",
      " 1   StockCode    135080 non-null  object        \n",
      " 2   Description  133626 non-null  object        \n",
      " 3   Quantity     135080 non-null  int64         \n",
      " 4   InvoiceDate  135080 non-null  datetime64[ns]\n",
      " 5   UnitPrice    135080 non-null  float64       \n",
      " 6   CustomerID   0 non-null       Int64         \n",
      " 7   Country      135080 non-null  object        \n",
      "dtypes: Int64(1), datetime64[ns](1), float64(1), int64(1), object(4)\n",
      "memory usage: 9.4+ MB\n"
     ]
    }
   ],
   "source": [
    "df_nulls.info()"
   ]
  },
  {
   "cell_type": "code",
   "execution_count": 18,
   "id": "10119ea7",
   "metadata": {},
   "outputs": [
    {
     "name": "stdout",
     "output_type": "stream",
     "text": [
      "<class 'pandas.core.frame.DataFrame'>\n",
      "Index: 25900 entries, 536365 to C581569\n",
      "Data columns (total 7 columns):\n",
      " #   Column       Non-Null Count  Dtype\n",
      "---  ------       --------------  -----\n",
      " 0   StockCode    25900 non-null  int64\n",
      " 1   Description  25900 non-null  int64\n",
      " 2   Quantity     25900 non-null  int64\n",
      " 3   InvoiceDate  25900 non-null  int64\n",
      " 4   UnitPrice    25900 non-null  int64\n",
      " 5   CustomerID   25900 non-null  int64\n",
      " 6   Country      25900 non-null  int64\n",
      "dtypes: int64(7)\n",
      "memory usage: 1.6+ MB\n"
     ]
    }
   ],
   "source": [
    "# Agrupar los datos por la columna 'InvoiceNo' y contar valores unicos\n",
    "df_grouped = df.groupby('InvoiceNo').nunique().info()\n",
    "\n",
    "\n"
   ]
  },
  {
   "cell_type": "code",
   "execution_count": 19,
   "id": "15572f88",
   "metadata": {},
   "outputs": [],
   "source": [
    "# crea un nuevo df con las columnas 'InvoiceNo' y 'CustomerID'\n",
    "df_invoice_customer = df[['InvoiceNo', 'CustomerID']]"
   ]
  },
  {
   "cell_type": "code",
   "execution_count": 20,
   "id": "55ffda31",
   "metadata": {},
   "outputs": [
    {
     "name": "stdout",
     "output_type": "stream",
     "text": [
      "<class 'pandas.core.frame.DataFrame'>\n",
      "RangeIndex: 541909 entries, 0 to 541908\n",
      "Data columns (total 2 columns):\n",
      " #   Column      Non-Null Count   Dtype \n",
      "---  ------      --------------   ----- \n",
      " 0   InvoiceNo   541909 non-null  object\n",
      " 1   CustomerID  406829 non-null  Int64 \n",
      "dtypes: Int64(1), object(1)\n",
      "memory usage: 8.8+ MB\n"
     ]
    }
   ],
   "source": [
    "df_invoice_customer.info()"
   ]
  },
  {
   "cell_type": "code",
<<<<<<< HEAD
   "execution_count": 46,
=======
   "execution_count": 21,
   "id": "15b9152d",
   "metadata": {},
   "outputs": [],
   "source": [
    "# "
   ]
  },
  {
   "cell_type": "code",
   "execution_count": 22,
>>>>>>> 1ca2eb6 (Fran2)
   "id": "b31c545d",
   "metadata": {},
   "outputs": [
    {
     "name": "stdout",
     "output_type": "stream",
     "text": [
      "<class 'pandas.core.frame.DataFrame'>\n",
      "RangeIndex: 541909 entries, 0 to 541908\n",
      "Data columns (total 2 columns):\n",
      " #   Column      Non-Null Count   Dtype \n",
      "---  ------      --------------   ----- \n",
      " 0   InvoiceNo   541909 non-null  object\n",
      " 1   CustomerID  406829 non-null  Int64 \n",
      "dtypes: Int64(1), object(1)\n",
      "memory usage: 8.8+ MB\n"
     ]
    }
   ],
   "source": [
    "df_invoice_customer.info()"
   ]
  },
  {
   "cell_type": "code",
   "execution_count": 23,
   "id": "2754f8e5",
   "metadata": {},
   "outputs": [],
   "source": [
    "# crea un df con las columnas 'InvoiceNo', 'CustomerID', Quantyty y UnitPrice\n",
    "df_invoice_details = df[['InvoiceNo', 'CustomerID', 'Quantity', 'UnitPrice']]"
   ]
  },
  {
   "cell_type": "code",
   "execution_count": 24,
   "id": "c221e895",
   "metadata": {},
   "outputs": [
    {
     "name": "stderr",
     "output_type": "stream",
     "text": [
      "/var/folders/q6/xvn2flf56n923rscyl3kvzpr0000gn/T/ipykernel_92610/1990704250.py:2: SettingWithCopyWarning: \n",
      "A value is trying to be set on a copy of a slice from a DataFrame.\n",
      "Try using .loc[row_indexer,col_indexer] = value instead\n",
      "\n",
      "See the caveats in the documentation: https://pandas.pydata.org/pandas-docs/stable/user_guide/indexing.html#returning-a-view-versus-a-copy\n",
      "  df_invoice_details['TotalPrice'] = df_invoice_details['Quantity'] * df_invoice_details['UnitPrice']\n"
     ]
    }
   ],
   "source": [
    "# Agrega una nueva columna 'TotalPrice' que sea el resultado de multiplicar 'Quantity' por 'UnitPrice'\n",
    "df_invoice_details['TotalPrice'] = df_invoice_details['Quantity'] * df_invoice_details['UnitPrice']"
   ]
  },
  {
   "cell_type": "code",
   "execution_count": 25,
   "id": "5adde0f8",
   "metadata": {},
   "outputs": [
    {
     "name": "stdout",
     "output_type": "stream",
     "text": [
      "<class 'pandas.core.frame.DataFrame'>\n",
      "RangeIndex: 541909 entries, 0 to 541908\n",
      "Data columns (total 5 columns):\n",
      " #   Column      Non-Null Count   Dtype  \n",
      "---  ------      --------------   -----  \n",
      " 0   InvoiceNo   541909 non-null  object \n",
      " 1   CustomerID  406829 non-null  Int64  \n",
      " 2   Quantity    541909 non-null  int64  \n",
      " 3   UnitPrice   541909 non-null  float64\n",
      " 4   TotalPrice  541909 non-null  float64\n",
      "dtypes: Int64(1), float64(2), int64(1), object(1)\n",
      "memory usage: 21.2+ MB\n"
     ]
    }
   ],
   "source": [
    "df_invoice_details.info()"
   ]
  },
  {
   "cell_type": "code",
   "execution_count": 26,
   "id": "9997b067",
   "metadata": {},
   "outputs": [
    {
     "name": "stderr",
     "output_type": "stream",
     "text": [
      "/var/folders/q6/xvn2flf56n923rscyl3kvzpr0000gn/T/ipykernel_92610/482626065.py:1: FutureWarning: Series.fillna with 'method' is deprecated and will raise in a future version. Use obj.ffill() or obj.bfill() instead.\n",
      "  df['CustomerID'] = df.groupby('InvoiceNo')['CustomerID'].transform(lambda x: x.fillna(method='ffill').fillna(method='bfill'))\n"
     ]
    }
   ],
   "source": [
    "df['CustomerID'] = df.groupby('InvoiceNo')['CustomerID'].transform(lambda x: x.fillna(method='ffill').fillna(method='bfill'))"
   ]
  },
  {
   "cell_type": "code",
   "execution_count": 27,
   "id": "3c7b0baa",
   "metadata": {},
   "outputs": [
    {
     "name": "stdout",
     "output_type": "stream",
     "text": [
      "Datos faltantes restantes: 135080\n"
     ]
    }
   ],
   "source": [
    "missing_count = df['CustomerID'].isnull().sum()\n",
    "print(f\"Datos faltantes restantes: {missing_count}\")"
   ]
  },
  {
   "cell_type": "code",
<<<<<<< HEAD
   "execution_count": 58,
=======
   "execution_count": 28,
>>>>>>> 1ca2eb6 (Fran2)
   "id": "019c6b50",
   "metadata": {},
   "outputs": [],
   "source": [
    "df['CustomerID'] = df.groupby('InvoiceNo')['CustomerID'].transform(lambda x: x.ffill().bfill())"
   ]
  },
  {
   "cell_type": "code",
<<<<<<< HEAD
   "execution_count": 59,
=======
   "execution_count": 29,
>>>>>>> 1ca2eb6 (Fran2)
   "id": "81ddaf12",
   "metadata": {},
   "outputs": [
    {
     "name": "stdout",
     "output_type": "stream",
     "text": [
      "<class 'pandas.core.frame.DataFrame'>\n",
      "RangeIndex: 541909 entries, 0 to 541908\n",
      "Data columns (total 8 columns):\n",
      " #   Column       Non-Null Count   Dtype         \n",
      "---  ------       --------------   -----         \n",
      " 0   InvoiceNo    541909 non-null  object        \n",
      " 1   StockCode    541909 non-null  object        \n",
      " 2   Description  540455 non-null  object        \n",
      " 3   Quantity     541909 non-null  int64         \n",
      " 4   InvoiceDate  541909 non-null  datetime64[ns]\n",
      " 5   UnitPrice    541909 non-null  float64       \n",
      " 6   CustomerID   406829 non-null  Int64         \n",
      " 7   Country      541909 non-null  object        \n",
      "dtypes: Int64(1), datetime64[ns](1), float64(1), int64(1), object(4)\n",
      "memory usage: 33.6+ MB\n"
     ]
    }
   ],
   "source": [
    "df.info()"
   ]
  },
  {
   "cell_type": "code",
<<<<<<< HEAD
   "execution_count": 63,
   "id": "95835f6b",
   "metadata": {},
   "outputs": [
    {
     "data": {
      "text/plain": [
       "np.int64(77)"
      ]
     },
     "execution_count": 63,
     "metadata": {},
     "output_type": "execute_result"
    }
   ],
   "source": [
    "# Cuantos valores de descuento hay en la columna descripcion de df\n",
    "df['Description'].str.contains('discount', case=False, na=False).sum()\n"
   ]
  },
  {
   "cell_type": "code",
   "execution_count": 64,
   "id": "fb925f21",
   "metadata": {},
   "outputs": [],
   "source": [
    "# Agregar una columna en df que indique el total price multiplicando el valor en 'Quantity' por 'UnitPrice'\n",
    "df['TotalPrice'] = df['Quantity'] * df['UnitPrice']"
   ]
  },
  {
   "cell_type": "code",
   "execution_count": 66,
   "id": "7edb6740",
   "metadata": {},
   "outputs": [
    {
     "name": "stdout",
     "output_type": "stream",
     "text": [
      "El total de precios con descuento es: -5696.219999999999\n"
     ]
    }
   ],
   "source": [
    "# Suma el total price de las los datos que contienen discount en la columna 'Description'\n",
    "total_discount_price = df[df['Description'].str.contains('discount', case=False, na=False)]['TotalPrice'].sum()\n",
    "print(f\"El total de precios con descuento es: {total_discount_price}\")"
   ]
  },
  {
   "cell_type": "code",
   "execution_count": 67,
   "id": "bc639549",
   "metadata": {},
   "outputs": [],
   "source": [
    "# Eliminar todas las filas que contienen 'discount' en la columna 'Description'\n",
    "df_no_discount = df[~df['Description'].str.contains('discount', case=False, na=False)]\n",
    "# Guardar el DataFrame sin descuentos en un nuevo archivo CSV\n",
    "df_no_discount.to_csv('online_retail_no_discount.csv', index=False)"
   ]
  },
  {
   "cell_type": "code",
   "execution_count": 68,
   "id": "8f5303f0",
   "metadata": {},
   "outputs": [
    {
     "name": "stdout",
     "output_type": "stream",
     "text": [
      "<class 'pandas.core.frame.DataFrame'>\n",
      "RangeIndex: 541832 entries, 0 to 541831\n",
      "Data columns (total 9 columns):\n",
      " #   Column       Non-Null Count   Dtype  \n",
      "---  ------       --------------   -----  \n",
      " 0   InvoiceNo    541832 non-null  object \n",
      " 1   StockCode    541832 non-null  object \n",
      " 2   Description  540378 non-null  object \n",
      " 3   Quantity     541832 non-null  int64  \n",
      " 4   InvoiceDate  541832 non-null  object \n",
      " 5   UnitPrice    541832 non-null  float64\n",
      " 6   CustomerID   406752 non-null  float64\n",
      " 7   Country      541832 non-null  object \n",
      " 8   TotalPrice   541832 non-null  float64\n",
      "dtypes: float64(3), int64(1), object(5)\n",
      "memory usage: 37.2+ MB\n"
     ]
    }
   ],
   "source": [
    "pd.read_csv('online_retail_no_discount.csv').info()"
   ]
  },
  {
   "cell_type": "code",
   "execution_count": null,
   "id": "478e7a5c",
=======
   "execution_count": 30,
   "id": "103f13f4",
>>>>>>> 1ca2eb6 (Fran2)
   "metadata": {},
   "outputs": [
    {
     "data": {
      "text/html": [
       "<div>\n",
       "<style scoped>\n",
       "    .dataframe tbody tr th:only-of-type {\n",
       "        vertical-align: middle;\n",
       "    }\n",
       "\n",
       "    .dataframe tbody tr th {\n",
       "        vertical-align: top;\n",
       "    }\n",
       "\n",
       "    .dataframe thead th {\n",
       "        text-align: right;\n",
       "    }\n",
       "</style>\n",
       "<table border=\"1\" class=\"dataframe\">\n",
       "  <thead>\n",
       "    <tr style=\"text-align: right;\">\n",
       "      <th></th>\n",
       "      <th>InvoiceNo</th>\n",
       "      <th>StockCode</th>\n",
       "      <th>Description</th>\n",
       "      <th>Quantity</th>\n",
       "      <th>InvoiceDate</th>\n",
       "      <th>UnitPrice</th>\n",
       "      <th>CustomerID</th>\n",
       "      <th>Country</th>\n",
       "    </tr>\n",
       "  </thead>\n",
       "  <tbody>\n",
       "    <tr>\n",
       "      <th>141</th>\n",
       "      <td>C536379</td>\n",
       "      <td>D</td>\n",
       "      <td>Discount</td>\n",
       "      <td>-1</td>\n",
       "      <td>2010-12-01 09:41:00</td>\n",
       "      <td>27.50</td>\n",
       "      <td>14527</td>\n",
       "      <td>United Kingdom</td>\n",
       "    </tr>\n",
       "    <tr>\n",
       "      <th>154</th>\n",
       "      <td>C536383</td>\n",
       "      <td>35004C</td>\n",
       "      <td>SET OF 3 COLOURED  FLYING DUCKS</td>\n",
       "      <td>-1</td>\n",
       "      <td>2010-12-01 09:49:00</td>\n",
       "      <td>4.65</td>\n",
       "      <td>15311</td>\n",
       "      <td>United Kingdom</td>\n",
       "    </tr>\n",
       "    <tr>\n",
       "      <th>235</th>\n",
       "      <td>C536391</td>\n",
       "      <td>22556</td>\n",
       "      <td>PLASTERS IN TIN CIRCUS PARADE</td>\n",
       "      <td>-12</td>\n",
       "      <td>2010-12-01 10:24:00</td>\n",
       "      <td>1.65</td>\n",
       "      <td>17548</td>\n",
       "      <td>United Kingdom</td>\n",
       "    </tr>\n",
       "    <tr>\n",
       "      <th>236</th>\n",
       "      <td>C536391</td>\n",
       "      <td>21984</td>\n",
       "      <td>PACK OF 12 PINK PAISLEY TISSUES</td>\n",
       "      <td>-24</td>\n",
       "      <td>2010-12-01 10:24:00</td>\n",
       "      <td>0.29</td>\n",
       "      <td>17548</td>\n",
       "      <td>United Kingdom</td>\n",
       "    </tr>\n",
       "    <tr>\n",
       "      <th>237</th>\n",
       "      <td>C536391</td>\n",
       "      <td>21983</td>\n",
       "      <td>PACK OF 12 BLUE PAISLEY TISSUES</td>\n",
       "      <td>-24</td>\n",
       "      <td>2010-12-01 10:24:00</td>\n",
       "      <td>0.29</td>\n",
       "      <td>17548</td>\n",
       "      <td>United Kingdom</td>\n",
       "    </tr>\n",
       "  </tbody>\n",
       "</table>\n",
       "</div>"
      ],
      "text/plain": [
       "    InvoiceNo StockCode                       Description  Quantity  \\\n",
       "141   C536379         D                          Discount        -1   \n",
       "154   C536383    35004C   SET OF 3 COLOURED  FLYING DUCKS        -1   \n",
       "235   C536391     22556    PLASTERS IN TIN CIRCUS PARADE        -12   \n",
       "236   C536391     21984  PACK OF 12 PINK PAISLEY TISSUES        -24   \n",
       "237   C536391     21983  PACK OF 12 BLUE PAISLEY TISSUES        -24   \n",
       "\n",
       "            InvoiceDate  UnitPrice  CustomerID         Country  \n",
       "141 2010-12-01 09:41:00      27.50       14527  United Kingdom  \n",
       "154 2010-12-01 09:49:00       4.65       15311  United Kingdom  \n",
       "235 2010-12-01 10:24:00       1.65       17548  United Kingdom  \n",
       "236 2010-12-01 10:24:00       0.29       17548  United Kingdom  \n",
       "237 2010-12-01 10:24:00       0.29       17548  United Kingdom  "
      ]
     },
     "execution_count": 30,
     "metadata": {},
     "output_type": "execute_result"
    }
   ],
   "source": [
    "#Muestrame un head cuyo quantity sea negativo\n",
    "df_negatives.head()"
   ]
  },
  {
   "cell_type": "code",
   "execution_count": 32,
   "id": "63350fad",
   "metadata": {},
   "outputs": [
    {
     "name": "stdout",
     "output_type": "stream",
     "text": [
      "Datos del cliente con ID 14527:\n",
      "       InvoiceNo StockCode                        Description  Quantity  \\\n",
      "141      C536379         D                           Discount        -1   \n",
      "8963      537159     22112         CHOCOLATE HOT WATER BOTTLE         6   \n",
      "8964      537159     22111       SCOTTIE DOG HOT WATER BOTTLE         1   \n",
      "8965      537159     21479      WHITE SKULL HOT WATER BOTTLE          1   \n",
      "8966      537159     22114  HOT WATER BOTTLE TEA AND SYMPATHY         6   \n",
      "...          ...       ...                                ...       ...   \n",
      "533807    581114     22111       SCOTTIE DOG HOT WATER BOTTLE         1   \n",
      "533808    581114     22835    HOT WATER BOTTLE I AM SO POORLY         2   \n",
      "533809    581114     22114  HOT WATER BOTTLE TEA AND SYMPATHY         6   \n",
      "533810    581114     21479      WHITE SKULL HOT WATER BOTTLE          2   \n",
      "533811    581114     22112         CHOCOLATE HOT WATER BOTTLE         3   \n",
      "\n",
      "               InvoiceDate  UnitPrice  CustomerID         Country  \n",
      "141    2010-12-01 09:41:00      27.50       14527  United Kingdom  \n",
      "8963   2010-12-05 13:17:00       4.95       14527  United Kingdom  \n",
      "8964   2010-12-05 13:17:00       4.95       14527  United Kingdom  \n",
      "8965   2010-12-05 13:17:00       3.75       14527  United Kingdom  \n",
      "8966   2010-12-05 13:17:00       3.95       14527  United Kingdom  \n",
      "...                    ...        ...         ...             ...  \n",
      "533807 2011-12-07 12:19:00       4.95       14527  United Kingdom  \n",
      "533808 2011-12-07 12:19:00       4.95       14527  United Kingdom  \n",
      "533809 2011-12-07 12:19:00       4.25       14527  United Kingdom  \n",
      "533810 2011-12-07 12:19:00       4.25       14527  United Kingdom  \n",
      "533811 2011-12-07 12:19:00       4.95       14527  United Kingdom  \n",
      "\n",
      "[1011 rows x 8 columns]\n"
     ]
    }
   ],
   "source": [
    "#Buscame todo los datos que tenga este customer ID 14527\n",
    "df_customer_14527 = df[df['CustomerID'] == 14527]\n",
    "print(f\"Datos del cliente con ID 14527:\\n{df_customer_14527}\")"
   ]
  },
  {
   "cell_type": "code",
   "execution_count": 38,
   "id": "820fb919",
   "metadata": {},
   "outputs": [
    {
     "data": {
      "text/html": [
       "<div>\n",
       "<style scoped>\n",
       "    .dataframe tbody tr th:only-of-type {\n",
       "        vertical-align: middle;\n",
       "    }\n",
       "\n",
       "    .dataframe tbody tr th {\n",
       "        vertical-align: top;\n",
       "    }\n",
       "\n",
       "    .dataframe thead th {\n",
       "        text-align: right;\n",
       "    }\n",
       "</style>\n",
       "<table border=\"1\" class=\"dataframe\">\n",
       "  <thead>\n",
       "    <tr style=\"text-align: right;\">\n",
       "      <th></th>\n",
       "      <th>InvoiceNo</th>\n",
       "      <th>StockCode</th>\n",
       "      <th>Description</th>\n",
       "      <th>Quantity</th>\n",
       "      <th>InvoiceDate</th>\n",
       "      <th>UnitPrice</th>\n",
       "      <th>CustomerID</th>\n",
       "      <th>Country</th>\n",
       "    </tr>\n",
       "  </thead>\n",
       "  <tbody>\n",
       "    <tr>\n",
       "      <th>141</th>\n",
       "      <td>C536379</td>\n",
       "      <td>D</td>\n",
       "      <td>Discount</td>\n",
       "      <td>-1</td>\n",
       "      <td>2010-12-01 09:41:00</td>\n",
       "      <td>27.50</td>\n",
       "      <td>14527</td>\n",
       "      <td>United Kingdom</td>\n",
       "    </tr>\n",
       "    <tr>\n",
       "      <th>9038</th>\n",
       "      <td>C537164</td>\n",
       "      <td>D</td>\n",
       "      <td>Discount</td>\n",
       "      <td>-1</td>\n",
       "      <td>2010-12-05 13:21:00</td>\n",
       "      <td>29.29</td>\n",
       "      <td>14527</td>\n",
       "      <td>United Kingdom</td>\n",
       "    </tr>\n",
       "    <tr>\n",
       "      <th>31663</th>\n",
       "      <td>C539003</td>\n",
       "      <td>D</td>\n",
       "      <td>Discount</td>\n",
       "      <td>-1</td>\n",
       "      <td>2010-12-15 12:35:00</td>\n",
       "      <td>26.93</td>\n",
       "      <td>14527</td>\n",
       "      <td>United Kingdom</td>\n",
       "    </tr>\n",
       "    <tr>\n",
       "      <th>38609</th>\n",
       "      <td>C539589</td>\n",
       "      <td>D</td>\n",
       "      <td>Discount</td>\n",
       "      <td>-1</td>\n",
       "      <td>2010-12-20 13:14:00</td>\n",
       "      <td>13.88</td>\n",
       "      <td>14527</td>\n",
       "      <td>United Kingdom</td>\n",
       "    </tr>\n",
       "    <tr>\n",
       "      <th>44405</th>\n",
       "      <td>C540171</td>\n",
       "      <td>D</td>\n",
       "      <td>Discount</td>\n",
       "      <td>-1</td>\n",
       "      <td>2011-01-05 12:26:00</td>\n",
       "      <td>22.97</td>\n",
       "      <td>14527</td>\n",
       "      <td>United Kingdom</td>\n",
       "    </tr>\n",
       "  </tbody>\n",
       "</table>\n",
       "</div>"
      ],
      "text/plain": [
       "      InvoiceNo StockCode Description  Quantity         InvoiceDate  \\\n",
       "141     C536379         D    Discount        -1 2010-12-01 09:41:00   \n",
       "9038    C537164         D    Discount        -1 2010-12-05 13:21:00   \n",
       "31663   C539003         D    Discount        -1 2010-12-15 12:35:00   \n",
       "38609   C539589         D    Discount        -1 2010-12-20 13:14:00   \n",
       "44405   C540171         D    Discount        -1 2011-01-05 12:26:00   \n",
       "\n",
       "       UnitPrice  CustomerID         Country  \n",
       "141        27.50       14527  United Kingdom  \n",
       "9038       29.29       14527  United Kingdom  \n",
       "31663      26.93       14527  United Kingdom  \n",
       "38609      13.88       14527  United Kingdom  \n",
       "44405      22.97       14527  United Kingdom  "
      ]
     },
     "execution_count": 38,
     "metadata": {},
     "output_type": "execute_result"
    }
   ],
   "source": [
    "#Muestra los datos cuyo customer ID sea 14527 y la cantidad sea negativa\n",
    "df_customer_14527_negatives = df_customer_14527[df_customer_14527['Quantity'] < 0]\n",
    "df_customer_14527_negatives.head()"
   ]
  },
  {
   "cell_type": "code",
   "execution_count": 39,
   "id": "316d8207",
   "metadata": {},
   "outputs": [
    {
     "name": "stdout",
     "output_type": "stream",
     "text": [
      "Número de valores negativos para el cliente con ID 14527: 39\n"
     ]
    }
   ],
   "source": [
    "#Muestra cuantos valores negativos hay en el customer ID 14527\n",
    "negative_count = df_customer_14527_negatives.shape[0]\n",
    "print(f\"Número de valores negativos para el cliente con ID 14527: {negative_count}\")\n"
   ]
  },
  {
   "cell_type": "code",
   "execution_count": 40,
   "id": "89ba6bd2",
   "metadata": {},
   "outputs": [
    {
     "name": "stdout",
     "output_type": "stream",
     "text": [
      "Tipos de descripción con cantidades negativas para el cliente ID 14527: ['Discount' 'BROCANTE COAT RACK' 'HEART OF WICKER SMALL'\n",
      " 'FAMILY ALBUM WHITE PICTURE FRAME' 'Manual']\n"
     ]
    }
   ],
   "source": [
    "#Dime los tipos de Description que tiene el customer ID 14527 con quantities negativas\n",
    "negative_descriptions = df_customer_14527_negatives['Description'].unique()\n",
    "print(f\"Tipos de descripción con cantidades negativas para el cliente ID 14527: {negative_descriptions}\")"
   ]
  },
  {
   "cell_type": "code",
   "execution_count": 41,
   "id": "3c7dda2e",
   "metadata": {},
   "outputs": [
    {
     "name": "stdout",
     "output_type": "stream",
     "text": [
      "Número de valores positivos para el cliente con ID 14527 y descripción 'Discount': 0\n"
     ]
    }
   ],
   "source": [
    "#Dime cuantos valores hay en Description 'Discount' con cantidades positiva para el customer ID 14527\n",
    "df_customer_14527_discount_positives = df_customer_14527_discount[df_customer_14527_discount['Quantity'] > 0]\n",
    "positive_count = df_customer_14527_discount_positives.shape[0]\n",
    "print(f\"Número de valores positivos para el cliente con ID 14527 y descripción 'Discount': {positive_count}\")\n"
   ]
  },
  {
   "cell_type": "code",
   "execution_count": 43,
   "id": "e18215e3",
   "metadata": {},
   "outputs": [
    {
     "data": {
      "text/html": [
       "<div>\n",
       "<style scoped>\n",
       "    .dataframe tbody tr th:only-of-type {\n",
       "        vertical-align: middle;\n",
       "    }\n",
       "\n",
       "    .dataframe tbody tr th {\n",
       "        vertical-align: top;\n",
       "    }\n",
       "\n",
       "    .dataframe thead th {\n",
       "        text-align: right;\n",
       "    }\n",
       "</style>\n",
       "<table border=\"1\" class=\"dataframe\">\n",
       "  <thead>\n",
       "    <tr style=\"text-align: right;\">\n",
       "      <th></th>\n",
       "      <th>InvoiceNo</th>\n",
       "      <th>StockCode</th>\n",
       "      <th>Description</th>\n",
       "      <th>Quantity</th>\n",
       "      <th>InvoiceDate</th>\n",
       "      <th>UnitPrice</th>\n",
       "      <th>CustomerID</th>\n",
       "      <th>Country</th>\n",
       "    </tr>\n",
       "  </thead>\n",
       "  <tbody>\n",
       "    <tr>\n",
       "      <th>84996</th>\n",
       "      <td>543454</td>\n",
       "      <td>22788</td>\n",
       "      <td>BROCANTE COAT RACK</td>\n",
       "      <td>1</td>\n",
       "      <td>2011-02-08 12:20:00</td>\n",
       "      <td>9.95</td>\n",
       "      <td>14527</td>\n",
       "      <td>United Kingdom</td>\n",
       "    </tr>\n",
       "    <tr>\n",
       "      <th>149290</th>\n",
       "      <td>C549288</td>\n",
       "      <td>22788</td>\n",
       "      <td>BROCANTE COAT RACK</td>\n",
       "      <td>-1</td>\n",
       "      <td>2011-04-07 18:06:00</td>\n",
       "      <td>9.95</td>\n",
       "      <td>14527</td>\n",
       "      <td>United Kingdom</td>\n",
       "    </tr>\n",
       "  </tbody>\n",
       "</table>\n",
       "</div>"
      ],
      "text/plain": [
       "       InvoiceNo StockCode         Description  Quantity         InvoiceDate  \\\n",
       "84996     543454     22788  BROCANTE COAT RACK         1 2011-02-08 12:20:00   \n",
       "149290   C549288     22788  BROCANTE COAT RACK        -1 2011-04-07 18:06:00   \n",
       "\n",
       "        UnitPrice  CustomerID         Country  \n",
       "84996        9.95       14527  United Kingdom  \n",
       "149290       9.95       14527  United Kingdom  "
      ]
     },
     "execution_count": 43,
     "metadata": {},
     "output_type": "execute_result"
    }
   ],
   "source": [
    "#Muestrame los datos cuyo customer ID sea 14527 y la descripcion sea 'BROCANTE COAT RACK' \n",
    "df_customer_14527_brocante = df_customer_14527[df_customer_14527['Description'] == 'BROCANTE COAT RACK']\n",
    "df_customer_14527_brocante.head()"
   ]
  },
  {
   "cell_type": "code",
   "execution_count": 45,
   "id": "18c1393e",
   "metadata": {},
   "outputs": [
    {
     "data": {
      "text/html": [
       "<div>\n",
       "<style scoped>\n",
       "    .dataframe tbody tr th:only-of-type {\n",
       "        vertical-align: middle;\n",
       "    }\n",
       "\n",
       "    .dataframe tbody tr th {\n",
       "        vertical-align: top;\n",
       "    }\n",
       "\n",
       "    .dataframe thead th {\n",
       "        text-align: right;\n",
       "    }\n",
       "</style>\n",
       "<table border=\"1\" class=\"dataframe\">\n",
       "  <thead>\n",
       "    <tr style=\"text-align: right;\">\n",
       "      <th></th>\n",
       "      <th>InvoiceNo</th>\n",
       "      <th>StockCode</th>\n",
       "      <th>Description</th>\n",
       "      <th>Quantity</th>\n",
       "      <th>InvoiceDate</th>\n",
       "      <th>UnitPrice</th>\n",
       "      <th>CustomerID</th>\n",
       "      <th>Country</th>\n",
       "    </tr>\n",
       "  </thead>\n",
       "  <tbody>\n",
       "    <tr>\n",
       "      <th>149290</th>\n",
       "      <td>C549288</td>\n",
       "      <td>22788</td>\n",
       "      <td>BROCANTE COAT RACK</td>\n",
       "      <td>-1</td>\n",
       "      <td>2011-04-07 18:06:00</td>\n",
       "      <td>9.95</td>\n",
       "      <td>14527</td>\n",
       "      <td>United Kingdom</td>\n",
       "    </tr>\n",
       "    <tr>\n",
       "      <th>149291</th>\n",
       "      <td>C549288</td>\n",
       "      <td>22469</td>\n",
       "      <td>HEART OF WICKER SMALL</td>\n",
       "      <td>-1</td>\n",
       "      <td>2011-04-07 18:06:00</td>\n",
       "      <td>1.65</td>\n",
       "      <td>14527</td>\n",
       "      <td>United Kingdom</td>\n",
       "    </tr>\n",
       "  </tbody>\n",
       "</table>\n",
       "</div>"
      ],
      "text/plain": [
       "       InvoiceNo StockCode            Description  Quantity  \\\n",
       "149290   C549288     22788     BROCANTE COAT RACK        -1   \n",
       "149291   C549288     22469  HEART OF WICKER SMALL        -1   \n",
       "\n",
       "               InvoiceDate  UnitPrice  CustomerID         Country  \n",
       "149290 2011-04-07 18:06:00       9.95       14527  United Kingdom  \n",
       "149291 2011-04-07 18:06:00       1.65       14527  United Kingdom  "
      ]
     },
     "execution_count": 45,
     "metadata": {},
     "output_type": "execute_result"
    }
   ],
   "source": [
    "#Identifica todos los datos que contengan el invoiceNo'543454' y 'C549288\n",
    "df_invoice_543454 = df[df['InvoiceNo'] == '543454']\n",
    "df_invoice_C549288 = df[df['InvoiceNo'] == 'C549288']\n",
    "df_invoice_C549288.head()"
   ]
  },
  {
   "cell_type": "code",
   "execution_count": 48,
   "id": "6c61d006",
   "metadata": {},
   "outputs": [
    {
     "data": {
      "text/html": [
       "<div>\n",
       "<style scoped>\n",
       "    .dataframe tbody tr th:only-of-type {\n",
       "        vertical-align: middle;\n",
       "    }\n",
       "\n",
       "    .dataframe tbody tr th {\n",
       "        vertical-align: top;\n",
       "    }\n",
       "\n",
       "    .dataframe thead th {\n",
       "        text-align: right;\n",
       "    }\n",
       "</style>\n",
       "<table border=\"1\" class=\"dataframe\">\n",
       "  <thead>\n",
       "    <tr style=\"text-align: right;\">\n",
       "      <th></th>\n",
       "      <th>InvoiceNo</th>\n",
       "      <th>StockCode</th>\n",
       "      <th>Description</th>\n",
       "      <th>Quantity</th>\n",
       "      <th>InvoiceDate</th>\n",
       "      <th>UnitPrice</th>\n",
       "      <th>CustomerID</th>\n",
       "      <th>Country</th>\n",
       "    </tr>\n",
       "  </thead>\n",
       "  <tbody>\n",
       "    <tr>\n",
       "      <th>84983</th>\n",
       "      <td>543454</td>\n",
       "      <td>82484</td>\n",
       "      <td>WOOD BLACK BOARD ANT WHITE FINISH</td>\n",
       "      <td>2</td>\n",
       "      <td>2011-02-08 12:20:00</td>\n",
       "      <td>7.95</td>\n",
       "      <td>14527</td>\n",
       "      <td>United Kingdom</td>\n",
       "    </tr>\n",
       "    <tr>\n",
       "      <th>84984</th>\n",
       "      <td>543454</td>\n",
       "      <td>22194</td>\n",
       "      <td>BLACK DINER WALL CLOCK</td>\n",
       "      <td>1</td>\n",
       "      <td>2011-02-08 12:20:00</td>\n",
       "      <td>8.50</td>\n",
       "      <td>14527</td>\n",
       "      <td>United Kingdom</td>\n",
       "    </tr>\n",
       "    <tr>\n",
       "      <th>84985</th>\n",
       "      <td>543454</td>\n",
       "      <td>22193</td>\n",
       "      <td>RED DINER WALL CLOCK</td>\n",
       "      <td>2</td>\n",
       "      <td>2011-02-08 12:20:00</td>\n",
       "      <td>8.50</td>\n",
       "      <td>14527</td>\n",
       "      <td>United Kingdom</td>\n",
       "    </tr>\n",
       "    <tr>\n",
       "      <th>84986</th>\n",
       "      <td>543454</td>\n",
       "      <td>22507</td>\n",
       "      <td>MEMO BOARD RETROSPOT  DESIGN</td>\n",
       "      <td>1</td>\n",
       "      <td>2011-02-08 12:20:00</td>\n",
       "      <td>4.95</td>\n",
       "      <td>14527</td>\n",
       "      <td>United Kingdom</td>\n",
       "    </tr>\n",
       "    <tr>\n",
       "      <th>84987</th>\n",
       "      <td>543454</td>\n",
       "      <td>22852</td>\n",
       "      <td>DOG BOWL VINTAGE CREAM</td>\n",
       "      <td>1</td>\n",
       "      <td>2011-02-08 12:20:00</td>\n",
       "      <td>4.25</td>\n",
       "      <td>14527</td>\n",
       "      <td>United Kingdom</td>\n",
       "    </tr>\n",
       "    <tr>\n",
       "      <th>84988</th>\n",
       "      <td>543454</td>\n",
       "      <td>22853</td>\n",
       "      <td>CAT BOWL VINTAGE CREAM</td>\n",
       "      <td>4</td>\n",
       "      <td>2011-02-08 12:20:00</td>\n",
       "      <td>3.25</td>\n",
       "      <td>14527</td>\n",
       "      <td>United Kingdom</td>\n",
       "    </tr>\n",
       "    <tr>\n",
       "      <th>84989</th>\n",
       "      <td>543454</td>\n",
       "      <td>22795</td>\n",
       "      <td>SWEETHEART RECIPE BOOK STAND</td>\n",
       "      <td>1</td>\n",
       "      <td>2011-02-08 12:20:00</td>\n",
       "      <td>6.75</td>\n",
       "      <td>14527</td>\n",
       "      <td>United Kingdom</td>\n",
       "    </tr>\n",
       "    <tr>\n",
       "      <th>84990</th>\n",
       "      <td>543454</td>\n",
       "      <td>22894</td>\n",
       "      <td>TABLECLOTH RED APPLES DESIGN</td>\n",
       "      <td>1</td>\n",
       "      <td>2011-02-08 12:20:00</td>\n",
       "      <td>9.95</td>\n",
       "      <td>14527</td>\n",
       "      <td>United Kingdom</td>\n",
       "    </tr>\n",
       "    <tr>\n",
       "      <th>84991</th>\n",
       "      <td>543454</td>\n",
       "      <td>22625</td>\n",
       "      <td>RED KITCHEN SCALES</td>\n",
       "      <td>1</td>\n",
       "      <td>2011-02-08 12:20:00</td>\n",
       "      <td>8.50</td>\n",
       "      <td>14527</td>\n",
       "      <td>United Kingdom</td>\n",
       "    </tr>\n",
       "    <tr>\n",
       "      <th>84992</th>\n",
       "      <td>543454</td>\n",
       "      <td>21527</td>\n",
       "      <td>RED RETROSPOT TRADITIONAL TEAPOT</td>\n",
       "      <td>1</td>\n",
       "      <td>2011-02-08 12:20:00</td>\n",
       "      <td>7.95</td>\n",
       "      <td>14527</td>\n",
       "      <td>United Kingdom</td>\n",
       "    </tr>\n",
       "    <tr>\n",
       "      <th>84993</th>\n",
       "      <td>543454</td>\n",
       "      <td>22379</td>\n",
       "      <td>RECYCLING BAG RETROSPOT</td>\n",
       "      <td>3</td>\n",
       "      <td>2011-02-08 12:20:00</td>\n",
       "      <td>2.10</td>\n",
       "      <td>14527</td>\n",
       "      <td>United Kingdom</td>\n",
       "    </tr>\n",
       "    <tr>\n",
       "      <th>84994</th>\n",
       "      <td>543454</td>\n",
       "      <td>79321</td>\n",
       "      <td>CHILLI LIGHTS</td>\n",
       "      <td>1</td>\n",
       "      <td>2011-02-08 12:20:00</td>\n",
       "      <td>5.75</td>\n",
       "      <td>14527</td>\n",
       "      <td>United Kingdom</td>\n",
       "    </tr>\n",
       "    <tr>\n",
       "      <th>84995</th>\n",
       "      <td>543454</td>\n",
       "      <td>47566</td>\n",
       "      <td>PARTY BUNTING</td>\n",
       "      <td>2</td>\n",
       "      <td>2011-02-08 12:20:00</td>\n",
       "      <td>4.95</td>\n",
       "      <td>14527</td>\n",
       "      <td>United Kingdom</td>\n",
       "    </tr>\n",
       "    <tr>\n",
       "      <th>84996</th>\n",
       "      <td>543454</td>\n",
       "      <td>22788</td>\n",
       "      <td>BROCANTE COAT RACK</td>\n",
       "      <td>1</td>\n",
       "      <td>2011-02-08 12:20:00</td>\n",
       "      <td>9.95</td>\n",
       "      <td>14527</td>\n",
       "      <td>United Kingdom</td>\n",
       "    </tr>\n",
       "    <tr>\n",
       "      <th>84997</th>\n",
       "      <td>543454</td>\n",
       "      <td>21754</td>\n",
       "      <td>HOME BUILDING BLOCK WORD</td>\n",
       "      <td>2</td>\n",
       "      <td>2011-02-08 12:20:00</td>\n",
       "      <td>5.95</td>\n",
       "      <td>14527</td>\n",
       "      <td>United Kingdom</td>\n",
       "    </tr>\n",
       "  </tbody>\n",
       "</table>\n",
       "</div>"
      ],
      "text/plain": [
       "      InvoiceNo StockCode                        Description  Quantity  \\\n",
       "84983    543454     82484  WOOD BLACK BOARD ANT WHITE FINISH         2   \n",
       "84984    543454     22194             BLACK DINER WALL CLOCK         1   \n",
       "84985    543454     22193               RED DINER WALL CLOCK         2   \n",
       "84986    543454     22507       MEMO BOARD RETROSPOT  DESIGN         1   \n",
       "84987    543454     22852             DOG BOWL VINTAGE CREAM         1   \n",
       "84988    543454     22853             CAT BOWL VINTAGE CREAM         4   \n",
       "84989    543454     22795       SWEETHEART RECIPE BOOK STAND         1   \n",
       "84990    543454     22894      TABLECLOTH RED APPLES DESIGN          1   \n",
       "84991    543454     22625                 RED KITCHEN SCALES         1   \n",
       "84992    543454     21527  RED RETROSPOT TRADITIONAL TEAPOT          1   \n",
       "84993    543454     22379           RECYCLING BAG RETROSPOT          3   \n",
       "84994    543454     79321                      CHILLI LIGHTS         1   \n",
       "84995    543454     47566                      PARTY BUNTING         2   \n",
       "84996    543454     22788                 BROCANTE COAT RACK         1   \n",
       "84997    543454     21754           HOME BUILDING BLOCK WORD         2   \n",
       "\n",
       "              InvoiceDate  UnitPrice  CustomerID         Country  \n",
       "84983 2011-02-08 12:20:00       7.95       14527  United Kingdom  \n",
       "84984 2011-02-08 12:20:00       8.50       14527  United Kingdom  \n",
       "84985 2011-02-08 12:20:00       8.50       14527  United Kingdom  \n",
       "84986 2011-02-08 12:20:00       4.95       14527  United Kingdom  \n",
       "84987 2011-02-08 12:20:00       4.25       14527  United Kingdom  \n",
       "84988 2011-02-08 12:20:00       3.25       14527  United Kingdom  \n",
       "84989 2011-02-08 12:20:00       6.75       14527  United Kingdom  \n",
       "84990 2011-02-08 12:20:00       9.95       14527  United Kingdom  \n",
       "84991 2011-02-08 12:20:00       8.50       14527  United Kingdom  \n",
       "84992 2011-02-08 12:20:00       7.95       14527  United Kingdom  \n",
       "84993 2011-02-08 12:20:00       2.10       14527  United Kingdom  \n",
       "84994 2011-02-08 12:20:00       5.75       14527  United Kingdom  \n",
       "84995 2011-02-08 12:20:00       4.95       14527  United Kingdom  \n",
       "84996 2011-02-08 12:20:00       9.95       14527  United Kingdom  \n",
       "84997 2011-02-08 12:20:00       5.95       14527  United Kingdom  "
      ]
     },
     "execution_count": 48,
     "metadata": {},
     "output_type": "execute_result"
    }
   ],
   "source": [
    "df_invoice_543454.head(15)"
   ]
  },
  {
   "cell_type": "markdown",
   "id": "62e5e7f2",
   "metadata": {},
   "source": [
    "## Resumen parte 2\n",
    "1. Los decuentos, no tienen espejos postivos en cantidades. Por lo cual deben ser analizados  de manera separadas en la seccion de Cantidades. \n",
    "2. Una forma de poder encontrar los valores espejos entre transacciones devueltas, es con el Stockcode (Para cada producto hay un stockcode fijo)\n",
    "3. Se procede a eliminar todos los descuesto de la data\n",
    "4.  543454 y C549288\n"
   ]
  }
 ],
 "metadata": {
  "kernelspec": {
   "display_name": "Python 3",
   "language": "python",
   "name": "python3"
  },
  "language_info": {
   "codemirror_mode": {
    "name": "ipython",
    "version": 3
   },
   "file_extension": ".py",
   "mimetype": "text/x-python",
   "name": "python",
   "nbconvert_exporter": "python",
   "pygments_lexer": "ipython3",
   "version": "3.13.2"
  }
 },
 "nbformat": 4,
 "nbformat_minor": 5
}
