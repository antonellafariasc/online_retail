{
 "cells": [
  {
   "cell_type": "code",
   "execution_count": 2,
   "id": "52d0775f",
   "metadata": {},
   "outputs": [],
   "source": [
    "import pandas as pd\n",
    "import numpy as np"
   ]
  },
  {
   "cell_type": "code",
   "execution_count": 3,
   "id": "d9ca2ea3",
   "metadata": {},
   "outputs": [],
   "source": [
    "df_general = pd.read_csv('online_retail.csv')"
   ]
  },
  {
   "cell_type": "code",
   "execution_count": 4,
   "id": "327b1d40",
   "metadata": {},
   "outputs": [
    {
     "name": "stdout",
     "output_type": "stream",
     "text": [
      "<class 'pandas.core.frame.DataFrame'>\n",
      "RangeIndex: 541909 entries, 0 to 541908\n",
      "Data columns (total 8 columns):\n",
      " #   Column       Non-Null Count   Dtype  \n",
      "---  ------       --------------   -----  \n",
      " 0   InvoiceNo    541909 non-null  object \n",
      " 1   StockCode    541909 non-null  object \n",
      " 2   Description  540455 non-null  object \n",
      " 3   Quantity     541909 non-null  int64  \n",
      " 4   InvoiceDate  541909 non-null  object \n",
      " 5   UnitPrice    541909 non-null  float64\n",
      " 6   CustomerID   406829 non-null  float64\n",
      " 7   Country      541909 non-null  object \n",
      "dtypes: float64(2), int64(1), object(5)\n",
      "memory usage: 33.1+ MB\n"
     ]
    }
   ],
   "source": [
    "df_general.info()"
   ]
  },
  {
   "cell_type": "code",
   "execution_count": 5,
   "id": "22d7617a",
   "metadata": {},
   "outputs": [],
   "source": [
    "# Agregar columna de 'totalPrice'\n",
    "df_general['totalPrice'] = df_general['Quantity'] * df_general['UnitPrice']"
   ]
  },
  {
   "cell_type": "code",
   "execution_count": 6,
   "id": "e82950ca",
   "metadata": {},
   "outputs": [],
   "source": [
    "# Sustituir los valores nulos en 'CustomerID' por el valor de 'InvoiceNo' en la misma fila + 'A'\n",
    "df_general['CustomerID'] = df_general['CustomerID'].fillna(df_general['InvoiceNo'] + 'A')"
   ]
  },
  {
   "cell_type": "code",
   "execution_count": 7,
   "id": "c7df5524",
   "metadata": {},
   "outputs": [
    {
     "name": "stdout",
     "output_type": "stream",
     "text": [
      "<class 'pandas.core.frame.DataFrame'>\n",
      "RangeIndex: 541909 entries, 0 to 541908\n",
      "Data columns (total 9 columns):\n",
      " #   Column       Non-Null Count   Dtype  \n",
      "---  ------       --------------   -----  \n",
      " 0   InvoiceNo    541909 non-null  object \n",
      " 1   StockCode    541909 non-null  object \n",
      " 2   Description  540455 non-null  object \n",
      " 3   Quantity     541909 non-null  int64  \n",
      " 4   InvoiceDate  541909 non-null  object \n",
      " 5   UnitPrice    541909 non-null  float64\n",
      " 6   CustomerID   541909 non-null  object \n",
      " 7   Country      541909 non-null  object \n",
      " 8   totalPrice   541909 non-null  float64\n",
      "dtypes: float64(2), int64(1), object(6)\n",
      "memory usage: 37.2+ MB\n"
     ]
    }
   ],
   "source": [
    "df_general.info()"
   ]
  },
  {
   "cell_type": "code",
   "execution_count": 8,
   "id": "dc6fd873",
   "metadata": {},
   "outputs": [],
   "source": [
    "# Agrupa los registros por 'CostumerID' y muestra los 20 clientes que mas gastaron\n",
    "df_general = df_general.groupby('CustomerID').agg({'totalPrice': 'sum'}).reset_index()\n",
    "df_general = df_general.sort_values(by='totalPrice', ascending=False).head(20)"
   ]
  },
  {
   "cell_type": "code",
   "execution_count": 9,
   "id": "0d388b80",
   "metadata": {},
   "outputs": [
    {
     "data": {
      "text/html": [
       "<div>\n",
       "<style scoped>\n",
       "    .dataframe tbody tr th:only-of-type {\n",
       "        vertical-align: middle;\n",
       "    }\n",
       "\n",
       "    .dataframe tbody tr th {\n",
       "        vertical-align: top;\n",
       "    }\n",
       "\n",
       "    .dataframe thead th {\n",
       "        text-align: right;\n",
       "    }\n",
       "</style>\n",
       "<table border=\"1\" class=\"dataframe\">\n",
       "  <thead>\n",
       "    <tr style=\"text-align: right;\">\n",
       "      <th></th>\n",
       "      <th>CustomerID</th>\n",
       "      <th>totalPrice</th>\n",
       "    </tr>\n",
       "  </thead>\n",
       "  <tbody>\n",
       "    <tr>\n",
       "      <th>1703</th>\n",
       "      <td>14646.0</td>\n",
       "      <td>279489.02</td>\n",
       "    </tr>\n",
       "    <tr>\n",
       "      <th>4233</th>\n",
       "      <td>18102.0</td>\n",
       "      <td>256438.49</td>\n",
       "    </tr>\n",
       "    <tr>\n",
       "      <th>3758</th>\n",
       "      <td>17450.0</td>\n",
       "      <td>187482.17</td>\n",
       "    </tr>\n",
       "    <tr>\n",
       "      <th>1895</th>\n",
       "      <td>14911.0</td>\n",
       "      <td>132572.62</td>\n",
       "    </tr>\n",
       "    <tr>\n",
       "      <th>55</th>\n",
       "      <td>12415.0</td>\n",
       "      <td>123725.45</td>\n",
       "    </tr>\n",
       "  </tbody>\n",
       "</table>\n",
       "</div>"
      ],
      "text/plain": [
       "     CustomerID  totalPrice\n",
       "1703    14646.0   279489.02\n",
       "4233    18102.0   256438.49\n",
       "3758    17450.0   187482.17\n",
       "1895    14911.0   132572.62\n",
       "55      12415.0   123725.45"
      ]
     },
     "execution_count": 9,
     "metadata": {},
     "output_type": "execute_result"
    }
   ],
   "source": [
    "df_general.head()"
   ]
  },
  {
   "cell_type": "code",
   "execution_count": 10,
   "id": "09ee064c",
   "metadata": {},
   "outputs": [],
   "source": [
    "df = pd.read_csv('online_retail.csv')"
   ]
  },
  {
   "cell_type": "code",
   "execution_count": 11,
   "id": "9713e924",
   "metadata": {},
   "outputs": [
    {
     "name": "stdout",
     "output_type": "stream",
     "text": [
      "<class 'pandas.core.frame.DataFrame'>\n",
      "RangeIndex: 541909 entries, 0 to 541908\n",
      "Data columns (total 8 columns):\n",
      " #   Column       Non-Null Count   Dtype  \n",
      "---  ------       --------------   -----  \n",
      " 0   InvoiceNo    541909 non-null  object \n",
      " 1   StockCode    541909 non-null  object \n",
      " 2   Description  540455 non-null  object \n",
      " 3   Quantity     541909 non-null  int64  \n",
      " 4   InvoiceDate  541909 non-null  object \n",
      " 5   UnitPrice    541909 non-null  float64\n",
      " 6   CustomerID   406829 non-null  float64\n",
      " 7   Country      541909 non-null  object \n",
      "dtypes: float64(2), int64(1), object(5)\n",
      "memory usage: 33.1+ MB\n"
     ]
    }
   ],
   "source": [
    "df.info()"
   ]
  },
  {
   "cell_type": "markdown",
   "id": "2e814afd",
   "metadata": {},
   "source": [
    "### Resumen \n",
    "1. Se analizaron los nulos de CustomerID para entender el comportamientos de estos datos. \n",
    "2. Hay una imposibilidad de determinar los datos devueltos con su espejo positivo, dado que al no tener ID no se determina cual es..\n",
    "3. Los datos de invoceNo es el mismo independientemente de cuantas veces se repite por los diferentes productos\n",
    "4. InoviceNo = Misma compra = Mismo ID? (Se supone que el mismo InvoiceNo le pertence al mismo ID)\n",
    "5. Se procede a sustituir el CustomerID nulos con el valor de su InvoiceNo y se le añade una 'A' para poder identificarlo en el dataframe general. \n",
    "6. Se pierde la posibilidad de darle seguimiento a los producto, dado que los invoiceNo en este caso son diferente, pero esto representa el 0,2% de datos total. \n",
    "7. Se procede a analizar los datos ya completados. "
   ]
  },
  {
   "cell_type": "code",
   "execution_count": 12,
   "id": "138f264c",
   "metadata": {},
   "outputs": [
    {
     "name": "stdout",
     "output_type": "stream",
     "text": [
      "<class 'pandas.core.frame.DataFrame'>\n",
      "RangeIndex: 4372 entries, 0 to 4371\n",
      "Data columns (total 2 columns):\n",
      " #   Column      Non-Null Count  Dtype  \n",
      "---  ------      --------------  -----  \n",
      " 0   CustomerID  4372 non-null   float64\n",
      " 1   count       4372 non-null   int64  \n",
      "dtypes: float64(1), int64(1)\n",
      "memory usage: 68.4 KB\n"
     ]
    }
   ],
   "source": [
    "#Dime cuales son los CustomerID que más han comprado\n",
    "df_customer_count = df['CustomerID'].value_counts().reset_index()\n",
    "df_customer_count.info()"
   ]
  },
  {
   "cell_type": "code",
   "execution_count": 15,
   "id": "4ed99a3a",
   "metadata": {},
   "outputs": [],
   "source": [
    "#Cuentame cuantas Quantity  han comprado cada CustomerID\n",
    "df_quantity_count = df.groupby('CustomerID')['Quantity'].sum().reset_index()\n",
    "df_quantity_count = df_quantity_count.sort_values(by='Quantity', ascending=False).head(20)  "
   ]
  },
  {
   "cell_type": "code",
   "execution_count": 16,
   "id": "92dfabab",
   "metadata": {},
   "outputs": [
    {
     "data": {
      "text/html": [
       "<div>\n",
       "<style scoped>\n",
       "    .dataframe tbody tr th:only-of-type {\n",
       "        vertical-align: middle;\n",
       "    }\n",
       "\n",
       "    .dataframe tbody tr th {\n",
       "        vertical-align: top;\n",
       "    }\n",
       "\n",
       "    .dataframe thead th {\n",
       "        text-align: right;\n",
       "    }\n",
       "</style>\n",
       "<table border=\"1\" class=\"dataframe\">\n",
       "  <thead>\n",
       "    <tr style=\"text-align: right;\">\n",
       "      <th></th>\n",
       "      <th>CustomerID</th>\n",
       "      <th>Quantity</th>\n",
       "    </tr>\n",
       "  </thead>\n",
       "  <tbody>\n",
       "    <tr>\n",
       "      <th>1703</th>\n",
       "      <td>14646.0</td>\n",
       "      <td>196719</td>\n",
       "    </tr>\n",
       "    <tr>\n",
       "      <th>55</th>\n",
       "      <td>12415.0</td>\n",
       "      <td>77242</td>\n",
       "    </tr>\n",
       "    <tr>\n",
       "      <th>1895</th>\n",
       "      <td>14911.0</td>\n",
       "      <td>77180</td>\n",
       "    </tr>\n",
       "    <tr>\n",
       "      <th>3758</th>\n",
       "      <td>17450.0</td>\n",
       "      <td>69029</td>\n",
       "    </tr>\n",
       "    <tr>\n",
       "      <th>4233</th>\n",
       "      <td>18102.0</td>\n",
       "      <td>64122</td>\n",
       "    </tr>\n",
       "  </tbody>\n",
       "</table>\n",
       "</div>"
      ],
      "text/plain": [
       "      CustomerID  Quantity\n",
       "1703     14646.0    196719\n",
       "55       12415.0     77242\n",
       "1895     14911.0     77180\n",
       "3758     17450.0     69029\n",
       "4233     18102.0     64122"
      ]
     },
     "execution_count": 16,
     "metadata": {},
     "output_type": "execute_result"
    }
   ],
   "source": [
    "df_quantity_count.head()"
   ]
  },
  {
   "cell_type": "code",
   "execution_count": 17,
   "id": "7b8c78cf",
   "metadata": {},
   "outputs": [
    {
     "name": "stdout",
     "output_type": "stream",
     "text": [
      "Total Quantity: 5176450\n"
     ]
    }
   ],
   "source": [
    "#Cuantas Quantity hay en total\n",
    "total_quantity = df['Quantity'].sum()\n",
    "print(f'Total Quantity: {total_quantity}')"
   ]
  },
  {
   "cell_type": "markdown",
   "id": "8c8a5a22",
   "metadata": {},
   "source": [
    "## Resumen parte2\n",
    "1. Existe 5.176.450 compras realizadas en total. \n",
    "2. El cliente cuyo CustomerID '14646' realizo la mayor cantidad de compras de productos con un total de 196.719 \n",
    "3. El cliente "
   ]
  }
 ],
 "metadata": {
  "kernelspec": {
   "display_name": "Python 3",
   "language": "python",
   "name": "python3"
  },
  "language_info": {
   "codemirror_mode": {
    "name": "ipython",
    "version": 3
   },
   "file_extension": ".py",
   "mimetype": "text/x-python",
   "name": "python",
   "nbconvert_exporter": "python",
   "pygments_lexer": "ipython3",
   "version": "3.13.2"
  }
 },
 "nbformat": 4,
 "nbformat_minor": 5
}
