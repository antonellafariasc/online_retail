{
 "cells": [
  {
   "cell_type": "markdown",
   "id": "dac7494a",
   "metadata": {},
   "source": [
    "\n",
    "### Analisis de productos y ventas por pais\n",
    "## preguntas a responder\n",
    "* Cuales son los 10 productos mas vendidos? ( suma de cantidad = unidades de ventas) \n",
    "* Que productos generan mas ingresos? (suma de precio total)\n",
    "* cuales son los productos que mas devuelven?\n",
    "* top 10 países que compran mas, con su top 10 productos (sumatoria de productos)\n",
    "* Cual es el rendimiento de cada país en términos de ventas? (Sumatoria de ventas por país)\n",
    "* top 10 paises que devuelven mas productos\n"
   ]
  },
  {
   "cell_type": "code",
   "execution_count": 1,
   "id": "c58229c8",
   "metadata": {},
   "outputs": [],
   "source": [
    "import pandas as pd\n",
    "import numpy as np\n",
    "import matplotlib.pyplot as plt"
   ]
  },
  {
   "cell_type": "code",
   "execution_count": 2,
   "id": "7bb60db7",
   "metadata": {},
   "outputs": [],
   "source": [
    "#leer el archivo CSV\n",
    "df = pd.read_csv('online_retail_cleaned.csv')"
   ]
  },
  {
   "cell_type": "code",
   "execution_count": null,
   "id": "dfd5581d",
   "metadata": {},
   "outputs": [],
   "source": []
  }
 ],
 "metadata": {
  "kernelspec": {
   "display_name": "Python 3",
   "language": "python",
   "name": "python3"
  },
  "language_info": {
   "codemirror_mode": {
    "name": "ipython",
    "version": 3
   },
   "file_extension": ".py",
   "mimetype": "text/x-python",
   "name": "python",
   "nbconvert_exporter": "python",
   "pygments_lexer": "ipython3",
   "version": "3.13.2"
  }
 },
 "nbformat": 4,
 "nbformat_minor": 5
}
