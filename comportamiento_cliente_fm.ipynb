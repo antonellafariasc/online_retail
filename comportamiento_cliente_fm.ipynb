{
 "cells": [
  {
   "cell_type": "code",
   "execution_count": 3,
   "id": "02fbd2ec",
   "metadata": {},
   "outputs": [],
   "source": [
    "#Crea un dataframe con el archivo csv. \n",
    "import pandas as pd\n",
    "#Crea un dataframe con el archivo csv.\n",
    "df1 = pd.read_csv('online_retail_cleaned.csv')"
   ]
  },
  {
   "cell_type": "code",
   "execution_count": 4,
   "id": "a4d6409d",
   "metadata": {},
   "outputs": [
    {
     "name": "stdout",
     "output_type": "stream",
     "text": [
      "<class 'pandas.core.frame.DataFrame'>\n",
      "RangeIndex: 541759 entries, 0 to 541758\n",
      "Data columns (total 8 columns):\n",
      " #   Column       Non-Null Count   Dtype  \n",
      "---  ------       --------------   -----  \n",
      " 0   InvoiceNo    541759 non-null  object \n",
      " 1   StockCode    541759 non-null  object \n",
      " 2   Description  541759 non-null  object \n",
      " 3   Quantity     541759 non-null  int64  \n",
      " 4   InvoiceDate  541759 non-null  object \n",
      " 5   UnitPrice    541759 non-null  float64\n",
      " 6   CustomerID   541759 non-null  float64\n",
      " 7   Country      541759 non-null  object \n",
      "dtypes: float64(2), int64(1), object(5)\n",
      "memory usage: 33.1+ MB\n"
     ]
    }
   ],
   "source": [
    "df1.info()"
   ]
  },
  {
   "cell_type": "code",
   "execution_count": 5,
   "id": "604c5663",
   "metadata": {},
   "outputs": [
    {
     "name": "stdout",
     "output_type": "stream",
     "text": [
      "<class 'pandas.core.frame.DataFrame'>\n",
      "RangeIndex: 541759 entries, 0 to 541758\n",
      "Data columns (total 8 columns):\n",
      " #   Column       Non-Null Count   Dtype         \n",
      "---  ------       --------------   -----         \n",
      " 0   InvoiceNo    541759 non-null  object        \n",
      " 1   StockCode    541759 non-null  object        \n",
      " 2   Description  541759 non-null  object        \n",
      " 3   Quantity     541759 non-null  int64         \n",
      " 4   InvoiceDate  541759 non-null  datetime64[ns]\n",
      " 5   UnitPrice    541759 non-null  float64       \n",
      " 6   CustomerID   541759 non-null  float64       \n",
      " 7   Country      541759 non-null  object        \n",
      "dtypes: datetime64[ns](1), float64(2), int64(1), object(4)\n",
      "memory usage: 33.1+ MB\n"
     ]
    }
   ],
   "source": [
    "#Transforma la columna 'InvoiceDate' a tipo datetime.\n",
    "df1['InvoiceDate'] = pd.to_datetime(df1['InvoiceDate'])\n",
    "df1.info()"
   ]
  },
  {
   "cell_type": "code",
   "execution_count": 18,
   "id": "fab50f71",
   "metadata": {},
   "outputs": [
    {
     "name": "stdout",
     "output_type": "stream",
     "text": [
      "Suma de cantidades: 5177396\n"
     ]
    }
   ],
   "source": [
    "#Sumame la columna Quantity del dataframe df1\n",
    "suma_cantidades = df1['Quantity'].sum()\n",
    "print(f'Suma de cantidades: {suma_cantidades}')"
   ]
  },
  {
   "cell_type": "code",
   "execution_count": 7,
   "id": "c4569847",
   "metadata": {},
   "outputs": [
    {
     "name": "stdout",
     "output_type": "stream",
     "text": [
      "<class 'pandas.core.frame.DataFrame'>\n",
      "RangeIndex: 541759 entries, 0 to 541758\n",
      "Data columns (total 8 columns):\n",
      " #   Column       Non-Null Count   Dtype         \n",
      "---  ------       --------------   -----         \n",
      " 0   InvoiceNo    541759 non-null  object        \n",
      " 1   StockCode    541759 non-null  object        \n",
      " 2   Description  541759 non-null  object        \n",
      " 3   Quantity     541759 non-null  int64         \n",
      " 4   InvoiceDate  541759 non-null  datetime64[ns]\n",
      " 5   UnitPrice    541759 non-null  float64       \n",
      " 6   CustomerID   541759 non-null  Int64         \n",
      " 7   Country      541759 non-null  object        \n",
      "dtypes: Int64(1), datetime64[ns](1), float64(1), int64(1), object(4)\n",
      "memory usage: 33.6+ MB\n"
     ]
    }
   ],
   "source": [
    "#Transforma el CustomerID a tipo entero.\n",
    "df1['CustomerID'] = df1['CustomerID'].astype('Int64')\n",
    "df1.info()"
   ]
  },
  {
   "cell_type": "code",
   "execution_count": 22,
   "id": "42bfba5c",
   "metadata": {},
   "outputs": [
    {
     "name": "stdout",
     "output_type": "stream",
     "text": [
      "Suma de cantidades con UnitPrice > 0: 5310832\n"
     ]
    }
   ],
   "source": [
    "#Sumame la columna Quantity cuyo UnitPrice sea mayor a 0, exluyendo los valores iguales a 0\n",
    "suma_cantidades_unitprice = df1[df1['UnitPrice'] > 0]['Quantity'].sum()\n",
    "print(f'Suma de cantidades con UnitPrice > 0: {suma_cantidades_unitprice}')\n"
   ]
  },
  {
   "cell_type": "code",
   "execution_count": 19,
   "id": "f6e622c6",
   "metadata": {},
   "outputs": [
    {
     "name": "stdout",
     "output_type": "stream",
     "text": [
      "Suma de cantidades: 5177396\n"
     ]
    }
   ],
   "source": [
    "#Sumame las columnas Quantity.\n",
    "suma_cantidades = df1['Quantity'].sum()\n",
    "print(f'Suma de cantidades: {suma_cantidades}')\n"
   ]
  },
  {
   "cell_type": "code",
   "execution_count": 20,
   "id": "ace23559",
   "metadata": {},
   "outputs": [
    {
     "name": "stdout",
     "output_type": "stream",
     "text": [
      "Suma de cantidades con UnitPrice = 0: -133436\n"
     ]
    }
   ],
   "source": [
    "#sumame las columas Quantity, cuyo UnitPrice sea igual a 0\n",
    "suma_cantidades_unitprice_0 = df1[df1['UnitPrice'] == 0]['Quantity'].sum()\n",
    "print(f'Suma de cantidades con UnitPrice = 0: {suma_cantidades_unitprice_0}')"
   ]
  },
  {
   "cell_type": "code",
   "execution_count": 23,
   "id": "81638ed2",
   "metadata": {},
   "outputs": [
    {
     "name": "stdout",
     "output_type": "stream",
     "text": [
      "Suma de cantidades positivas: 5660875\n"
     ]
    }
   ],
   "source": [
    "#Sumame la columna Quantity del dataframe df1 solo valores positivos.\n",
    "suma_cantidades_positivas = df1[df1['Quantity'] > 0]['Quantity'].sum()\n",
    "print(f'Suma de cantidades positivas: {suma_cantidades_positivas}')"
   ]
  },
  {
   "cell_type": "code",
   "execution_count": 26,
   "id": "c291291b",
   "metadata": {},
   "outputs": [
    {
     "name": "stdout",
     "output_type": "stream",
     "text": [
      "Tipos de CustomerID en df1: 4373\n"
     ]
    }
   ],
   "source": [
    "#Dime cuantos tipos de CustomerID hay en el dataframe df1.\n",
    "numero_clientes_unicos = df1['CustomerID'].nunique()\n",
    "print(f'Tipos de CustomerID en df1: {numero_clientes_unicos}')\n"
   ]
  },
  {
   "cell_type": "code",
   "execution_count": 11,
   "id": "170fdb0b",
   "metadata": {},
   "outputs": [
    {
     "name": "stdout",
     "output_type": "stream",
     "text": [
      "<class 'pandas.core.frame.DataFrame'>\n",
      "Index: 10494 entries, 141 to 541567\n",
      "Data columns (total 8 columns):\n",
      " #   Column       Non-Null Count  Dtype         \n",
      "---  ------       --------------  -----         \n",
      " 0   InvoiceNo    10494 non-null  object        \n",
      " 1   StockCode    10494 non-null  object        \n",
      " 2   Description  10494 non-null  object        \n",
      " 3   Quantity     10494 non-null  int64         \n",
      " 4   InvoiceDate  10494 non-null  datetime64[ns]\n",
      " 5   UnitPrice    10494 non-null  float64       \n",
      " 6   CustomerID   10494 non-null  Int64         \n",
      " 7   Country      10494 non-null  object        \n",
      "dtypes: Int64(1), datetime64[ns](1), float64(1), int64(1), object(4)\n",
      "memory usage: 748.1+ KB\n"
     ]
    }
   ],
   "source": [
    "#Crea un dataframe con los valores donde la columna Quiantity sea menor que 0.\n",
    "df2 = df1[df1['Quantity'] < 0]\n",
    "df2.info()"
   ]
  },
  {
   "cell_type": "code",
   "execution_count": 12,
   "id": "daa246ec",
   "metadata": {},
   "outputs": [
    {
     "name": "stdout",
     "output_type": "stream",
     "text": [
      "Suma de cantidades negativas: -483479\n"
     ]
    }
   ],
   "source": [
    "#Sumame los valores de la columna Quantity.\n",
    "suma_cantidades = df2['Quantity'].sum()\n",
    "print(f'Suma de cantidades negativas: {suma_cantidades}')"
   ]
  },
  {
   "cell_type": "code",
   "execution_count": 24,
   "id": "7b5d508b",
   "metadata": {},
   "outputs": [
    {
     "name": "stdout",
     "output_type": "stream",
     "text": [
      "Suma de precios: 175228.73\n"
     ]
    }
   ],
   "source": [
    "#Sumame la columna de precios UnitPrice del df2\n",
    "suma_precios = df2['UnitPrice'].sum()\n",
    "print(f'Suma de precios: {suma_precios}')\n"
   ]
  },
  {
   "cell_type": "code",
   "execution_count": 25,
   "id": "b03d4c83",
   "metadata": {},
   "outputs": [
    {
     "name": "stdout",
     "output_type": "stream",
     "text": [
      "Tipos de CustomerID en df2: 1590\n"
     ]
    }
   ],
   "source": [
    "#Dime cuantos tipos de customerID hay en el dataframe df2\n",
    "tipos_customerID = df2['CustomerID'].nunique()\n",
    "print(f'Tipos de CustomerID en df2: {tipos_customerID}')\n"
   ]
  },
  {
   "cell_type": "code",
   "execution_count": 27,
   "id": "74db4a2b",
   "metadata": {},
   "outputs": [
    {
     "name": "stdout",
     "output_type": "stream",
     "text": [
      "El CustomerID que más aparece en df2 es: 12345\n"
     ]
    }
   ],
   "source": [
    "#Dime los customerID que más veces aparecen en el dataframe df2\n",
    "customerID_mas_frecuente = df2['CustomerID'].value_counts().idxmax()\n",
    "print(f'El CustomerID que más aparece en df2 es: {customerID_mas_frecuente}')\n"
   ]
  },
  {
   "cell_type": "code",
   "execution_count": 28,
   "id": "6466bb54",
   "metadata": {},
   "outputs": [
    {
     "name": "stdout",
     "output_type": "stream",
     "text": [
      "Descripciones del CustomerID 12345: ['RECIPE BOX WITH METAL HEART' 'MIRROR LOVE BIRD T-LIGHT HOLDER'\n",
      " 'CARD DOLLY GIRL ' 'PENNY FARTHING BIRTHDAY CARD'\n",
      " 'CREAM SWEETHEART WALL CABINET' 'SCALLOP SHELL SOAP DISH'\n",
      " 'LARGE ROUND CUTGLASS CANDLESTICK' 'HEART T-LIGHT HOLDER '\n",
      " 'SILVER LATTICE VANILLA CANDLE POT' 'ASSORTED TUTTI FRUTTI SMALL PURSE'\n",
      " 'PARTY METAL SIGN ' 'KEEP OUT BOYS DOOR HANGER '\n",
      " 'FAIRY CAKE NOTEBOOK A5 SIZE' 'HEART GARLAND RUSTIC PADDED'\n",
      " 'RETROSPOT TEA SET CERAMIC 11 PC ' 'RED RETROSPOT SMALL MILK JUG'\n",
      " 'FOLKART HEART NAPKIN RINGS' 'MODERN VINTAGE COTTON SHOPPING BAG'\n",
      " 'ROBOT MUG IN DISPLAY BOX' 'GINGHAM OVEN GLOVE RED HEART '\n",
      " 'TEA TIME TEA TOWELS ' 'PINK/WHITE RIBBED MELAMINE JUG'\n",
      " 'SET/4 2 TONE EGG SHAPE MIXING BOWLS' 'WHITE CHRISTMAS STAR DECORATION'\n",
      " 'GLITTER SNOW PEAR TREE DECORATION' 'PORCELAIN BUTTERFLY OIL BURNER'\n",
      " 'SMALL SILVER TRELLIS CANDLEPOT' 'CONDIMENT TRAY 4 BOWLS AND 4 SPOONS'\n",
      " '?' 'ENAMEL MEASURING JUG CREAM' '4 TRADITIONAL SPINNING TOPS'\n",
      " 'S/6 WOODEN SKITTLES IN COTTON BAG' 'ALPHABET STENCIL CRAFT'\n",
      " 'TRADITIONAL WOODEN SKIPPING ROPE' \"POPPY'S PLAYHOUSE BATHROOM\"\n",
      " 'MEASURING TAPE BABUSHKA RED' 'ROUND SNACK BOXES SET OF 4 SKULLS'\n",
      " 'RED  HARMONICA IN BOX ' 'ROTATING SILVER ANGELS T-LIGHT HLDR'\n",
      " \"POPPY'S PLAYHOUSE KITCHEN\" 'CHRISTMAS LIGHTS 10 VINTAGE BAUBLES'\n",
      " '10 COLOUR SPACEBOY PEN' 'PAPER CHAIN KIT LONDON'\n",
      " 'FELTCRAFT CHRISTMAS FAIRY' 'CHRISTMAS CRAFT TREE TOP ANGEL'\n",
      " 'ROUND SNACK BOXES SET OF 4 FRUITS ' 'MAGIC DRAWING SLATE PURDEY'\n",
      " 'EIGHT PIECE DINOSAUR SET' 'FAIRY TALE COTTAGE NIGHTLIGHT'\n",
      " 'PACK 3 FIRE ENGINE/CAR PATCHES' 'NINJA RABBIT PINK'\n",
      " 'YELLOW FLOWERS FELT HANDBAG KIT' 'check'\n",
      " 'SET OF 16 VINTAGE IVORY CUTLERY' 'damages' \"NURSE'S BAG SOFT TOY\"\n",
      " 'STRAWBERRY DREAM CHILDS UMBRELLA' 'BLUE WIRE SPIRAL CANDLE HOLDER'\n",
      " 'FROG CANDLE' 'DOOR HANGER  MUM + DADS ROOM' 'IVY HEART WREATH'\n",
      " 'STAR DECORATION RUSTIC' 'RED WHITE SCARF  HOT WATER BOTTLE'\n",
      " 'Bank Charges' 'SAMPLES' 'Manual' 'SWEETHEART CARRY-ALL BASKET'\n",
      " 'PINK HEART DOTS HOT WATER BOTTLE' 'ROBIN CHRISTMAS CARD'\n",
      " 'VINTAGE WOODEN BAR STOOL' 'HALL CABINET WITH 3 DRAWERS'\n",
      " 'SET OF 3 CONEY ISLAND OVAL BOXES' 'RED GINGHAM ROSE JEWELLERY BOX'\n",
      " 'BLACK GRAND BAROQUE PHOTO FRAME' 'SANDWICH BATH SPONGE'\n",
      " 'CHRISTMAS TREE DECORATION WITH BELL' 'faulty'\n",
      " 'STAR PORTABLE TABLE LIGHT ' 'PIG MUG IN TWO COLOUR DESIGNS'\n",
      " 'SET/3 TALL GLASS CANDLE HOLDER PINK' 'HANGING MEDINA LANTERN SMALL'\n",
      " 'Dotcom sales' 'LUNCH BOX WITH CUTLERY FAIRY CAKES '\n",
      " 'CORONA MEXICAN TRAY' 'GUMBALL COAT RACK' 'BLUE DRAGONFLY HELICOPTER'\n",
      " \"POTTING SHED SOW 'N' GROW SET\" 'SET OF 3 CAKE TINS PANTRY DESIGN '\n",
      " 'BINGO SET' 'HAND OPEN SHAPE DECO.WHITE' 'UTILTY CABINET WITH HOOKS'\n",
      " 'CREAM SWEETHEART LETTER RACK' 'SHOE SHINE BOX '\n",
      " 'BLACK FLOWER CANDLE PLATE' 'JASMINE VOTIVE CANDLE'\n",
      " '3 HEARTS HANGING DECORATION RUSTIC' 'reverse 21/5/10 adjustment'\n",
      " 'HAND WARMER OWL DESIGN' 'OCEAN SCENT CANDLE IN JEWELLED BOX'\n",
      " 'SMALLFOLKART BAUBLE CHRISTMAS DEC' 'LARGE POPCORN HOLDER ' 'POSTAGE'\n",
      " 'NECKLACE+BRACELET SET BLUE BLOSSOM' 'PINK FAIRY CAKE CHILDRENS APRON'\n",
      " 'COSY HOUR GIANT TUBE MATCHES' 'mouldy, thrown away.'\n",
      " 'ZINC TOP  2 DOOR WOODEN SHELF ' 'GREEN JUICY FRUIT PHOTO FRAME'\n",
      " 'GLASS CAKE COVER AND PLATE' 'GOLD PRINT PAPER BAG'\n",
      " 'RED WOOLLY HOTTIE WHITE HEART.' 'SAVOY ART DECO CLOCK' 'counted'\n",
      " 'VINTAGE PINK DECORATIVE PARASOL' 'HOT WATER BOTTLE BABUSHKA '\n",
      " 'HEART T-LIGHT HOLDER' 'BLUE GEISHA GIRL ' 'PINK LOVE BIRD CANDLE'\n",
      " 'RETROSPOT BABUSHKA DOORSTOP' 'S/4 CACTI CANDLES'\n",
      " 'BLUE POT PLANT CANDLE ' 'S/4 PINK FLOWER CANDLES IN BOWL'\n",
      " 'SET/4 RED MINI ROSE CANDLE IN BOWL' 'TEA TIME TEAPOT IN GIFT BOX'\n",
      " 'HAND WARMER SCOTTY DOG DESIGN' 'HAND WARMER RED RETROSPOT' 'Given away'\n",
      " 'Dotcom' 'SILK PURSE BABUSHKA RED' 'BLUE PATCH PURSE PINK HEART'\n",
      " 'DANISH ROSE FOLDING CHAIR' 'label mix up' 'samples/damages'\n",
      " 'MOUSEY LONG LEGS SOFT TOY' 'POTTING SHED CANDLE CITRONELLA'\n",
      " 'HOT BATHS METAL SIGN' 'PINK METAL SWINGING BUNNY' 'EASTER BUNNY WREATH'\n",
      " 'WHITE HAND TOWEL WITH BUTTERFLY' 'HEN HOUSE W CHICK IN NEST'\n",
      " 'EASTER CRAFT IVY WREATH WITH CHICK'\n",
      " 'CAKE STAND VICTORIAN FILIGREE LARGE' 'DOTCOM POSTAGE'\n",
      " 'GLASS  BEURRE DISH' \"ASS COL LARGE SAND FROG P'WEIGHT\"\n",
      " 'SILVER MINI TAPE MEASURE ' 'VINTAGE PHOTO ALBUM PARIS DAYS'\n",
      " 'ASSORTED TUTTI FRUTTI ROUND BOX' 'BABY MOUSE RED GINGHAM DRESS'\n",
      " 'NEWSPAPER STAND' 'TEA TIME BREAKFAST BASKET' 'HEART SHAPED MIRROR'\n",
      " 'FRENCH CHATEAU LARGE FRUIT BOWL ' 'FRENCH CHATEAU SMALL FRUITBOWL'\n",
      " 'CURIOUS IMAGES SCRAP BOOK SET' 'WATERING CAN SINGLE HOOK PISTACHIO'\n",
      " 'SET OF 3 BABUSHKA STACKING TINS' 'ADVENT CALENDAR GINGHAM SACK'\n",
      " '5 HOOK HANGER MAGIC TOADSTOOL' '12 DAISY PEGS IN WOOD BOX'\n",
      " 'FOLK FELT HANGING MULTICOL GARLAND' '15 PINK FLUFFY CHICKS IN BOX'\n",
      " 'BABY BOOM RIBBONS ' 'SET OF 3 COLOURED  FLYING DUCKS'\n",
      " 'RETROSPOT PARTY BAG + STICKER SET' 'SKULLS PARTY BAG + STICKER SET'\n",
      " 'TOAST ITS - I LOVE YOU ' 'thrown away'\n",
      " 'BLUE NEW BAROQUE FLOCK CANDLESTICK'\n",
      " 'TEATIME FUNKY FLOWER BACKPACK FOR 2' 'HEART BUTTONS JEWELLERY BOX'\n",
      " 'SMALL KITCHEN FLOWER POTS PLAQUE' 'FRUIT TREE AND BIRDS WALL PLAQUE'\n",
      " 'SET/6 POSIES PAPER CUPS' 'SMALL FOLKART STAR CHRISTMAS DEC'\n",
      " 'DOORMAT BLACK FLOCK ' 'WHITE WIRE EGG HOLDER'\n",
      " 'CHALKBOARD KITCHEN ORGANISER' 'MINT KITCHEN SCALES'\n",
      " 'BREAD BIN DINER STYLE IVORY' 'CHILDRENS GARDEN GLOVES PINK'\n",
      " 'EASTER TIN BUCKET' 'WHITE HYDRANGEA ART FLOWER'\n",
      " 'incorrectly made-thrown away.' 'RAIN PONCHO ' 'HAND WARMER UNION JACK'\n",
      " 'HAND WARMER BIRD DESIGN' 'HOT WATER BOTTLE TEA AND SYMPATHY'\n",
      " 'TURQ ICE CREAM BUM BAG ' 'CARD HOLDER GINGHAM HEART'\n",
      " 'HANGING GLASS ETCHED TEALIGHT' 'MILK PAN PINK POLKADOT'\n",
      " 'PINK/YELLOW FLOWERS HANDBAG' 'BLUE SWEETHEART BRACELET'\n",
      " 'RAINY LADIES BIRTHDAY CARD' 'showroom' 'LOVE HEART NAPKIN BOX '\n",
      " 'PACK OF 20 NAPKINS PANTRY DESIGN' 'WHITE JEWELLED HEART DECORATION'\n",
      " 'UNION FLAG WINDSOCK' 'PINK POLKADOT GARDEN PARASOL'\n",
      " 'BLUE FELT EASTER EGG BASKET' 'SOLDIERS EGG CUP '\n",
      " 'PINK CHERRY BLOSSOM CUP & SAUCER' 'BLUE TEATIME PRINT BOWL '\n",
      " 'CANDY SPOT TEA COSY' 'BLUE BREAKFAST CUP AND SAUCER '\n",
      " 'RIBBON REEL POLKADOTS ' 'FELTCRAFT DOLL MARIA'\n",
      " 'WHITE BIRD GARDEN DESIGN MUG' 'MIA' 'Dotcom set' 'wrongly sold as sets'\n",
      " 'Amazon sold sets' 'dotcom sold sets' 'wrongly sold sets'\n",
      " '? sold as sets?' '?sold as sets?' 'Thrown away.' 'damages/display'\n",
      " 'damaged stock' 'BLUE POLKADOT WASHING UP GLOVES' 'broken'\n",
      " 'TOYBOX  WRAP ' 'SKULLS GREETING CARD' 'throw away'\n",
      " 'LAVENDER SCENT CAKE CANDLE' 'wrong barcode (22467)'\n",
      " 'PINK & WHITE BREAKFAST TRAY' 'GLASS CLOCHE LARGE'\n",
      " 'CREAM FELT EASTER EGG BASKET' 'FOUR HOOK  WHITE LOVEBIRDS'\n",
      " '20 DOLLY PEGS RETROSPOT' 'PHOTO FRAME CORNICE'\n",
      " 'SMALL CHUNKY GLASS ROMAN  BOWL' 'ANTIQUE TALL SWIRLGLASS TRINKET POT'\n",
      " 'PINK POLKADOT CHILDRENS UMBRELLA' 'POTTING SHED SEED ENVELOPES'\n",
      " 'ORIGAMI ROSE INCENSE IN TUBE' 'S/12 VANILLA  BOTANICAL T-LIGHTS'\n",
      " 'T-LIGHT GLASS FLUTED ANTIQUE' 'SET/3 POT PLANT CANDLES' 'wrong barcode'\n",
      " 'barcode problem' 'HOOK, 1 HANGER ,MAGIC GARDEN' 'BRIGHT BLUES RIBBONS '\n",
      " '3 TIER CAKE TIN RED AND CREAM' 'ROSE DU SUD COSMETICS BAG'\n",
      " 'HEART OF WICKER LARGE' '?lost' 'POTTING SHED ROSE CANDLE'\n",
      " 'SMALL LICORICE DES PINK BOWL' 'DAIRY MAID  PUDDING BOWL'\n",
      " \"thrown away-can't sell.\" \"thrown away-can't sell\"\n",
      " 'FUSCHIA RETRO BAR STOOL' 'WOOD 2 DRAWER CABINET WHITE FINISH'\n",
      " 'S/3 PINK SQUARE PLANTERS ROSES' 'ORIGAMI SANDLEWOOD INCENSE+FLOWER'\n",
      " 'MOROCCAN BEATEN METAL MIRROR' 'LOVE LARGE WOOD LETTERS '\n",
      " 'METAL 4 HOOK HANGER FRENCH CHATEAU'\n",
      " 'CERAMIC BIRDHOUSE CRESTED TIT SMALL' 'HOT BATHS SOAP HOLDER'\n",
      " 'ANTIQUE GLASS HEART DECORATION ' 'JINGLE BELLS TREE DECORATION'\n",
      " 'FRIDGE MAGNETS LA VIE EN ROSE' 'ASSTD FRUIT+FLOWERS FRIDGE MAGNETS'\n",
      " 'ASSORTED COLOUR BIRD ORNAMENT' 'WRAP ALPHABET DESIGN'\n",
      " 'REVOLVER WOODEN RULER ' 'GIRAFFE WOODEN RULER'\n",
      " 'METAL DECORATION NAUGHTY CHILDREN ' 'CHRISTMAS METAL TAGS ASSORTED '\n",
      " 'FRIDGE MAGNETS US DINER ASSORTED' 'ASSORTED BOTTLE TOP  MAGNETS '\n",
      " '12 MESSAGE CARDS WITH ENVELOPES' 'WRAP CIRCUS PARADE'\n",
      " 'WRAP I LOVE LONDON ' 'MAGNETS PACK OF 4 VINTAGE LABELS '\n",
      " 'MAGNETS PACK OF 4 VINTAGE COLLAGE' 'MAGNETS PACK OF 4 CHILDHOOD MEMORY'\n",
      " 'MAGNETS PACK OF 4 SWALLOWS' 'MAGNETS PACK OF 4 RETRO PHOTO'\n",
      " 'VINTAGE CARAVAN GIFT WRAP' 'SPACEBOY GIFT WRAP' 'KEY FOB , FRONT  DOOR '\n",
      " 'SET/4 SKULL BADGES' 'VICTORIAN  METAL POSTCARD SPRING'\n",
      " 'CAST IRON HOOK GARDEN TROWEL' 'damages?' 're dotcom quick fix.'\n",
      " 'POCKET MIRROR \"GLAMOROUS\"' 'BLUE ROSE PATCH PURSE PINK BUTTERFL'\n",
      " 'GOLD COSMETICS BAG WITH BUTTERFLY' 'ASSORTED COLOUR SILK GLASSES CASE'\n",
      " 'RIBBONS PURSE ' 'PINK HEARTS PAPER GARLAND' 'JUMBO BAG OWLS'\n",
      " 'GIRLY PINK TOOL SET' 'GARDEN METAL SIGN '\n",
      " 'CUPID SCENTED CANDLE IN GLASS' 'GREEN POP ART MAO CUSHION COVER '\n",
      " 'HEART OF WICKER SMALL' 'VINTAGE UNION JACK BUNTING'\n",
      " 'NECKLACE+BRACELET SET BLUE HIBISCUS' 'RED RETROSPOT TRADITIONAL TEAPOT '\n",
      " 'EIGHT PIECE CREEPY CRAWLIE SET' 'CLASSICAL ROSE SMALL VASE'\n",
      " 'CLASSICAL ROSE CANDLESTAND' 'MAGIC DRAWING SLATE BAKE A CAKE '\n",
      " 'SET OF 6 VINTAGE NOTELETS KIT' \"Dotcom sold in 6's\" 'sold in set?'\n",
      " 'ORGANISER WOOD ANTIQUE WHITE ' 'cracked' 'BLACK DINER WALL CLOCK'\n",
      " 'sold as 22467' 'PINK  HONEYCOMB PAPER BALL '\n",
      " 'BLUE TEA TOWEL CLASSIC DESIGN' 'BLACK/WHITE GLASS/SILVER BRACELET'\n",
      " 'PAIR BUTTERFLY HAIR CLIPS' 'PEARL & SHELL 42\"NECKL. GREEN'\n",
      " 'MEASURING TAPE BABUSHKA BLUE' 'FOLDING CAMPING SCISSOR W/KNIF & S'\n",
      " 'Damaged' 'LADYBIRD + BEE RAFFIA FOOD COVER'\n",
      " 'WOODEN FRAME ANTIQUE WHITE ' 'FROG SOCK PUPPET'\n",
      " '4 BLUE DINNER CANDLES SILVER FLOCK' 'SET/4 GARDEN ROSE DINNER CANDLE'\n",
      " 'TEA TIME TABLE CLOTH' 'SET OF 72 RETROSPOT PAPER  DOILIES'\n",
      " 'IVORY PILLAR CANDLE GOLD FLOCK' 'DAISY FOLKART HEART DECORATION'\n",
      " 'CLEAR STATIONERY BOX SET ' 'STRIPES DESIGN TEDDY'\n",
      " 'VINTAGE KITCHEN PRINT SEAFOOD' 'SMALL MEDINA STAMPED METAL BOWL '\n",
      " 'PURPLE/TURQ FLOWERS HANDBAG' 'PACK 3 IRON ON DOG PATCHES'\n",
      " 'PACK 20 ENGLISH ROSE PAPER NAPKINS' 'GARDEN PATH NOTEBOOK '\n",
      " 'TRANSPARENT ACRYLIC TAPE DISPENSER' 'BAG OF SILVER STONES'\n",
      " '75 BLACK PETIT FOUR CASES' 'PACK 4 FLOWER/BUTTERFLY PATCHES'\n",
      " 'PACK 6 HEART/ICE-CREAM PATCHES' 'GIANT MEDINA STAMPED METAL BOWL '\n",
      " '60 GOLD AND SILVER FAIRY CAKE CASES' 'GREEN FERN POCKET BOOK'\n",
      " 'CHRYSANTHEMUM POCKET BOOK ' 'ABSTRACT CIRCLES POCKET BOOK'\n",
      " 'YELLOW METAL CHICKEN HEART ' 'VINTAGE BEAD PINK JEWEL STAND'\n",
      " 'RETRO PINK BALL ASHTRAY ' 'CLAM SHELL LARGE'\n",
      " 'ENVELOPE 50 ROMANTIC IMAGES' 'BLUE PAISLEY NOTEBOOK'\n",
      " 'VINTAGE BEAD COSMETIC BAG ' 'LIGHT PINK FLOCK GLASS CANDLEHOLDER'\n",
      " 'WAY OUT METAL SIGN ' 'ROUND ARTICULATED PINK CLOCK W/SUCK'\n",
      " 'BANK ACCOUNT  GREETING  CARD ' 'WRAP GREEN RUSSIAN FOLKART '\n",
      " 'ACRYLIC JEWEL SNOWFLAKE, PINK' 'SCENTED CANDLE IN DIGITALIS TIN'\n",
      " 'ASSORTED SANSKRIT MINI NOTEBOOK' 'BOX/12 CHICK & EGG IN BASKET'\n",
      " 'KEEP OUT GIRLS DOOR HANGER ' 'BATHROOM METAL SIGN '\n",
      " 'PINK PARTY SUNGLASSES' 'PINK FLOCK GLASS CANDLEHOLDER'\n",
      " 'CROCHET ROSE DES CLOTHES HANGER' 'SMALL TAHITI BEACH BAG'\n",
      " 'LARGE TAHITI BEACH BAG' 'COSY SLIPPER SHOES SMALL  RED '\n",
      " 'AFGHAN SLIPPER SOCK PAIR' '75 GREEN FAIRY CAKE CASES'\n",
      " 'GREEN FERN NOTEBOOK' 'ACRYLIC JEWEL ICICLE, BLUE'\n",
      " '3 WICK CHRISTMAS BRIAR CANDLE ' 'BOTANICAL ROSE GREETING CARD'\n",
      " 'GREETING CARD, STICKY GORDON' 'RETRO BROWN BALL ASHTRAY '\n",
      " 'SET 4 NURSERY DES ROUND BOXES' 'CREAM AND PINK FLOWERS PONY '\n",
      " 'DAISY NOTEBOOK ' 'RIBBON REEL LACE DESIGN ' 'PINK RIVIERA HANDBAG'\n",
      " 'FUSCHIA TABLE RUN FLOWER ' 'BLUE FLOWER DES PURSE'\n",
      " 'BLUE STRIPES SHOULDER BAG' 'PARTY FOOD SHOPPER BAG' 'POSY CANDY BAG'\n",
      " 'PINK PAISLEY CUSHION COVER ' 'BLUE CUSHION COVER WITH FLOWER'\n",
      " 'PINK CAT FLORAL CUSHION COVER ' 'BLUE FLOCK CUSHION COVER '\n",
      " 'GOLD FLOWER CUSHION COVER ' 'SUNSET COLOUR CHUNKY KNITTED THROW'\n",
      " 'WHITE TISSUE REAM' '3D SHEET OF CAT STICKERS' 'SILVER LOOKING MIRROR'\n",
      " 'mystery! Only ever imported 1800' 'PORCELAIN ROSE SMALL'\n",
      " 'MERCHANT CHANDLER CREDIT ERROR, STO' 'POSSIBLE DAMAGES OR LOST?'\n",
      " 'BLACK MEDIUM GLASS CAKE STAND' 'PINK KNITTED EGG COSY'\n",
      " 'BLUE KNITTED EGG COSY' 'damaged' 'JUMBO BAG STRAWBERRY' 'DAMAGED'\n",
      " 'Display' 'PASTEL BLUE PHOTO ALBUM ' 'BLACK SMALL GLASS CAKE STAND'\n",
      " 'FRENCH CHATEAU OVAL PLATTER' 'SQUARE CHERRY BLOSSOM CABINET' 'Missing'\n",
      " \"FANNY'S REST STOPMETAL SIGN\" 'wrong code?' 'wrong code'\n",
      " 'CREAM SWEETHEART SHELF + HOOKS' 'MEDIUM CHINESE STYLE SCISSOR' 'adjust'\n",
      " 'crushed' 'GLASS CHALICE GREEN  LARGE ' 'PAPER CHAIN KIT EMPIRE'\n",
      " 'INFLATABLE POLITICAL GLOBE ' 'BLUE CRUSOE CHECK LAMPSHADE'\n",
      " 'BLUE SHARK HELICOPTER' 'FOUR RABBIT EASTER DECORATIONS'\n",
      " 'ENAMEL BLUE RIM TEA CONTAINER' 'SET OF 6 RIBBONS VINTAGE CHRISTMAS'\n",
      " 'COUNTRY COTTAGE  DOORSTOP GREEN' 'SET OF 6 ICE CREAM SKITTLES'\n",
      " 'RETRO \"TEA FOR ONE\" ' 'SWEETHEART RECIPE BOOK STAND'\n",
      " 'GUMBALL MONOCHROME COAT RACK' 'CHILDS GARDEN TROWEL PINK'\n",
      " 'YELLOW DRAGONFLY HELICOPTER' 'SET/4 MODERN VINTAGE COTTON NAPKINS'\n",
      " 'HANGING BUTTERFLY  EGG' 'ALARM CLOCK BAKELIKE GREEN'\n",
      " 'VINTAGE GOLD TINSEL REEL' 'NECKLACE+BRACELET SET PINK DAISY'\n",
      " 'BLUE FLYING SINGING CANARY' 'HOLLY TOP CHRISTMAS STOCKING'\n",
      " '*Boombox Ipod Classic' 'CROCHET BEAR RED/BLUE  KEYRING'\n",
      " 'YELLOW POT PLANT CANDLE' 'PINK SMALL GLASS CAKE STAND'\n",
      " 'GROW YOUR OWN PLANT IN A CAN ' \"RETRO PLASTIC 70'S TRAY\"\n",
      " 'RED KITCHEN SCALES' 'JARDIN ETCHED GLASS CHEESE DISH'\n",
      " 'VINTAGE BLUE KITCHEN CABINET' 'damages/showroom etc'\n",
      " '12 PENCILS SMALL TUBE RED RETROSPOT' 'LOVE HEART SOCK HANGER' 'samples'\n",
      " 'damages/credits from ASOS.' 'PINK FEATHER CHRISTMAS DECORATION'\n",
      " 'HAND TOWEL PALE BLUE W FLOWERS' 'ASSORTED LAQUERED INCENSE HOLDERS'\n",
      " 'HOME SMALL WOOD LETTERS' 'CREAM CUPID HEARTS COAT HANGER'\n",
      " 'RED RETROSPOT STORAGE JAR' 'APRON MODERN VINTAGE COTTON'\n",
      " 'SET OF 36 PAISLEY FLOWER DOILIES' 'CHILDRENS GARDEN GLOVES BLUE'\n",
      " 'SILVER ROCOCO CANDLE STICK' 'PURPLE DRAWERKNOB ACRYLIC EDWARDIAN'\n",
      " 'VINTAGE CARAVAN GREETING CARD ' 'GREEN ROSE WASHBAG'\n",
      " 'Not rcvd in 10/11/2010 delivery' 'IVORY GIANT GARDEN THERMOMETER'\n",
      " 'Thrown away-rusty' 'BLACK RECORD COVER FRAME' 'BLACK WINE GLASS'\n",
      " 'PAPER BUNTING WHITE LACE' 'ZINC FOLKART SLEIGH BELLS'\n",
      " 'sold as set/6 by dotcom' 'wet/rusty' 'damages/dotcom?'\n",
      " 'ENCHANTED BIRD PLANT CAGE' 'LARGE CAKE STAND HANGING HEARTS'\n",
      " 'VICTORIAN SEWING BOX SMALL ' 'METAL TUBE CHIME ON BAMBOO'\n",
      " 'ELVIS WALLHANGING / CURTAIN' 'SILVER APERITIF GLASS'\n",
      " 'GREY FLORAL FELTCRAFT SHOULDER BAG' 'GLASS CHALICE BLUE SMALL '\n",
      " 'JARDIN ETCHED GLASS FRUITBOWL' 'EMPIRE DESIGN ROSETTE'\n",
      " 'BAG 125g SWIRLY MARBLES' 'TEA FOR ONE POLKADOT'\n",
      " 'MULTI COLOUR SILVER T-LIGHT HOLDER' 'CHILDS GARDEN TROWEL BLUE '\n",
      " 'CHILDS GARDEN BRUSH BLUE' 'BOX OF 9 PEBBLE CANDLES'\n",
      " 'METAL SIGN,CUPCAKE SINGLE HOOK' 'ROSE DU SUD OVEN GLOVE'\n",
      " 'MIXED NUTS LIGHT GREEN BOWL' 'ORANGE TV TRAY TABLE '\n",
      " 'GINGERBREAD MAN COOKIE CUTTER' 'smashed' 'ORANGE FELT VASE + FLOWERS'\n",
      " 'CITRUS GARLAND FELT FLOWERS ' 'PINK POODLE HANGING DECORATION '\n",
      " 'HANGING HEART BASKET' 'ASSORTED FARMYARD ANIMALS IN BUCKET'\n",
      " 'ENGLISH ROSE NOTEBOOK A6 SIZE' 'ENGLISH ROSE SCENTED HANGING HEART'\n",
      " 'MAXWELL 2 TONE BLUE 60 PAGE PHOTO A'\n",
      " 'SET 12 LAVENDER  BOTANICAL T-LIGHTS' 'SOFT PINK ROSE TOWEL '\n",
      " 'reverse previous adjustment' 'incorrectly credited C550456 see 47'\n",
      " 'FLOWERS HANDBAG blue and orange' 'VINTAGE KEEPSAKE BOX TRAVELOGUE'\n",
      " 'SILVER BOOK MARK WITH BEADS' 'CANDY SPOT HEART DECORATION'\n",
      " 'YELLOW FELT HANGING HEART W FLOWER'\n",
      " 'BLUE FELT HANGING HEART WITH FLOWER' 'PINK FELT HANGING HEART W FLOWER'\n",
      " 'LUNCH BAG DOLLY GIRL DESIGN' 'LUNCH BAG APPLE DESIGN'\n",
      " 'WHITE BAMBOO RIBS LAMPSHADE' 'wet damaged'\n",
      " 'BLUE DELPHINIUM ARTIFICIAL FLOWER' 'WASH BAG VINTAGE ROSE PAISLEY'\n",
      " 'PICNIC BASKET WICKER LARGE' 'Water damaged' 'BLUE POLKADOT COFFEE MUG'\n",
      " 'ENAMEL PINK TEA CONTAINER' 'SET/6 BEAD COASTERS GAUZE BAG GOLD'\n",
      " 'BLUE PAPER PARASOL ' 'VINTAGE GLASS COFFEE CADDY'\n",
      " 'TEA TIME TEA SET IN GIFT BOX' 'missing' 'VINTAGE NOTEBOOK BEAUTY GIRL'\n",
      " 'HEN HOUSE W FAMILY IN BARN & NEST' 'CHILDS GARDEN BRUSH PINK'\n",
      " 'S/3 POT POURI CUSHIONS BLUE COLOURS' 'sold as set on dotcom'\n",
      " 'sold as set on dotcom and amazon' 'TEATIME PUSH DOWN RUBBER'\n",
      " 'POP ART PUSH DOWN RUBBER ' 'GOLD WINE GOBLET' 'BLACK MINI TAPE MEASURE '\n",
      " 'water damage' 'sold as set by dotcom' 'Printing smudges/thrown away'\n",
      " 'printing smudges/thrown away' 'PINK REGENCY TEACUP AND SAUCER'\n",
      " 'WHITE CHRYSANTHEMUMS ART FLOWER' 'LARGE WHITE/PINK ROSE ART FLOWER'\n",
      " 'found some more on shelf' 'BLUE DINER WALL CLOCK'\n",
      " 'ENGLISH ROSE METAL WASTE BIN' 'RED TEA TOWEL CLASSIC DESIGN'\n",
      " '12 RED ROSE PEG PLACE SETTINGS' '12 IVORY ROSE PEG PLACE SETTINGS'\n",
      " 'Show Samples' 'CARRIAGE' 'HYACINTH BULB T-LIGHT CANDLES'\n",
      " 'EAU DE NIL LOVE BIRD CANDLE' 'IVORY LOVE BIRD CANDLE'\n",
      " 'WHITE ALLIUM  ARTIFICIAL FLOWER' 'PURPLE FOXGLOVE ARTIIFCIAL FLOWER'\n",
      " 'BOX OF 24 COCKTAIL PARASOLS' 'SET OF 3 BUTTERFLY COOKIE CUTTERS'\n",
      " 'CARD BILLBOARD FONT' '3 TRADITIONAl BISCUIT CUTTERS  SET'\n",
      " 'ALARM CLOCK BAKELIKE IVORY' 'DOLLY GIRL LUNCH BOX'\n",
      " 'CABIN BAG VINTAGE PAISLEY' 'JUMBO SHOPPER VINTAGE RED PAISLEY'\n",
      " 'OFFICE MUG WARMER POLKADOT' 'PAPER CHAIN KIT RETROSPOT'\n",
      " 'PACK OF 12 PINK PAISLEY TISSUES ' 'PACK OF 12 RED RETROSPOT TISSUES '\n",
      " 'PINK VINTAGE PAISLEY PICNIC BAG' 'CHOCOLATE CALCULATOR'\n",
      " 'CLASSIC FRENCH STYLE BASKET GREEN ' 'HOME BUILDING BLOCK WORD'\n",
      " 'CLASSIC METAL BIRDCAGE PLANT HOLDER' 'PACK OF 72 RETROSPOT CAKE CASES'\n",
      " 'SET/10 RED POLKADOT PARTY CANDLES' 'LUNCH BAG RED RETROSPOT'\n",
      " 'RED RETROSPOT SHOPPER BAG' 'STRAWBERRY SHOPPER BAG'\n",
      " 'RED RETROSPOT LUGGAGE TAG' 'EDWARDIAN PARASOL NATURAL' 'PARTY BUNTING'\n",
      " \"MOTHER'S KITCHEN SPOON REST \" 'M/COLOUR POM-POM CURTAIN'\n",
      " 'CHERRY BLOSSOM TABLE CLOCK ' 'BEADED PEARL HEART WHITE LARGE'\n",
      " 'GROW YOUR OWN HERBS SET OF 3' 'GREEN HEART COMPACT MIRROR'\n",
      " 'SET OF 6 SPICE TINS PANTRY DESIGN' 'BLUE SAVANNAH PICNIC HAMPER FOR 2'\n",
      " 'mix up with c' 'PAPER BUNTING COLOURED LACE'\n",
      " 'BLUE CAT BISCUIT BARREL PINK HEART' 'CHARLIE AND LOLA TABLE TINS'\n",
      " 'SET/3 POLKADOT STACKING TINS' 'JAM MAKING SET WITH JARS'\n",
      " 'WHITE WITH BLACK CATS PLATE' 'ST GEORGE SET OF 10 PARTY LIGHTS'\n",
      " 'mouldy, unsaleable.' 'STRING OF STARS CARD HOLDER'\n",
      " 'HEART STRING MEMO HOLDER HANGING' 'GLITTER CHRISTMAS TREE'\n",
      " 'FOLKART CHRISTMAS TREE T-LIGHT HOLD' 'POTTING SHED TWINE'\n",
      " 'PINK BREAKFAST CUP AND SAUCER ' 'BLUE CHECK BAG W HANDLE 34X20CM'\n",
      " 'ENAMEL BLUE RIM COFFEE CONTAINER' 'PINK MONTE CARLO HANDBAG'\n",
      " 'WRAP PINK FAIRY CAKES ' 'PINK PAISLEY ROSE GIFT WRAP'\n",
      " 'DOORMAT MULTICOLOUR STRIPE' 'BLUE FLOCK GLASS CANDLEHOLDER'\n",
      " 'BIG DOUGHNUT FRIDGE MAGNETS' \"YOU'RE CONFUSING ME METAL SIGN \"\n",
      " 'MADRAS NOTEBOOK LARGE ' 'SOAP DISH BROCANTE'\n",
      " 'SMALL PINK MAGIC CHRISTMAS TREE' 'FINE WICKER HEART '\n",
      " 'VINTAGE RED TEATIME MUG' 'ROSES REGENCY TEACUP AND SAUCER '\n",
      " 'wrongly marked. 23343 in box' 'PINK/PURPLE CIRCLE CURTAIN'\n",
      " 'WHITE SPOT BLUE CERAMIC DRAWER KNOB' 'BLUE TRAVEL FIRST AID KIT'\n",
      " 'MEDIUM MEDINA STAMPED METAL BOWL ' 'PINK UNION JACK  PASSPORT COVER '\n",
      " 'PAINTED SEA SHELL METAL WINDCHIME' 'HEARTS WRAPPING TAPE '\n",
      " 'THE KING GIFT BAG' 'THE KING GIFT BAG 25x24x12cm' 'WRAP FOLK ART'\n",
      " 'FLOWER BLUE CLOCK WITH SUCKER' 'WHITE 3 FRAME BIRDS AND TREE '\n",
      " 'ASSORTED MINI MADRAS NOTEBOOK' 'ESSENTIAL BALM 3.5g TIN IN ENVELOPE'\n",
      " 'PINK ROUND COMPACT MIRROR' 'TEATIME GEL PENS ASST'\n",
      " 'ROUND BLUE CLOCK WITH SUCKER' 'FLOWER PURPLE CLOCK WITH SUCKER'\n",
      " 'PINK YELLOW PATCH CUSHION COVER' 'COLUMBIAN CANDLE ROUND '\n",
      " 'STRAWBRY SCENTED VOTIVE CANDLE' 'ASSORTED COLOURS SILK FAN'\n",
      " 'stock creditted wrongly' 'ZINC FINISH 15CM PLANTER POTS'\n",
      " 'CANDY SPOT CUSHION COVER' 'ENAMEL FLOWER JUG CREAM'\n",
      " 'ENAMEL WASH BOWL CREAM' 'COLOUR GLASS T-LIGHT HOLDER HANGING' 'ebay'\n",
      " 'CAMOUFLAGE DOG COLLAR' 'PINK FLOCK SUEDE CUSHION COVER '\n",
      " 'PINK GINGHAM CAT WITH SCARF' 'MUMMY MOUSE RED GINGHAM RIBBON'\n",
      " '*USB Office Mirror Ball' \"Dr. Jam's Arouzer Stress Ball\"\n",
      " 'PINK BUTTERFLY CUSHION COVER ' 'MA CAMPAGNE CUTLERY BOX'\n",
      " 'GARDENERS KNEELING PAD' 'PINK TALL PORCELAIN T-LIGHT HOLDER '\n",
      " 'VANILLA INCENSE 40 CONES IN TIN' 'SET/4 BLUE FLOWER CANDLES IN BOWL'\n",
      " 'VINTAGE KITCHEN PRINT PUDDINGS' 'LA PALMIERA WALL THERMOMETER'\n",
      " '12 PENCIL SMALL TUBE WOODLAND' 'TOP SECRET PEN SET'\n",
      " 'ECONOMY HOLIDAY PURSE' 'FLOWERS TILE HOOK' 'LA PALMIERA TILE HOOK'\n",
      " 'S/4 ICON COASTER,ELVIS LIVES' 'CHERRY BLOSSOM DECORATIVE FLASK'\n",
      " 'RED POLKADOT PUDDING BOWL' 'CONGRATULATIONS BUNTING'\n",
      " 'SPRIG LAVENDER ARTIFICIAL FLOWER' 'PURPLE ANEMONE ARTIFICIAL FLOWER'\n",
      " 'incorrectly put back into stock' 'DOORMAT KEEP CALM AND COME IN'\n",
      " 'SMALL SQUARE CUT GLASS CANDLESTICK' 'ENVELOPE 50 BLOSSOM IMAGES'\n",
      " 'Damages/samples' 'CHRISTMAS CARD STACK OF PRESENTS'\n",
      " 'CHRISTMAS CARD SINGING ANGEL' 'AIRLINE BAG VINTAGE TOKYO 78'\n",
      " 'LARGE TORTILLA DESIGN RED BOWL' 'WHITE BELL HONEYCOMB PAPER GARLAND '\n",
      " 'Sold as 1 on dotcom' 'FRENCH LAVENDER SCENT HEART'\n",
      " 'REGENCY MILK JUG PINK ' 'TEA TIME OVEN GLOVE'\n",
      " 'BISCUITS SMALL BOWL LIGHT BLUE' 'RED RETROSPOT BIG BOWL'\n",
      " 'CREAM SWEETHEART EGG HOLDER' 'HAND OVER THE CHOCOLATE   SIGN '\n",
      " 'PINK FLOWER FABRIC PONY' 'SET 12 KIDS COLOUR  CHALK STICKS'\n",
      " 'RABBIT NIGHT LIGHT' 'SET OF TEA COFFEE SUGAR TINS PANTRY'\n",
      " 'RELAX LARGE WOOD LETTERS' 'JUMBO BAG CHARLIE AND LOLA TOYS'\n",
      " 'MEDIUM WHITE/PINK ROSE ART FLOWER' 'POLKADOT PEN' 'taig adjust no stock'\n",
      " 'BLACK CHAMPAGNE GLASS' 'CUT GLASS HEXAGON T-LIGHT HOLDER'\n",
      " 'POLKADOT COFFEE CUP & SAUCER PINK' 'WHITE MURANO TWIST BRACELET'\n",
      " 'PINK HORSE SOCK PUPPET' 'BLUE SPOT CERAMIC DRAWER KNOB'\n",
      " 'WOODEN SKITTLES GARDEN SET' 'RECTANGULAR SHAPED MIRROR'\n",
      " \"I'M ON HOLIDAY METAL SIGN\" 'NO JUNK MAIL METAL SIGN'\n",
      " 'LAUNDRY 15C METAL SIGN' 'BEWARE OF THE CAT METAL SIGN '\n",
      " 'GIN + TONIC DIET METAL SIGN' 'RED RETROSPOT PURSE '\n",
      " 'S/15 SILVER GLASS BAUBLES IN BAG' 'GLITTER HEART GARLAND WITH BELLS '\n",
      " 'PINK ENAMEL+GLASS HAIR COMB' 'code mix up? 84930' '?display?'\n",
      " 'PIECE OF CAMO STATIONERY SET' 'sold as 1' '?missing'\n",
      " 'PINK STITCHED WALL CLOCK' 'crushed ctn'\n",
      " 'FUSCHIA FLOWER PURSE WITH BEADS' 'Crushed' 'SMALL DECO JEWELLERY STAND'\n",
      " 'FAIRY CAKE DESIGN UMBRELLA' \"DOLLY MIXTURE CHILDREN'S UMBRELLA\"\n",
      " 'DECORATION SITTING BUNNY' 'SET OF 36 DOILIES PANTRY DESIGN'\n",
      " 'temp adjustment' '??' 'test' 'PINK HEART RED HANDBAG'\n",
      " 'WOODLAND DESIGN  COTTON TOTE BAG' 'PINK JEWELLED PHOTO FRAME '\n",
      " 'LARGE DECO JEWELLERY STAND' '3 HOOK HANGER MAGIC GARDEN'\n",
      " 'SET/4 BIRD MIRROR MAGNETS ' '36 PENCILS TUBE WOODLAND'\n",
      " 'POPART WOODEN PENCILS ASST' 'FREESTYLE CANVAS ART PICTURE'\n",
      " 'MEASURING TAPE BABUSHKA PINK' 'PENCIL CASE LIFE IS BEAUTIFUL'\n",
      " 'GREEN ROUND COMPACT MIRROR' 'SMALL ZINC HEART WALL ORGANISER'\n",
      " 'OOPS ! adjustment' 'DRAWER KNOB CRACKLE GLAZE BLUE'\n",
      " 'BLUE GIANT GARDEN THERMOMETER' 'POTTERING IN THE SHED METAL SIGN'\n",
      " 'ORIGAMI VANILLA INCENSE/CANDLE SET ' 'BREAD BIN DINER STYLE RED '\n",
      " 'SAVE THE PLANET MUG' 'RECIPE BOX BLUE SKETCHBOOK DESIGN'\n",
      " 'DOORMAT PEACE ON EARTH BLUE' 'ZINC HERB GARDEN CONTAINER'\n",
      " '36 PENCILS TUBE POSY' 'DUSTY PINK CHRISTMAS TREE 30CM'\n",
      " 'TURQUOISE CHRISTMAS TREE ' 'MINI  ZINC GARDEN DECORATIONS ' 'Dagamed'\n",
      " 'SET OF 12 MINI BUNNIES IN A BUCKET' 'GRASS HOPPER WOODEN WALL CLOCK '\n",
      " 'WAKE UP COCKEREL TILE HOOK' 'ASSORTED TUTTI FRUTTI KEYRING BALL'\n",
      " 'BLUE TILED TRAY' 'S/4 GROOVY CAT MAGNETS'\n",
      " 'KINGS CHOICE GIANT TUBE MATCHES' 'DOORMAT CHRISTMAS VILLAGE'\n",
      " 'DIAMANTE BOW BROOCH BLACK COLOUR' 'SET OF 2 TINS VINTAGE BATHROOM '\n",
      " 'MINI CAKE STAND T-LIGHT HOLDER' 'WHITE AND BLUE CERAMIC OIL BURNER'\n",
      " 'WHITE STITCHED WALL CLOCK' 'HEADS AND TAILS SPORTING FUN'\n",
      " 'MONEY BOX BISCUITS DESIGN' 'MOROCCAN TEA GLASS' 'CHRISTMAS TOILET ROLL'\n",
      " 'BLUE POLKADOT PLATE ' 'historic computer difference?....se'\n",
      " 'LANTERN CREAM GAZEBO ' 'CHRISTMAS HANGING TREE WITH BELL'\n",
      " 'BLUE NEW BAROQUE CANDLESTICK CANDLE' 'ENGLISH ROSE GARDEN SECATEURS'\n",
      " 'IVORY SWEETHEART WIRE LETTER RACK ' 'DO NOT TOUCH MY STUFF DOOR HANGER '\n",
      " 'Incorrect stock entry.' 'incorrect stock entry.'\n",
      " 'RED RETROSPOT CAKE STAND' 'I CAN ONLY PLEASE ONE PERSON MUG'\n",
      " 'wrongly coded-23343' 'stock check' 'RED   ACRYLIC FACETED BANGLE'\n",
      " 'crushed boxes' 'SILVER AND BLACK ORBIT NECKLACE'\n",
      " 'GOLD M PEARL  ORBIT NECKLACE' 'WHITE  ROSEBUD PEARL BRACELET'\n",
      " 'PINK ROSEBUD PEARL BRACELET' 'BLUE POLKADOT BEAKER ' 'WET/MOULDY'\n",
      " \"can't find\" 'DOVE DECORATION PAINTED ZINC '\n",
      " 'PINK STOCKING CHRISTMAS DECORATION' 'STRIPEY CHOCOLATE NESTING BOXES'\n",
      " 'mouldy' 'BREAD BIN DINER STYLE PINK' 'SET/20 STRAWBERRY PAPER NAPKINS '\n",
      " 'RED  EGG  SPOON' 'SET/3 CHRISTMAS DECOUPAGE CANDLES'\n",
      " 'RED HEART LUGGAGE TAG' 'BROWN CHECK CAT DOORSTOP '\n",
      " 'SET OF 5 PANCAKE DAY MAGNETS' 'AIRLINE LOUNGE,METAL SIGN'\n",
      " 'Wet pallet-thrown away' '60 TEATIME FAIRY CAKE CASES'\n",
      " 'HANGING  BUTTERFLY T-LIGHT HOLDER' \"6 GIFT TAGS 50'S CHRISTMAS \"\n",
      " '6 GIFT TAGS VINTAGE CHRISTMAS ' \"ROLL WRAP 50'S RED CHRISTMAS \"\n",
      " \"ROLL WRAP 50'S CHRISTMAS\" 'ROLL WRAP VINTAGE SPOT '\n",
      " 'ROLL WRAP VINTAGE CHRISTMAS' 'VINTAGE CHRISTMAS STOCKING '\n",
      " 'CHERUB HEART DECORATION SILVER ' 'CHRISTMAS TREE HANGING SILVER '\n",
      " 'CHRISTMAS TREE HANGING GOLD' 'REINDEER HEART DECORATION GOLD'\n",
      " 'SET OF 6 T-LIGHTS SANTA' 'LUNCH BAG SUKI DESIGN '\n",
      " 'RED TOADSTOOL LED NIGHT LIGHT' 'LUNCH BAG  BLACK SKULL.'\n",
      " 'GARDENIA 1 WICK MORRIS BOXED CANDLE' 'adjustment'\n",
      " 'BLUE ROUND COMPACT MIRROR' 'PINK/WHITE CHRISTMAS TREE 30CM'\n",
      " 'ETCHED GLASS COASTER' 'FELTCRAFT CUSHION RABBIT' '20713 wrongly marked'\n",
      " 'CHINESE DRAGON PAPER LANTERNS' 're-adjustment' 'Breakages'\n",
      " 'CHRISTMAS DECOUPAGE CANDLE' 'HARDMAN MUG 3 ASSORTED' '20713'\n",
      " 'RETROSPOT LAMP' 'wrongly coded 20713'\n",
      " 'SET OF 10 LANTERNS FAIRY LIGHT STAR' 'Damages'\n",
      " 'WHITE CHRISTMAS GARLAND STARS TREES' 'SET OF 6 KASHMIR FOLKART BAUBLES'\n",
      " 'CHECK' 'Unsaleable, destroyed.' 'dotcom sales'\n",
      " 'VICTORIAN GLASS HANGING T-LIGHT' 'PLEASE ONE PERSON METAL SIGN'\n",
      " 'damages wax' 'water damaged' 'WOODEN ADVENT CALENDAR RED'\n",
      " 'Wrongly mrked had 85123a in box' 'wrongly marked carton 22804'\n",
      " 'missing?' 'RUSTIC  SEVENTEEN DRAWER SIDEBOARD' 'wet rusty'\n",
      " 'ORIGAMI JASMINE INCENSE/CANDLE SET' 'POTTING SHED TEA MUG'\n",
      " 'ASSORTED CREEPY CRAWLIES' 'METAL SIGN NEIGHBOURHOOD WITCH ' '???lost'\n",
      " '4 WILDFLOWER BOTANICAL CANDLES' 'sold with wrong barcode'\n",
      " 'BEADED CHANDELIER T-LIGHT HOLDER' 'FLOWERS CHANDELIER T-LIGHT HOLDER'\n",
      " 'IVORY CHANDELIER T-LIGHT HOLDER' 'rusty thrown away' 'rusty throw away'\n",
      " 'HOT STUFF HOT WATER BOTTLE' 'HOT WATER BOTTLE KEEP CALM'\n",
      " 'HOT WATER BOTTLE I AM SO POORLY' 'CHOCOLATE HOT WATER BOTTLE' 'dotcom'\n",
      " '?? missing' 'wet pallet' 'MISTLETOE HEART WREATH CREAM'\n",
      " 'WOODEN TREE CHRISTMAS SCANDINAVIAN' '????missing' '???missing'\n",
      " 'ASSORTED TUTTI FRUTTI NOTEBOOK' 'lost in space'\n",
      " 'LARGE CAKE TOWEL PINK SPOTS' 'OWL DOORSTOP'\n",
      " 'ASS FLORAL PRINT MULTI SCREWDRIVER' 'wet?' 'lost??'\n",
      " 'ASSORTED SHAPES PHOTO CLIP SILVER ' 'FAMILY ALBUM WHITE PICTURE FRAME'\n",
      " 'VINTAGE SHELLS PRINT' '???' 'wet' 'wet boxes'\n",
      " 'DOG TOY WITH PINK CROCHET SKIRT' '????damages????' 'mixed up' 'lost']\n"
     ]
    }
   ],
   "source": [
    "#Dime los tipos de descripción que hay en el dataframe df2 del cummerID '12345`\n",
    "descripciones_cust_12345 = df2[df2['CustomerID'] == 12345]['Description'].unique()\n",
    "print(f'Descripciones del CustomerID 12345: {descripciones_cust_12345}')"
   ]
  },
  {
   "cell_type": "code",
   "execution_count": 29,
   "id": "df520d63",
   "metadata": {},
   "outputs": [
    {
     "name": "stdout",
     "output_type": "stream",
     "text": [
      "Suma de cantidades del CustomerID 12345: -208672\n"
     ]
    }
   ],
   "source": [
    "#sumame las columnas Quantity, cuyo CustomerID sea igual a 12345\n",
    "suma_cantidades_cust_12345 = df2[df2['CustomerID'] == 12345]['Quantity'].sum()\n",
    "print(f'Suma de cantidades del CustomerID 12345: {suma_cantidades_cust_12345}')"
   ]
  },
  {
   "cell_type": "code",
   "execution_count": 30,
   "id": "ef75760c",
   "metadata": {},
   "outputs": [
    {
     "name": "stdout",
     "output_type": "stream",
     "text": [
      "Datos con el mismo CustomerID y InvoiceNo: 0\n"
     ]
    }
   ],
   "source": [
    "#Dime cuantos datos tienen el mismo valor en CustomerID y invoiceNo\n",
    "datos_mismo_cust_invoice = df1[df1['CustomerID'] == df1['InvoiceNo']]['CustomerID'].count()\n",
    "print(f'Datos con el mismo CustomerID y InvoiceNo: {datos_mismo_cust_invoice}')"
   ]
  },
  {
   "cell_type": "code",
   "execution_count": 32,
   "id": "6064cf37",
   "metadata": {},
   "outputs": [
    {
     "name": "stdout",
     "output_type": "stream",
     "text": [
      "Valores nulos en CustomerID: 0\n"
     ]
    }
   ],
   "source": [
    "#Dime cuantos valores nulos hay en la columna CustomerID.\n",
    "valores_nulos_customerID = df1['CustomerID'].isnull().sum()\n",
    "print(f'Valores nulos en CustomerID: {valores_nulos_customerID}')\n"
   ]
  },
  {
   "cell_type": "code",
   "execution_count": 33,
   "id": "a2bb7f53",
   "metadata": {},
   "outputs": [
    {
     "name": "stdout",
     "output_type": "stream",
     "text": [
      "Datos con CustomerID 12345: 134931\n"
     ]
    }
   ],
   "source": [
    "#Dime cuantos datos hay cuyo CustomerID sea 12345\n",
    "datos_cust_12345 = df1[df1['CustomerID'] == 12345].shape[0]\n",
    "print(f'Datos con CustomerID 12345: {datos_cust_12345}')"
   ]
  },
  {
   "cell_type": "code",
   "execution_count": 34,
   "id": "d6b37545",
   "metadata": {},
   "outputs": [
    {
     "name": "stdout",
     "output_type": "stream",
     "text": [
      "El CustomerID 12345 está en 9 países diferentes.\n"
     ]
    }
   ],
   "source": [
    "#Dime en cuantos paises esta el CustomerID 12345\n",
    "paises_cust_12345 = df1[df1['CustomerID'] == 12345]['Country'].nunique()\n",
    "print(f'El CustomerID 12345 está en {paises_cust_12345} países diferentes.')"
   ]
  },
  {
   "cell_type": "code",
   "execution_count": null,
   "id": "7ecd7c51",
   "metadata": {},
   "outputs": [],
   "source": []
  },
  {
   "cell_type": "markdown",
   "id": "01a5feaa",
   "metadata": {},
   "source": [
    "#Resumen parte 1\n",
    "1. La cantidad de productos comprados son 5.310.832, de los cuales 133.436 son compras no efectivas, por lo que dejamos en 5.177.396 compras efectivas (Las cantidades que se devuelve se retas, solo son compras efectivas al 100%)\n",
    "2. Se identifico que 10.494 devoluciones, que representa 483.479 productos devueltos, que equivale a 175.228,73 de libras esterlinas. \n",
    "3. Hay 4.373 usuarios diferentes, cuyo 1.590 usuarios hicieron devoluciones.\n",
    "4. Se observa que el usuario que mas compras devueltas fue el ID 12345 cuya cantidad de productos fue 208.672\n",
    "\n"
   ]
  }
 ],
 "metadata": {
  "kernelspec": {
   "display_name": "Python 3",
   "language": "python",
   "name": "python3"
  },
  "language_info": {
   "codemirror_mode": {
    "name": "ipython",
    "version": 3
   },
   "file_extension": ".py",
   "mimetype": "text/x-python",
   "name": "python",
   "nbconvert_exporter": "python",
   "pygments_lexer": "ipython3",
   "version": "3.13.2"
  }
 },
 "nbformat": 4,
 "nbformat_minor": 5
}
