{
 "cells": [
  {
   "cell_type": "code",
   "execution_count": 1,
   "id": "1d76c8c1",
   "metadata": {},
   "outputs": [],
   "source": [
    "#crear un dataframe con el arcivo csv. \n",
    "import pandas as pd\n",
    "# Cargar el archivo CSV en un DataFrame\n",
    "df = pd.read_csv('online_retail_cleaned.csv')\n"
   ]
  },
  {
   "cell_type": "code",
   "execution_count": 2,
   "id": "f65b43df",
   "metadata": {},
   "outputs": [
    {
     "data": {
      "text/html": [
       "<div>\n",
       "<style scoped>\n",
       "    .dataframe tbody tr th:only-of-type {\n",
       "        vertical-align: middle;\n",
       "    }\n",
       "\n",
       "    .dataframe tbody tr th {\n",
       "        vertical-align: top;\n",
       "    }\n",
       "\n",
       "    .dataframe thead th {\n",
       "        text-align: right;\n",
       "    }\n",
       "</style>\n",
       "<table border=\"1\" class=\"dataframe\">\n",
       "  <thead>\n",
       "    <tr style=\"text-align: right;\">\n",
       "      <th></th>\n",
       "      <th>InvoiceNo</th>\n",
       "      <th>StockCode</th>\n",
       "      <th>Description</th>\n",
       "      <th>Quantity</th>\n",
       "      <th>InvoiceDate</th>\n",
       "      <th>UnitPrice</th>\n",
       "      <th>CustomerID</th>\n",
       "      <th>Country</th>\n",
       "    </tr>\n",
       "  </thead>\n",
       "  <tbody>\n",
       "    <tr>\n",
       "      <th>0</th>\n",
       "      <td>536365</td>\n",
       "      <td>85123A</td>\n",
       "      <td>WHITE HANGING HEART T-LIGHT HOLDER</td>\n",
       "      <td>6</td>\n",
       "      <td>2010-12-01 08:26:00</td>\n",
       "      <td>2.55</td>\n",
       "      <td>17850.0</td>\n",
       "      <td>United Kingdom</td>\n",
       "    </tr>\n",
       "    <tr>\n",
       "      <th>1</th>\n",
       "      <td>536365</td>\n",
       "      <td>71053</td>\n",
       "      <td>WHITE METAL LANTERN</td>\n",
       "      <td>6</td>\n",
       "      <td>2010-12-01 08:26:00</td>\n",
       "      <td>3.39</td>\n",
       "      <td>17850.0</td>\n",
       "      <td>United Kingdom</td>\n",
       "    </tr>\n",
       "    <tr>\n",
       "      <th>2</th>\n",
       "      <td>536365</td>\n",
       "      <td>84406B</td>\n",
       "      <td>CREAM CUPID HEARTS COAT HANGER</td>\n",
       "      <td>8</td>\n",
       "      <td>2010-12-01 08:26:00</td>\n",
       "      <td>2.75</td>\n",
       "      <td>17850.0</td>\n",
       "      <td>United Kingdom</td>\n",
       "    </tr>\n",
       "    <tr>\n",
       "      <th>3</th>\n",
       "      <td>536365</td>\n",
       "      <td>84029G</td>\n",
       "      <td>KNITTED UNION FLAG HOT WATER BOTTLE</td>\n",
       "      <td>6</td>\n",
       "      <td>2010-12-01 08:26:00</td>\n",
       "      <td>3.39</td>\n",
       "      <td>17850.0</td>\n",
       "      <td>United Kingdom</td>\n",
       "    </tr>\n",
       "    <tr>\n",
       "      <th>4</th>\n",
       "      <td>536365</td>\n",
       "      <td>84029E</td>\n",
       "      <td>RED WOOLLY HOTTIE WHITE HEART.</td>\n",
       "      <td>6</td>\n",
       "      <td>2010-12-01 08:26:00</td>\n",
       "      <td>3.39</td>\n",
       "      <td>17850.0</td>\n",
       "      <td>United Kingdom</td>\n",
       "    </tr>\n",
       "  </tbody>\n",
       "</table>\n",
       "</div>"
      ],
      "text/plain": [
       "  InvoiceNo StockCode                          Description  Quantity  \\\n",
       "0    536365    85123A   WHITE HANGING HEART T-LIGHT HOLDER         6   \n",
       "1    536365     71053                  WHITE METAL LANTERN         6   \n",
       "2    536365    84406B       CREAM CUPID HEARTS COAT HANGER         8   \n",
       "3    536365    84029G  KNITTED UNION FLAG HOT WATER BOTTLE         6   \n",
       "4    536365    84029E       RED WOOLLY HOTTIE WHITE HEART.         6   \n",
       "\n",
       "           InvoiceDate  UnitPrice  CustomerID         Country  \n",
       "0  2010-12-01 08:26:00       2.55     17850.0  United Kingdom  \n",
       "1  2010-12-01 08:26:00       3.39     17850.0  United Kingdom  \n",
       "2  2010-12-01 08:26:00       2.75     17850.0  United Kingdom  \n",
       "3  2010-12-01 08:26:00       3.39     17850.0  United Kingdom  \n",
       "4  2010-12-01 08:26:00       3.39     17850.0  United Kingdom  "
      ]
     },
     "execution_count": 2,
     "metadata": {},
     "output_type": "execute_result"
    }
   ],
   "source": [
    "df.head()"
   ]
  },
  {
   "cell_type": "code",
   "execution_count": 7,
   "id": "402d527f",
   "metadata": {},
   "outputs": [
    {
     "name": "stdout",
     "output_type": "stream",
     "text": [
      "<class 'pandas.core.frame.DataFrame'>\n",
      "RangeIndex: 541759 entries, 0 to 541758\n",
      "Data columns (total 8 columns):\n",
      " #   Column       Non-Null Count   Dtype         \n",
      "---  ------       --------------   -----         \n",
      " 0   InvoiceNo    541759 non-null  object        \n",
      " 1   StockCode    541759 non-null  object        \n",
      " 2   Description  541759 non-null  object        \n",
      " 3   Quantity     541759 non-null  int64         \n",
      " 4   InvoiceDate  541759 non-null  datetime64[ns]\n",
      " 5   UnitPrice    541759 non-null  float64       \n",
      " 6   CustomerID   541759 non-null  Int64         \n",
      " 7   Country      541759 non-null  object        \n",
      "dtypes: Int64(1), datetime64[ns](1), float64(1), int64(1), object(4)\n",
      "memory usage: 33.6+ MB\n"
     ]
    }
   ],
   "source": [
    "df.info()\n"
   ]
  },
  {
   "cell_type": "code",
   "execution_count": 4,
   "id": "14e7dae9",
   "metadata": {},
   "outputs": [],
   "source": [
    "# cambiar la columna 'InvoiceDate' a tipo fecha\n",
    "df['InvoiceDate'] = pd.to_datetime(df['InvoiceDate'], format='%Y-%m-%d %H:%M:%S')\n",
    "# Verificar el tipo de dato de la columna 'InvoiceDate'"
   ]
  },
  {
   "cell_type": "code",
   "execution_count": 6,
   "id": "715ff540",
   "metadata": {},
   "outputs": [],
   "source": [
    "# cambiar la columna costumerID a tipo entero\n",
    "df['CustomerID'] = pd.to_numeric(df['CustomerID'], errors='coerce').astype('Int64')"
   ]
  },
  {
   "cell_type": "code",
   "execution_count": 19,
   "id": "45088d0c",
   "metadata": {},
   "outputs": [
    {
     "name": "stdout",
     "output_type": "stream",
     "text": [
      "   CustomerID  AveragePurchase\n",
      "0       12345         6.321775\n",
      "1       12346         1.040000\n",
      "2       12347         2.644011\n",
      "3       12348         5.764839\n",
      "4       12349         8.289041\n"
     ]
    }
   ],
   "source": [
    "# obtener Cual es la compra media por cliente\n",
    "average_purchase_per_customer = df.groupby('CustomerID')['UnitPrice'].mean().reset_index()\n",
    "# Muestra el resultado en un cuadro\n",
    "average_purchase_per_customer.columns = ['CustomerID', 'AveragePurchase']\n",
    "print(average_purchase_per_customer.head())\n"
   ]
  },
  {
   "cell_type": "code",
   "execution_count": 20,
   "id": "14b6de51",
   "metadata": {},
   "outputs": [
    {
     "name": "stdout",
     "output_type": "stream",
     "text": [
      "     Month  CustomerID  AveragePurchase\n",
      "0  2010-12       12345         6.927921\n",
      "1  2010-12       12347         2.890000\n",
      "2  2010-12       12348         2.917647\n",
      "3  2010-12       12370         2.894286\n",
      "4  2010-12       12377         2.106279\n",
      "     Month  CustomerID StockCode  AveragePurchase\n",
      "0  2010-12       12345     10002         1.602143\n",
      "1  2010-12       12345     10125         1.447500\n",
      "2  2010-12       12345     10133         1.235000\n",
      "3  2010-12       12345     10135         2.422143\n",
      "4  2010-12       12345     11001         3.081667\n",
      "     Month  CustomerID StockCode  AveragePurchase\n",
      "0  2010-12       12345     10002         1.602143\n",
      "1  2010-12       12345     10125         1.447500\n",
      "2  2010-12       12345     10133         1.235000\n",
      "3  2010-12       12345     10135         2.422143\n",
      "4  2010-12       12345     11001         3.081667\n"
     ]
    }
   ],
   "source": [
    "# obtener la compra media por mes por cliente\n",
    "average_purchase_per_month = df.groupby([df['InvoiceDate'].dt.to_period('M'), 'CustomerID'])['UnitPrice'].mean().reset_index()\n",
    "# Muestra el resultado claro\n",
    "average_purchase_per_month.columns = ['Month', 'CustomerID', 'AveragePurchase']\n",
    "print(average_purchase_per_month.head())\n",
    "# obtener la compra media por mes por cliente y por producto\n",
    "average_purchase_per_month_product = df.groupby([df['InvoiceDate'].dt.to_period('M'), 'CustomerID', 'StockCode'])['UnitPrice'].mean().reset_index()\n",
    "# Muestra el resultado claro\n",
    "average_purchase_per_month_product.columns = ['Month', 'CustomerID', 'StockCode', 'AveragePurchase']\n",
    "print(average_purchase_per_month_product.head())\n",
    "# obtener la compra media por mes por cliente y por producto, ordenado por mes\n",
    "average_purchase_per_month_product_sorted = average_purchase_per_month_product.sort_values(by=['Month', 'CustomerID', 'StockCode'])\n",
    "print(average_purchase_per_month_product_sorted.head())\n",
    "# Guardar el DataFrame resultante en un nuevo archivo CSV\n",
    "average_purchase_per_month_product_sorted.to_csv('average_purchase_per_month_product_sorted.csv', index=False)"
   ]
  },
  {
   "cell_type": "code",
   "execution_count": 23,
   "id": "d48def31",
   "metadata": {},
   "outputs": [
    {
     "name": "stdout",
     "output_type": "stream",
     "text": [
      "   Year  CustomerID  AveragePurchase\n",
      "0  2010       12345         6.927921\n",
      "1  2010       12347         2.890000\n",
      "2  2010       12348         2.917647\n",
      "3  2010       12370         2.894286\n",
      "4  2010       12377         2.106279\n",
      "   Year  CustomerID StockCode  AveragePurchase\n",
      "0  2010       12345     10002         1.602143\n",
      "1  2010       12345     10125         1.447500\n",
      "2  2010       12345     10133         1.235000\n",
      "3  2010       12345     10135         2.422143\n",
      "4  2010       12345     11001         3.081667\n",
      "   Year  AveragePurchase\n",
      "0  2010         4.573709\n",
      "1  2011         4.061002\n"
     ]
    }
   ],
   "source": [
    "# obtener la compra media por año por cliente\n",
    "average_purchase_per_year = df.groupby([df['InvoiceDate'].dt.to_period('Y'), 'CustomerID'])['UnitPrice'].mean().reset_index()\n",
    "# Muestra el resultado claro\n",
    "average_purchase_per_year.columns = ['Year', 'CustomerID', 'AveragePurchase']\n",
    "print(average_purchase_per_year.head())\n",
    "# obtener la compra media por año por cliente y por producto\n",
    "average_purchase_per_year_product = df.groupby([df['InvoiceDate'].dt.to_period('Y'), 'CustomerID', 'StockCode'])['UnitPrice'].mean().reset_index()\n",
    "# Muestra el resultado claro\n",
    "average_purchase_per_year_product.columns = ['Year', 'CustomerID', 'StockCode', 'AveragePurchase']\n",
    "print(average_purchase_per_year_product.head())\n",
    "# obtener la compra media por año todos los productos\n",
    "average_purchase_per_year_all_products = df.groupby([df['InvoiceDate'].dt.to_period('Y')])['UnitPrice'].mean().reset_index()\n",
    "# Muestra el resultado por columnas\n",
    "average_purchase_per_year_all_products.columns = ['Year', 'AveragePurchase']\n",
    "print(average_purchase_per_year_all_products.head())"
   ]
  },
  {
   "cell_type": "code",
   "execution_count": 31,
   "id": "3a2e99da",
   "metadata": {},
   "outputs": [
    {
     "name": "stdout",
     "output_type": "stream",
     "text": [
      "   Year  CustomerID  AveragePurchase\n",
      "0  2010       12345         6.927921\n",
      "1  2010       12347         2.890000\n",
      "2  2010       12348         2.917647\n",
      "3  2010       12370         2.894286\n",
      "4  2010       12377         2.106279\n"
     ]
    }
   ],
   "source": [
    "# muestra el resultado por columnas de la compra media por año todos los productos por cliente\n",
    "average_purchase_per_year_all_products_customer = df.groupby([df['InvoiceDate'].dt.to_period('Y'), 'CustomerID'])['UnitPrice'].mean().reset_index()\n",
    "# Muestra el resultado por columnas\n",
    "average_purchase_per_year_all_products_customer.columns = ['Year', 'CustomerID', 'AveragePurchase']\n",
    "print(average_purchase_per_year_all_products_customer.head())"
   ]
  },
  {
   "cell_type": "code",
   "execution_count": 32,
   "id": "3d6f2960",
   "metadata": {},
   "outputs": [
    {
     "name": "stdout",
     "output_type": "stream",
     "text": [
      "   Year  CustomerID StockCode  AveragePurchase\n",
      "0  2010       12345     10002         1.602143\n",
      "1  2010       12345     10125         1.447500\n",
      "2  2010       12345     10133         1.235000\n",
      "3  2010       12345     10135         2.422143\n",
      "4  2010       12345     11001         3.081667\n"
     ]
    }
   ],
   "source": [
    "# muestra el promedio de compra por año por cliente y por producto\n",
    "average_purchase_per_year_all_products_customer_product = df.groupby([df['InvoiceDate'].dt.to_period('Y'), 'CustomerID', 'StockCode'])['UnitPrice'].mean().reset_index()\n",
    "# Muestra el resultado por columnas\n",
    "average_purchase_per_year_all_products_customer_product.columns = ['Year', 'CustomerID', 'StockCode', 'AveragePurchase']\n",
    "print(average_purchase_per_year_all_products_customer_product.head())"
   ]
  },
  {
   "cell_type": "code",
   "execution_count": null,
   "id": "8577ecf0",
   "metadata": {},
   "outputs": [],
   "source": []
  }
 ],
 "metadata": {
  "kernelspec": {
   "display_name": "Python 3",
   "language": "python",
   "name": "python3"
  },
  "language_info": {
   "codemirror_mode": {
    "name": "ipython",
    "version": 3
   },
   "file_extension": ".py",
   "mimetype": "text/x-python",
   "name": "python",
   "nbconvert_exporter": "python",
   "pygments_lexer": "ipython3",
   "version": "3.13.2"
  }
 },
 "nbformat": 4,
 "nbformat_minor": 5
}
