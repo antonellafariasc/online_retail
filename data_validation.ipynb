{
 "cells": [
  {
   "cell_type": "markdown",
   "id": "2f94cd8b",
   "metadata": {},
   "source": [
    "Con el DataFrame ya Transformado, se procede a hacer un análisis mas detallado de los datos, previo al analisis del estudio (Diseño Análitico)"
   ]
  },
  {
   "cell_type": "code",
   "execution_count": 6,
   "id": "1f6f82a9",
   "metadata": {},
   "outputs": [],
   "source": [
    "import pandas as pd\n",
    "import numpy as np\n",
    "import seaborn as sns\n",
    "import matplotlib.pyplot as plt"
   ]
  },
  {
   "cell_type": "code",
   "execution_count": 12,
   "id": "f25cde1c",
   "metadata": {},
   "outputs": [
    {
     "name": "stdout",
     "output_type": "stream",
     "text": [
      "<class 'pandas.core.frame.DataFrame'>\n",
      "RangeIndex: 541759 entries, 0 to 541758\n",
      "Data columns (total 8 columns):\n",
      " #   Column       Non-Null Count   Dtype  \n",
      "---  ------       --------------   -----  \n",
      " 0   InvoiceNo    541759 non-null  object \n",
      " 1   StockCode    541759 non-null  object \n",
      " 2   Description  541759 non-null  object \n",
      " 3   Quantity     541759 non-null  int64  \n",
      " 4   InvoiceDate  541759 non-null  object \n",
      " 5   UnitPrice    541759 non-null  float64\n",
      " 6   CustomerID   541759 non-null  float64\n",
      " 7   Country      541759 non-null  object \n",
      "dtypes: float64(2), int64(1), object(5)\n",
      "memory usage: 33.1+ MB\n"
     ]
    }
   ],
   "source": [
    "# Load the dataset\n",
    "df_online_retail = pd.read_csv('online_retail_cleaned.csv')\n",
    "df_online_retail.info()"
   ]
  },
  {
   "cell_type": "code",
   "execution_count": 13,
   "id": "acfce45c",
   "metadata": {},
   "outputs": [
    {
     "name": "stdout",
     "output_type": "stream",
     "text": [
      "Number of rows: 541759\n",
      "Number of columns: 8\n"
     ]
    }
   ],
   "source": [
    "# Recordar el número de filas y columnas\n",
    "print(f\"Number of rows: {df_online_retail.shape[0]}\")\n",
    "print(f\"Number of columns: {df_online_retail.shape[1]}\")"
   ]
  },
  {
   "cell_type": "code",
   "execution_count": 14,
   "id": "768c78cd",
   "metadata": {},
   "outputs": [
    {
     "data": {
      "text/html": [
       "<div>\n",
       "<style scoped>\n",
       "    .dataframe tbody tr th:only-of-type {\n",
       "        vertical-align: middle;\n",
       "    }\n",
       "\n",
       "    .dataframe tbody tr th {\n",
       "        vertical-align: top;\n",
       "    }\n",
       "\n",
       "    .dataframe thead th {\n",
       "        text-align: right;\n",
       "    }\n",
       "</style>\n",
       "<table border=\"1\" class=\"dataframe\">\n",
       "  <thead>\n",
       "    <tr style=\"text-align: right;\">\n",
       "      <th></th>\n",
       "      <th>Quantity</th>\n",
       "      <th>UnitPrice</th>\n",
       "      <th>CustomerID</th>\n",
       "    </tr>\n",
       "  </thead>\n",
       "  <tbody>\n",
       "    <tr>\n",
       "      <th>count</th>\n",
       "      <td>541759.00000</td>\n",
       "      <td>541759.000000</td>\n",
       "      <td>541759.000000</td>\n",
       "    </tr>\n",
       "    <tr>\n",
       "      <th>mean</th>\n",
       "      <td>9.55664</td>\n",
       "      <td>4.101184</td>\n",
       "      <td>14554.781672</td>\n",
       "    </tr>\n",
       "    <tr>\n",
       "      <th>std</th>\n",
       "      <td>218.11106</td>\n",
       "      <td>34.951793</td>\n",
       "      <td>1955.672182</td>\n",
       "    </tr>\n",
       "    <tr>\n",
       "      <th>min</th>\n",
       "      <td>-80995.00000</td>\n",
       "      <td>0.000000</td>\n",
       "      <td>12345.000000</td>\n",
       "    </tr>\n",
       "    <tr>\n",
       "      <th>25%</th>\n",
       "      <td>1.00000</td>\n",
       "      <td>1.250000</td>\n",
       "      <td>12356.000000</td>\n",
       "    </tr>\n",
       "    <tr>\n",
       "      <th>50%</th>\n",
       "      <td>3.00000</td>\n",
       "      <td>2.080000</td>\n",
       "      <td>14382.000000</td>\n",
       "    </tr>\n",
       "    <tr>\n",
       "      <th>75%</th>\n",
       "      <td>10.00000</td>\n",
       "      <td>4.130000</td>\n",
       "      <td>16255.000000</td>\n",
       "    </tr>\n",
       "    <tr>\n",
       "      <th>max</th>\n",
       "      <td>80995.00000</td>\n",
       "      <td>8142.750000</td>\n",
       "      <td>18287.000000</td>\n",
       "    </tr>\n",
       "  </tbody>\n",
       "</table>\n",
       "</div>"
      ],
      "text/plain": [
       "           Quantity      UnitPrice     CustomerID\n",
       "count  541759.00000  541759.000000  541759.000000\n",
       "mean        9.55664       4.101184   14554.781672\n",
       "std       218.11106      34.951793    1955.672182\n",
       "min    -80995.00000       0.000000   12345.000000\n",
       "25%         1.00000       1.250000   12356.000000\n",
       "50%         3.00000       2.080000   14382.000000\n",
       "75%        10.00000       4.130000   16255.000000\n",
       "max     80995.00000    8142.750000   18287.000000"
      ]
     },
     "execution_count": 14,
     "metadata": {},
     "output_type": "execute_result"
    }
   ],
   "source": [
    "df_online_retail.describe()"
   ]
  },
  {
   "cell_type": "markdown",
   "id": "9277c174",
   "metadata": {},
   "source": [
    "#### Objetivos del Proyecto\n",
    "##### Generacion de Insight:\n",
    "- Identificar los Productos mas vendidos\n",
    "- Analizar el comportamiento de compras de los clientes  \n",
    "- Determinar picos de ventas en términos de tiempo \n",
    "#### Analizar los datos para encontrar resultados y conclusiones que puedan tener impacto en el proyecto:\n",
    "- Ventas y Tendencias \n",
    "- Productos y Cliente \n",
    "- Clientes y Pedidos "
   ]
  },
  {
   "cell_type": "code",
   "execution_count": null,
   "id": "308cabeb",
   "metadata": {},
   "outputs": [],
   "source": []
  }
 ],
 "metadata": {
  "kernelspec": {
   "display_name": "Python 3",
   "language": "python",
   "name": "python3"
  },
  "language_info": {
   "codemirror_mode": {
    "name": "ipython",
    "version": 3
   },
   "file_extension": ".py",
   "mimetype": "text/x-python",
   "name": "python",
   "nbconvert_exporter": "python",
   "pygments_lexer": "ipython3",
   "version": "3.13.3"
  }
 },
 "nbformat": 4,
 "nbformat_minor": 5
}
